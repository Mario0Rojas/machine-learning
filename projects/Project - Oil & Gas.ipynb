{
 "cells": [
  {
   "cell_type": "markdown",
   "metadata": {
    "slideshow": {
     "slide_type": "-"
    }
   },
   "source": [
    "# Oil & Gas Industry -  Electrical Submersible Pumps"
   ]
  },
  {
   "cell_type": "markdown",
   "metadata": {
    "slideshow": {
     "slide_type": "-"
    }
   },
   "source": [
    "## Introduction"
   ]
  },
  {
   "cell_type": "markdown",
   "metadata": {},
   "source": [
    "### In the oil and gas industry, electric submersible pump (ESP) systems are probably best known as an effective artificial lift method of pumping production fluids to the surface."
   ]
  },
  {
   "cell_type": "markdown",
   "metadata": {},
   "source": [
    "Electrical submersible pump (ESP) assemblies include the following:"
   ]
  },
  {
   "cell_type": "markdown",
   "metadata": {},
   "source": [
    "<img src=\"images/image.jpg\",width=444,height=200>\n"
   ]
  },
  {
   "cell_type": "markdown",
   "metadata": {},
   "source": [
    "The electric motor has a rotatable rotor that is contained in a stationary stator. When the motor operates, the rotor rotates causing rotary vibrations of the ESP assembly to occur. \n",
    "\n",
    "ESPs are fitted with downhole monitoring units that transmit streams of data back to the surface.\n",
    "\n",
    "For this project, I was asked to create a model that will predict the following triggers: UP, DOWN, and WARNING \n",
    "\n",
    "Failure of an ESP in a well can stop production or even lead to a dangerous event."
   ]
  },
  {
   "cell_type": "markdown",
   "metadata": {
    "collapsed": true
   },
   "source": [
    "## Variable Descriptions\n",
    "\n",
    "\n",
    "\n",
    "|    Columns | Description    |\n",
    "|-------------|-------------|\n",
    "    | well_id | Well Id (unit) |\n",
    "    | field | 2 fields: SIRHAN & WEST SAFAWI (location) |\n",
    "    | block | 7 blocks in field: 'A1', 'B1', 'C1', 'B2', 'C3', 'D1', 'D9' |\n",
    "    | esp_sr_no | ESP Serial Number 001-031    |\n",
    "    | vendor | Vendors: 1,2,3 (pump manufacturer)  |\n",
    "    | depth  | depth of well in f.t. |\n",
    "    | bean | ??  |\n",
    "    | perf  | performance range (low - high)  |\n",
    "    | date_install | Date the unit was intalled  |\n",
    "    | water_cut | volume or % of water (daily flow says how profitable the well is)  |\n",
    "    | daily_flow | Oil production in barrel/day  |\n",
    "    | num_work_orders | # tickets of work orders generated for this device  |\n",
    "    | avg_maintenance_cost_monthl | How much does it cost every month   |\n",
    "    | status | 3 in total: Running - Warning - Down |\n",
    "    | avg_uptime |  % of time ESP is running |\n",
    "    | daily_production_variance  | difference between forecasted production volume and actual production volume  |\n",
    "    | region | All wells are in the U.S.  |\n",
    "    | time | hh:mm:ss  |\n",
    "    | Ti_C | temp intake |\n",
    "    | Pi_Psia | intake and discharge pressure |\n",
    "    | Vx_g | pump vibration (radial) |\n",
    "    | Vy_g | pump vibration (axial) |\n",
    "    | Tm_C | motor temperature |\n",
    "    | Mor_Ohm | motor resistance |\n",
    "    | Lc_mA | motor current  |\n",
    "    | Lv_V  | Leakage voltage |\n",
    "\n",
    "#### Side notes\n",
    "* **Pump Vibration** - It's necessary to be concerned about vibration because it has a major affect on the performance of your pump\n"
   ]
  },
  {
   "cell_type": "markdown",
   "metadata": {},
   "source": [
    "## Import Libraries"
   ]
  },
  {
   "cell_type": "code",
   "execution_count": 1,
   "metadata": {
    "collapsed": true
   },
   "outputs": [],
   "source": [
    "%matplotlib inline\n"
   ]
  },
  {
   "cell_type": "code",
   "execution_count": 2,
   "metadata": {
    "collapsed": true
   },
   "outputs": [],
   "source": [
    "import pandas as pd\n",
    "import numpy as np\n",
    "import seaborn as sns\n",
    "import matplotlib.pyplot as plt\n",
    "sns.set_context(\"notebook\")\n",
    "\n"
   ]
  },
  {
   "cell_type": "code",
   "execution_count": 3,
   "metadata": {
    "collapsed": false
   },
   "outputs": [
    {
     "data": {
      "text/plain": [
       "u'/home/sprmario/Data_Science_Work/GitHub_Repos/machine-learning/projects'"
      ]
     },
     "execution_count": 3,
     "metadata": {},
     "output_type": "execute_result"
    }
   ],
   "source": [
    "pwd"
   ]
  },
  {
   "cell_type": "markdown",
   "metadata": {},
   "source": [
    "## Load Data"
   ]
  },
  {
   "cell_type": "code",
   "execution_count": 4,
   "metadata": {
    "collapsed": false
   },
   "outputs": [
    {
     "name": "stdout",
     "output_type": "stream",
     "text": [
      "well.id,field,block,esp.sr.no,vendor,depth,bean,perf,date.install,water.cut,daily.flow,num.work.orders,avg.maintenance.cost.monthly,status,avg.uptime,daily.production.variance,region,time,Ti.C,Pi.Psia,Vx.g,Vy.g,Tm.C,MOR.Ohm,Lc.mA,Lv.V\r",
      "\r\n",
      "SS-A,SIRHAN,A1,ESP001,Vendor 1,2370,4.5,1895- 1997,1/10/1998,0.38,2500,5,5000,Warning,87,7,US,0:01:00,0.229063991,22.22636808,1533.026751,48.42583094,0.845257277,29.61600041,255,0.684237915\r",
      "\r\n",
      "SS-B,SIRHAN,B1,ESP002,Vendor 2,1740,4.5,1395- 1433,11/4/2005,0.34,2800,3,7000,Running,92,2,US,0:01:00,0.229063991,22.22636808,1533.026751,48.42583094,0.845257277,29.61600041,255,0.684237915\r",
      "\r\n"
     ]
    }
   ],
   "source": [
    "! head -3 ../../data/final.esp.csv"
   ]
  },
  {
   "cell_type": "code",
   "execution_count": 5,
   "metadata": {
    "collapsed": false
   },
   "outputs": [],
   "source": [
    "wells_df = pd.read_csv('../../data/final.esp.csv')"
   ]
  },
  {
   "cell_type": "markdown",
   "metadata": {},
   "source": [
    "**Note**: In the command below I'm replacing '.' with '_'. Having a (.) will cause issues with column access due to Python being object orientied programming language. Everything is an object and you access an object's properties and methods with the dot (.)"
   ]
  },
  {
   "cell_type": "code",
   "execution_count": 6,
   "metadata": {
    "collapsed": false
   },
   "outputs": [],
   "source": [
    "wells_df.columns = [a.replace('.', '_') for a in wells_df.columns]"
   ]
  },
  {
   "cell_type": "code",
   "execution_count": 7,
   "metadata": {
    "collapsed": false
   },
   "outputs": [
    {
     "data": {
      "text/html": [
       "<div>\n",
       "<table border=\"1\" class=\"dataframe\">\n",
       "  <thead>\n",
       "    <tr style=\"text-align: right;\">\n",
       "      <th></th>\n",
       "      <th>well_id</th>\n",
       "      <th>field</th>\n",
       "      <th>block</th>\n",
       "      <th>esp_sr_no</th>\n",
       "      <th>vendor</th>\n",
       "      <th>depth</th>\n",
       "      <th>bean</th>\n",
       "      <th>perf</th>\n",
       "      <th>date_install</th>\n",
       "      <th>water_cut</th>\n",
       "      <th>daily_flow</th>\n",
       "      <th>num_work_orders</th>\n",
       "      <th>avg_maintenance_cost_monthly</th>\n",
       "      <th>status</th>\n",
       "      <th>avg_uptime</th>\n",
       "      <th>daily_production_variance</th>\n",
       "      <th>region</th>\n",
       "      <th>time</th>\n",
       "      <th>Ti_C</th>\n",
       "      <th>Pi_Psia</th>\n",
       "      <th>Vx_g</th>\n",
       "      <th>Vy_g</th>\n",
       "      <th>Tm_C</th>\n",
       "      <th>MOR_Ohm</th>\n",
       "      <th>Lc_mA</th>\n",
       "      <th>Lv_V</th>\n",
       "    </tr>\n",
       "  </thead>\n",
       "  <tbody>\n",
       "    <tr>\n",
       "      <th>0</th>\n",
       "      <td>SS-A</td>\n",
       "      <td>SIRHAN</td>\n",
       "      <td>A1</td>\n",
       "      <td>ESP001</td>\n",
       "      <td>Vendor 1</td>\n",
       "      <td>2370</td>\n",
       "      <td>4.5</td>\n",
       "      <td>1895- 1997</td>\n",
       "      <td>1/10/1998</td>\n",
       "      <td>0.38</td>\n",
       "      <td>2500</td>\n",
       "      <td>5</td>\n",
       "      <td>5000.0</td>\n",
       "      <td>Warning</td>\n",
       "      <td>87</td>\n",
       "      <td>7</td>\n",
       "      <td>US</td>\n",
       "      <td>0:01:00</td>\n",
       "      <td>0.229064</td>\n",
       "      <td>22.226368</td>\n",
       "      <td>1533.026751</td>\n",
       "      <td>48.425831</td>\n",
       "      <td>0.845257</td>\n",
       "      <td>29.616</td>\n",
       "      <td>255</td>\n",
       "      <td>0.684238</td>\n",
       "    </tr>\n",
       "    <tr>\n",
       "      <th>1</th>\n",
       "      <td>SS-B</td>\n",
       "      <td>SIRHAN</td>\n",
       "      <td>B1</td>\n",
       "      <td>ESP002</td>\n",
       "      <td>Vendor 2</td>\n",
       "      <td>1740</td>\n",
       "      <td>4.5</td>\n",
       "      <td>1395- 1433</td>\n",
       "      <td>11/4/2005</td>\n",
       "      <td>0.34</td>\n",
       "      <td>2800</td>\n",
       "      <td>3</td>\n",
       "      <td>7000.0</td>\n",
       "      <td>Running</td>\n",
       "      <td>92</td>\n",
       "      <td>2</td>\n",
       "      <td>US</td>\n",
       "      <td>0:01:00</td>\n",
       "      <td>0.229064</td>\n",
       "      <td>22.226368</td>\n",
       "      <td>1533.026751</td>\n",
       "      <td>48.425831</td>\n",
       "      <td>0.845257</td>\n",
       "      <td>29.616</td>\n",
       "      <td>255</td>\n",
       "      <td>0.684238</td>\n",
       "    </tr>\n",
       "    <tr>\n",
       "      <th>2</th>\n",
       "      <td>SS-C101</td>\n",
       "      <td>SIRHAN</td>\n",
       "      <td>C1</td>\n",
       "      <td>ESP003</td>\n",
       "      <td>Vendor 1</td>\n",
       "      <td>1995</td>\n",
       "      <td>10.0</td>\n",
       "      <td>1427-1479</td>\n",
       "      <td>1/31/2003</td>\n",
       "      <td>0.40</td>\n",
       "      <td>3100</td>\n",
       "      <td>6</td>\n",
       "      <td>4000.0</td>\n",
       "      <td>Warning</td>\n",
       "      <td>94</td>\n",
       "      <td>0</td>\n",
       "      <td>US</td>\n",
       "      <td>0:01:00</td>\n",
       "      <td>0.229064</td>\n",
       "      <td>22.226368</td>\n",
       "      <td>1533.026751</td>\n",
       "      <td>48.425831</td>\n",
       "      <td>0.845257</td>\n",
       "      <td>29.616</td>\n",
       "      <td>255</td>\n",
       "      <td>0.684238</td>\n",
       "    </tr>\n",
       "    <tr>\n",
       "      <th>3</th>\n",
       "      <td>SS-C102</td>\n",
       "      <td>SIRHAN</td>\n",
       "      <td>A1</td>\n",
       "      <td>ESP004</td>\n",
       "      <td>Vendor 3</td>\n",
       "      <td>1790</td>\n",
       "      <td>5.0</td>\n",
       "      <td>1424-1480</td>\n",
       "      <td>9/7/2004</td>\n",
       "      <td>0.55</td>\n",
       "      <td>2100</td>\n",
       "      <td>3</td>\n",
       "      <td>6000.0</td>\n",
       "      <td>Running</td>\n",
       "      <td>78</td>\n",
       "      <td>16</td>\n",
       "      <td>US</td>\n",
       "      <td>0:01:00</td>\n",
       "      <td>0.229064</td>\n",
       "      <td>22.226368</td>\n",
       "      <td>1533.026751</td>\n",
       "      <td>48.425831</td>\n",
       "      <td>0.845257</td>\n",
       "      <td>29.616</td>\n",
       "      <td>255</td>\n",
       "      <td>0.684238</td>\n",
       "    </tr>\n",
       "    <tr>\n",
       "      <th>4</th>\n",
       "      <td>SS-C103</td>\n",
       "      <td>SIRHAN</td>\n",
       "      <td>B1</td>\n",
       "      <td>ESP005</td>\n",
       "      <td>Vendor 1</td>\n",
       "      <td>2140</td>\n",
       "      <td>10.0</td>\n",
       "      <td>1442 � 1492</td>\n",
       "      <td>4/11/2009</td>\n",
       "      <td>0.55</td>\n",
       "      <td>2400</td>\n",
       "      <td>5</td>\n",
       "      <td>5500.0</td>\n",
       "      <td>Warning</td>\n",
       "      <td>84</td>\n",
       "      <td>10</td>\n",
       "      <td>US</td>\n",
       "      <td>0:01:00</td>\n",
       "      <td>0.229064</td>\n",
       "      <td>22.226368</td>\n",
       "      <td>1533.026751</td>\n",
       "      <td>48.425831</td>\n",
       "      <td>0.845257</td>\n",
       "      <td>29.616</td>\n",
       "      <td>255</td>\n",
       "      <td>0.684238</td>\n",
       "    </tr>\n",
       "  </tbody>\n",
       "</table>\n",
       "</div>"
      ],
      "text/plain": [
       "   well_id   field block esp_sr_no    vendor  depth  bean         perf  \\\n",
       "0     SS-A  SIRHAN    A1    ESP001  Vendor 1   2370   4.5   1895- 1997   \n",
       "1     SS-B  SIRHAN    B1    ESP002  Vendor 2   1740   4.5   1395- 1433   \n",
       "2  SS-C101  SIRHAN    C1    ESP003  Vendor 1   1995  10.0    1427-1479   \n",
       "3  SS-C102  SIRHAN    A1    ESP004  Vendor 3   1790   5.0    1424-1480   \n",
       "4  SS-C103  SIRHAN    B1    ESP005  Vendor 1   2140  10.0  1442 � 1492   \n",
       "\n",
       "  date_install  water_cut  daily_flow  num_work_orders  \\\n",
       "0    1/10/1998       0.38        2500                5   \n",
       "1    11/4/2005       0.34        2800                3   \n",
       "2    1/31/2003       0.40        3100                6   \n",
       "3     9/7/2004       0.55        2100                3   \n",
       "4    4/11/2009       0.55        2400                5   \n",
       "\n",
       "   avg_maintenance_cost_monthly   status  avg_uptime  \\\n",
       "0                        5000.0  Warning          87   \n",
       "1                        7000.0  Running          92   \n",
       "2                        4000.0  Warning          94   \n",
       "3                        6000.0  Running          78   \n",
       "4                        5500.0  Warning          84   \n",
       "\n",
       "   daily_production_variance region     time      Ti_C    Pi_Psia  \\\n",
       "0                          7     US  0:01:00  0.229064  22.226368   \n",
       "1                          2     US  0:01:00  0.229064  22.226368   \n",
       "2                          0     US  0:01:00  0.229064  22.226368   \n",
       "3                         16     US  0:01:00  0.229064  22.226368   \n",
       "4                         10     US  0:01:00  0.229064  22.226368   \n",
       "\n",
       "          Vx_g       Vy_g      Tm_C  MOR_Ohm  Lc_mA      Lv_V  \n",
       "0  1533.026751  48.425831  0.845257   29.616    255  0.684238  \n",
       "1  1533.026751  48.425831  0.845257   29.616    255  0.684238  \n",
       "2  1533.026751  48.425831  0.845257   29.616    255  0.684238  \n",
       "3  1533.026751  48.425831  0.845257   29.616    255  0.684238  \n",
       "4  1533.026751  48.425831  0.845257   29.616    255  0.684238  "
      ]
     },
     "execution_count": 7,
     "metadata": {},
     "output_type": "execute_result"
    }
   ],
   "source": [
    "pd.set_option('display.max_columns', None) #This configuration allows me to see all the columns using .head() command\n",
    "wells_df.head(5)"
   ]
  },
  {
   "cell_type": "code",
   "execution_count": 8,
   "metadata": {
    "collapsed": false
   },
   "outputs": [
    {
     "data": {
      "text/plain": [
       "(61938, 26)"
      ]
     },
     "execution_count": 8,
     "metadata": {},
     "output_type": "execute_result"
    }
   ],
   "source": [
    "wells_df.shape"
   ]
  },
  {
   "cell_type": "markdown",
   "metadata": {},
   "source": [
    "** I want pandas to recognize date_install and time as DateTime **"
   ]
  },
  {
   "cell_type": "code",
   "execution_count": 9,
   "metadata": {
    "collapsed": false
   },
   "outputs": [
    {
     "data": {
      "text/plain": [
       "'1/10/1998'"
      ]
     },
     "execution_count": 9,
     "metadata": {},
     "output_type": "execute_result"
    }
   ],
   "source": [
    "wells_df.date_install.iloc[0]"
   ]
  },
  {
   "cell_type": "code",
   "execution_count": 10,
   "metadata": {
    "collapsed": true
   },
   "outputs": [],
   "source": [
    "wells_df.date_install = pd.to_datetime(wells_df.date_install, infer_datetime_format=True) \n",
    "#Passing infer_datetime_format=True can often-times speedup a parsing when it's in a regular format (1/1/1990)"
   ]
  },
  {
   "cell_type": "code",
   "execution_count": 11,
   "metadata": {
    "collapsed": false
   },
   "outputs": [
    {
     "data": {
      "text/plain": [
       "Timestamp('1998-01-10 00:00:00')"
      ]
     },
     "execution_count": 11,
     "metadata": {},
     "output_type": "execute_result"
    }
   ],
   "source": [
    "wells_df.date_install.iloc[0]"
   ]
  },
  {
   "cell_type": "code",
   "execution_count": 12,
   "metadata": {
    "collapsed": true
   },
   "outputs": [],
   "source": [
    "wells_df.time = pd.to_datetime(wells_df.time).dt.time\n",
    "#wells_df.time = pd.to_timedelta(wells_df.time)"
   ]
  },
  {
   "cell_type": "code",
   "execution_count": 13,
   "metadata": {
    "collapsed": false
   },
   "outputs": [
    {
     "data": {
      "text/plain": [
       "datetime.time(0, 1)"
      ]
     },
     "execution_count": 13,
     "metadata": {},
     "output_type": "execute_result"
    }
   ],
   "source": [
    "wells_df.time.iloc[0]"
   ]
  },
  {
   "cell_type": "markdown",
   "metadata": {},
   "source": [
    "# Exploratory Data Analysis"
   ]
  },
  {
   "cell_type": "markdown",
   "metadata": {},
   "source": [
    "Here we can see that the features are at different scales. I might consider rescaling the data before our modeling phase."
   ]
  },
  {
   "cell_type": "code",
   "execution_count": 14,
   "metadata": {
    "collapsed": false
   },
   "outputs": [
    {
     "data": {
      "text/html": [
       "<div>\n",
       "<table border=\"1\" class=\"dataframe\">\n",
       "  <thead>\n",
       "    <tr style=\"text-align: right;\">\n",
       "      <th></th>\n",
       "      <th>depth</th>\n",
       "      <th>bean</th>\n",
       "      <th>water_cut</th>\n",
       "      <th>daily_flow</th>\n",
       "      <th>num_work_orders</th>\n",
       "      <th>avg_maintenance_cost_monthly</th>\n",
       "      <th>avg_uptime</th>\n",
       "      <th>daily_production_variance</th>\n",
       "      <th>Ti_C</th>\n",
       "      <th>Pi_Psia</th>\n",
       "      <th>Vx_g</th>\n",
       "      <th>Vy_g</th>\n",
       "      <th>Tm_C</th>\n",
       "      <th>MOR_Ohm</th>\n",
       "      <th>Lc_mA</th>\n",
       "      <th>Lv_V</th>\n",
       "    </tr>\n",
       "  </thead>\n",
       "  <tbody>\n",
       "    <tr>\n",
       "      <th>count</th>\n",
       "      <td>61938.000000</td>\n",
       "      <td>61938.000000</td>\n",
       "      <td>61938.000000</td>\n",
       "      <td>61938.000000</td>\n",
       "      <td>61938.000000</td>\n",
       "      <td>61938.000000</td>\n",
       "      <td>61938.000000</td>\n",
       "      <td>61938.000000</td>\n",
       "      <td>61738.000000</td>\n",
       "      <td>61938.000000</td>\n",
       "      <td>61938.000000</td>\n",
       "      <td>61938.000000</td>\n",
       "      <td>61938.000000</td>\n",
       "      <td>61938.000000</td>\n",
       "      <td>61938.0</td>\n",
       "      <td>61938.000000</td>\n",
       "    </tr>\n",
       "    <tr>\n",
       "      <th>mean</th>\n",
       "      <td>2062.903226</td>\n",
       "      <td>7.129032</td>\n",
       "      <td>0.440645</td>\n",
       "      <td>2587.096774</td>\n",
       "      <td>4.645161</td>\n",
       "      <td>5093.657238</td>\n",
       "      <td>87.161290</td>\n",
       "      <td>6.838710</td>\n",
       "      <td>0.366196</td>\n",
       "      <td>26.515130</td>\n",
       "      <td>1325.661698</td>\n",
       "      <td>21.431487</td>\n",
       "      <td>0.780924</td>\n",
       "      <td>28.523293</td>\n",
       "      <td>255.0</td>\n",
       "      <td>0.207660</td>\n",
       "    </tr>\n",
       "    <tr>\n",
       "      <th>std</th>\n",
       "      <td>221.356757</td>\n",
       "      <td>2.498303</td>\n",
       "      <td>0.089152</td>\n",
       "      <td>339.586866</td>\n",
       "      <td>1.357152</td>\n",
       "      <td>999.960881</td>\n",
       "      <td>5.702885</td>\n",
       "      <td>5.702885</td>\n",
       "      <td>0.197315</td>\n",
       "      <td>6.560580</td>\n",
       "      <td>215.956943</td>\n",
       "      <td>17.334089</td>\n",
       "      <td>0.071899</td>\n",
       "      <td>6.180058</td>\n",
       "      <td>0.0</td>\n",
       "      <td>1.347575</td>\n",
       "    </tr>\n",
       "    <tr>\n",
       "      <th>min</th>\n",
       "      <td>1740.000000</td>\n",
       "      <td>4.500000</td>\n",
       "      <td>0.340000</td>\n",
       "      <td>2100.000000</td>\n",
       "      <td>3.000000</td>\n",
       "      <td>3900.000000</td>\n",
       "      <td>78.000000</td>\n",
       "      <td>0.000000</td>\n",
       "      <td>0.000089</td>\n",
       "      <td>6.097965</td>\n",
       "      <td>578.001907</td>\n",
       "      <td>0.001170</td>\n",
       "      <td>0.515671</td>\n",
       "      <td>8.177126</td>\n",
       "      <td>255.0</td>\n",
       "      <td>-3.736072</td>\n",
       "    </tr>\n",
       "    <tr>\n",
       "      <th>25%</th>\n",
       "      <td>1890.000000</td>\n",
       "      <td>4.500000</td>\n",
       "      <td>0.380000</td>\n",
       "      <td>2400.000000</td>\n",
       "      <td>3.000000</td>\n",
       "      <td>4000.000000</td>\n",
       "      <td>84.000000</td>\n",
       "      <td>2.000000</td>\n",
       "      <td>0.220231</td>\n",
       "      <td>22.173026</td>\n",
       "      <td>1190.067453</td>\n",
       "      <td>8.662490</td>\n",
       "      <td>0.733333</td>\n",
       "      <td>24.397960</td>\n",
       "      <td>255.0</td>\n",
       "      <td>-0.701864</td>\n",
       "    </tr>\n",
       "    <tr>\n",
       "      <th>50%</th>\n",
       "      <td>2000.000000</td>\n",
       "      <td>6.000000</td>\n",
       "      <td>0.400000</td>\n",
       "      <td>2500.000000</td>\n",
       "      <td>5.000000</td>\n",
       "      <td>5000.000000</td>\n",
       "      <td>87.000000</td>\n",
       "      <td>7.000000</td>\n",
       "      <td>0.351580</td>\n",
       "      <td>26.403994</td>\n",
       "      <td>1320.878705</td>\n",
       "      <td>17.705261</td>\n",
       "      <td>0.781861</td>\n",
       "      <td>28.345175</td>\n",
       "      <td>255.0</td>\n",
       "      <td>0.212915</td>\n",
       "    </tr>\n",
       "    <tr>\n",
       "      <th>75%</th>\n",
       "      <td>2290.000000</td>\n",
       "      <td>10.000000</td>\n",
       "      <td>0.550000</td>\n",
       "      <td>2800.000000</td>\n",
       "      <td>6.000000</td>\n",
       "      <td>5500.000000</td>\n",
       "      <td>92.000000</td>\n",
       "      <td>10.000000</td>\n",
       "      <td>0.501477</td>\n",
       "      <td>31.277034</td>\n",
       "      <td>1472.532599</td>\n",
       "      <td>31.215787</td>\n",
       "      <td>0.827864</td>\n",
       "      <td>32.519657</td>\n",
       "      <td>255.0</td>\n",
       "      <td>1.082713</td>\n",
       "    </tr>\n",
       "    <tr>\n",
       "      <th>max</th>\n",
       "      <td>2370.000000</td>\n",
       "      <td>10.000000</td>\n",
       "      <td>0.550000</td>\n",
       "      <td>3100.000000</td>\n",
       "      <td>7.000000</td>\n",
       "      <td>15146.420270</td>\n",
       "      <td>94.000000</td>\n",
       "      <td>16.000000</td>\n",
       "      <td>1.147680</td>\n",
       "      <td>49.593279</td>\n",
       "      <td>1923.524250</td>\n",
       "      <td>195.680147</td>\n",
       "      <td>0.981339</td>\n",
       "      <td>46.659240</td>\n",
       "      <td>255.0</td>\n",
       "      <td>4.940575</td>\n",
       "    </tr>\n",
       "  </tbody>\n",
       "</table>\n",
       "</div>"
      ],
      "text/plain": [
       "              depth          bean     water_cut    daily_flow  \\\n",
       "count  61938.000000  61938.000000  61938.000000  61938.000000   \n",
       "mean    2062.903226      7.129032      0.440645   2587.096774   \n",
       "std      221.356757      2.498303      0.089152    339.586866   \n",
       "min     1740.000000      4.500000      0.340000   2100.000000   \n",
       "25%     1890.000000      4.500000      0.380000   2400.000000   \n",
       "50%     2000.000000      6.000000      0.400000   2500.000000   \n",
       "75%     2290.000000     10.000000      0.550000   2800.000000   \n",
       "max     2370.000000     10.000000      0.550000   3100.000000   \n",
       "\n",
       "       num_work_orders  avg_maintenance_cost_monthly    avg_uptime  \\\n",
       "count     61938.000000                  61938.000000  61938.000000   \n",
       "mean          4.645161                   5093.657238     87.161290   \n",
       "std           1.357152                    999.960881      5.702885   \n",
       "min           3.000000                   3900.000000     78.000000   \n",
       "25%           3.000000                   4000.000000     84.000000   \n",
       "50%           5.000000                   5000.000000     87.000000   \n",
       "75%           6.000000                   5500.000000     92.000000   \n",
       "max           7.000000                  15146.420270     94.000000   \n",
       "\n",
       "       daily_production_variance          Ti_C       Pi_Psia          Vx_g  \\\n",
       "count               61938.000000  61738.000000  61938.000000  61938.000000   \n",
       "mean                    6.838710      0.366196     26.515130   1325.661698   \n",
       "std                     5.702885      0.197315      6.560580    215.956943   \n",
       "min                     0.000000      0.000089      6.097965    578.001907   \n",
       "25%                     2.000000      0.220231     22.173026   1190.067453   \n",
       "50%                     7.000000      0.351580     26.403994   1320.878705   \n",
       "75%                    10.000000      0.501477     31.277034   1472.532599   \n",
       "max                    16.000000      1.147680     49.593279   1923.524250   \n",
       "\n",
       "               Vy_g          Tm_C       MOR_Ohm    Lc_mA          Lv_V  \n",
       "count  61938.000000  61938.000000  61938.000000  61938.0  61938.000000  \n",
       "mean      21.431487      0.780924     28.523293    255.0      0.207660  \n",
       "std       17.334089      0.071899      6.180058      0.0      1.347575  \n",
       "min        0.001170      0.515671      8.177126    255.0     -3.736072  \n",
       "25%        8.662490      0.733333     24.397960    255.0     -0.701864  \n",
       "50%       17.705261      0.781861     28.345175    255.0      0.212915  \n",
       "75%       31.215787      0.827864     32.519657    255.0      1.082713  \n",
       "max      195.680147      0.981339     46.659240    255.0      4.940575  "
      ]
     },
     "execution_count": 14,
     "metadata": {},
     "output_type": "execute_result"
    }
   ],
   "source": [
    "wells_df.describe()"
   ]
  },
  {
   "cell_type": "markdown",
   "metadata": {},
   "source": [
    "Let's look at the classes. \n",
    "\n",
    "The classes are imbalanced so we're going to need to fix this by applying an over/under sampling technique before our modeling process \n"
   ]
  },
  {
   "cell_type": "code",
   "execution_count": 15,
   "metadata": {
    "collapsed": false
   },
   "outputs": [
    {
     "data": {
      "text/plain": [
       "status\n",
       "Down        4407\n",
       "Running    51156\n",
       "Warning     6375\n",
       "dtype: int64"
      ]
     },
     "execution_count": 15,
     "metadata": {},
     "output_type": "execute_result"
    }
   ],
   "source": [
    "wells_df.groupby(wells_df.status).size()"
   ]
  },
  {
   "cell_type": "markdown",
   "metadata": {},
   "source": [
    "Here we can see normal distributions from the columns: 'Ti_C', 'Pi_Psia', 'Vx_g', 'Vy_g', 'Tm_C', 'MOR_Ohm', 'Lc_mA', 'Lv_V'"
   ]
  },
  {
   "cell_type": "code",
   "execution_count": 28,
   "metadata": {
    "collapsed": false
   },
   "outputs": [
    {
     "data": {
      "image/png": "[encoded data removed]",
      "text/plain": [
       "<matplotlib.figure.Figure at 0x7feb0effe4d0>"
      ]
     },
     "metadata": {},
     "output_type": "display_data"
    }
   ],
   "source": [
    "fig, axs = plt.subplots(nrows=4, ncols=4, figsize=(15,15))\n",
    "sns.distplot(wells_df.depth, ax=axs[0,0])\n",
    "sns.distplot(wells_df.bean, ax=axs[0,1])\n",
    "sns.distplot(wells_df.water_cut, ax=axs[0,2])\n",
    "sns.distplot(wells_df.daily_flow, ax=axs[0,3])\n",
    "sns.distplot(wells_df.num_work_orders, ax=axs[1,0])\n",
    "sns.distplot(wells_df.avg_maintenance_cost_monthly, ax=axs[1,1])\n",
    "sns.distplot(wells_df.avg_uptime, ax=axs[1,2])\n",
    "sns.distplot(wells_df.daily_production_variance, ax=axs[1,3])\n",
    "sns.distplot(wells_df.MOR_Ohm, ax=axs[2,0])\n",
    "sns.distplot(wells_df.Pi_Psia, ax=axs[2,1])\n",
    "sns.distplot(wells_df.Tm_C,  ax=axs[2,2])\n",
    "sns.distplot(wells_df.Lv_V,  ax=axs[2,3])\n",
    "sns.distplot(wells_df.Vx_g,  ax=axs[3,0])\n",
    "sns.distplot(wells_df.Vy_g,  ax=axs[3,1])\n",
    "sns.distplot(wells_df.Ti_C,  ax=axs[3,2])\n",
    "axs[-1, -1].axis('off')\n",
    "\n",
    "\n",
    "fig.tight_layout()"
   ]
  },
  {
   "cell_type": "code",
   "execution_count": 44,
   "metadata": {
    "collapsed": false
   },
   "outputs": [
    {
     "data": {
      "text/plain": [
       "<matplotlib.axes._subplots.AxesSubplot at 0x7feb1187a8d0>"
      ]
     },
     "execution_count": 44,
     "metadata": {},
     "output_type": "execute_result"
    },
    {
     "data": {
      "image/png": "[encoded data removed]",
      "text/plain": [
       "<matplotlib.figure.Figure at 0x7feb1183ec90>"
      ]
     },
     "metadata": {},
     "output_type": "display_data"
    }
   ],
   "source": [
    "sns.distplot(np.sqrt(wells_df.Vy_g))"
   ]
  },
  {
   "cell_type": "markdown",
   "metadata": {},
   "source": [
    "**Show total status triggers per sensor **"
   ]
  },
  {
   "cell_type": "code",
   "execution_count": 17,
   "metadata": {
    "collapsed": false
   },
   "outputs": [
    {
     "data": {
      "text/plain": [
       "field        block  well_id  status \n",
       "SIRHAN       A1     SS-A     Down        60\n",
       "                             Running    790\n",
       "                             Warning    149\n",
       "                    SS-C102  Down       106\n",
       "                             Running    793\n",
       "                             Warning    100\n",
       "                    SS-C109  Down        99\n",
       "                             Running    800\n",
       "                             Warning    100\n",
       "                    SS-D     Down        64\n",
       "                             Running    795\n",
       "                             Warning    140\n",
       "                    SS-D102  Down        96\n",
       "                             Running    801\n",
       "                             Warning    102\n",
       "                    SS-D109  Down       109\n",
       "                             Running    805\n",
       "                             Warning     85\n",
       "             B1     SS-B     Down        59\n",
       "                             Running    888\n",
       "                             Warning     52\n",
       "                    SS-C103  Down        60\n",
       "                             Running    806\n",
       "                             Warning    133\n",
       "                    SS-C110  Down        68\n",
       "                             Running    807\n",
       "                             Warning    124\n",
       "                    SS-D103  Down        59\n",
       "                             Running    800\n",
       "                             Warning    140\n",
       "                                       ... \n",
       "WEST SAFAWI  D1     SS-C128  Down        41\n",
       "                             Running    903\n",
       "                             Warning     55\n",
       "                    SS-D114  Down        50\n",
       "                             Running    901\n",
       "                             Warning     48\n",
       "                    SS-D121  Down       106\n",
       "                             Running    800\n",
       "                             Warning     93\n",
       "                    SS-D128  Down        54\n",
       "                             Running    892\n",
       "                             Warning     53\n",
       "             D9     SS-C115  Down        62\n",
       "                             Running    790\n",
       "                             Warning    147\n",
       "                    SS-C122  Down       103\n",
       "                             Running    794\n",
       "                             Warning    102\n",
       "                    SS-C129  Down        53\n",
       "                             Running    901\n",
       "                             Warning     45\n",
       "                    SS-D115  Down        54\n",
       "                             Running    799\n",
       "                             Warning    146\n",
       "                    SS-D122  Down        91\n",
       "                             Running    805\n",
       "                             Warning    103\n",
       "                    SS-D129  Down        57\n",
       "                             Running    886\n",
       "                             Warning     56\n",
       "Name: esp_sr_no, dtype: int64"
      ]
     },
     "execution_count": 17,
     "metadata": {},
     "output_type": "execute_result"
    }
   ],
   "source": [
    "status_df = wells_df.groupby(['field','block','well_id','status']).count().esp_sr_no\n",
    "status_df"
   ]
  },
  {
   "cell_type": "code",
   "execution_count": 18,
   "metadata": {
    "collapsed": false
   },
   "outputs": [
    {
     "data": {
      "text/html": [
       "<div>\n",
       "<table border=\"1\" class=\"dataframe\">\n",
       "  <thead>\n",
       "    <tr style=\"text-align: right;\">\n",
       "      <th>status</th>\n",
       "      <th>well_id</th>\n",
       "      <th>total</th>\n",
       "      <th>Running</th>\n",
       "      <th>Warning</th>\n",
       "      <th>Down</th>\n",
       "    </tr>\n",
       "  </thead>\n",
       "  <tbody>\n",
       "    <tr>\n",
       "      <th>0</th>\n",
       "      <td>SS-A</td>\n",
       "      <td>999</td>\n",
       "      <td>790</td>\n",
       "      <td>149</td>\n",
       "      <td>60</td>\n",
       "    </tr>\n",
       "    <tr>\n",
       "      <th>1</th>\n",
       "      <td>SS-C102</td>\n",
       "      <td>999</td>\n",
       "      <td>793</td>\n",
       "      <td>100</td>\n",
       "      <td>106</td>\n",
       "    </tr>\n",
       "    <tr>\n",
       "      <th>2</th>\n",
       "      <td>SS-C109</td>\n",
       "      <td>999</td>\n",
       "      <td>800</td>\n",
       "      <td>100</td>\n",
       "      <td>99</td>\n",
       "    </tr>\n",
       "    <tr>\n",
       "      <th>3</th>\n",
       "      <td>SS-D</td>\n",
       "      <td>999</td>\n",
       "      <td>795</td>\n",
       "      <td>140</td>\n",
       "      <td>64</td>\n",
       "    </tr>\n",
       "    <tr>\n",
       "      <th>4</th>\n",
       "      <td>SS-D102</td>\n",
       "      <td>999</td>\n",
       "      <td>801</td>\n",
       "      <td>102</td>\n",
       "      <td>96</td>\n",
       "    </tr>\n",
       "  </tbody>\n",
       "</table>\n",
       "</div>"
      ],
      "text/plain": [
       "status  well_id  total  Running  Warning  Down\n",
       "0          SS-A    999      790      149    60\n",
       "1       SS-C102    999      793      100   106\n",
       "2       SS-C109    999      800      100    99\n",
       "3          SS-D    999      795      140    64\n",
       "4       SS-D102    999      801      102    96"
      ]
     },
     "execution_count": 18,
     "metadata": {},
     "output_type": "execute_result"
    }
   ],
   "source": [
    "status_df = status_df.unstack().reset_index()\n",
    "status_df['total'] = status_df.Down + status_df.Running + status_df.Warning #adds 3 columns to get the total amount of triggers\n",
    "status_count = status_df[['well_id','total','Running','Warning','Down']]\n",
    "status_count.head()"
   ]
  },
  {
   "cell_type": "markdown",
   "metadata": {},
   "source": [
    "#### Let's look at the sensors that had the most 'warning' triggers"
   ]
  },
  {
   "cell_type": "code",
   "execution_count": 19,
   "metadata": {
    "collapsed": false
   },
   "outputs": [
    {
     "data": {
      "image/png": "[encoded data removed]",
      "text/plain": [
       "<matplotlib.figure.Figure at 0x7f30ff34ee90>"
      ]
     },
     "metadata": {},
     "output_type": "display_data"
    }
   ],
   "source": [
    "sns.set(style=\"whitegrid\")\n",
    "\n",
    "\n",
    "# Make the PairGrid\n",
    "g = sns.PairGrid(status_count.sort_values(['Warning'], ascending=False),\n",
    "                 x_vars=status_count.columns[1:], y_vars=[\"well_id\"],\n",
    "                 size=12, aspect=.25)\n",
    "\n",
    "# Draw a dot plot using the stripplot function\n",
    "g.map(sns.stripplot, size=10, orient=\"h\",\n",
    "      palette=\"Reds_r\", edgecolor=\"gray\")\n",
    "\n",
    "# Use the same x axis limits on all columns and add better labels\n",
    "g.set(xlim=(0, 1025), xlabel=\"Status\", ylabel=\"\")\n",
    "\n",
    "# Use semantically meaningful titles for the columns\n",
    "titles = [\"Total\", \"Running\", \"Warning\",\n",
    "          \"Down\"]\n",
    "\n",
    "for ax, title in zip(g.axes.flat, titles):\n",
    "\n",
    "    # Set a different title for each axes\n",
    "    ax.set(title=title)\n",
    "\n",
    "    # Make the grid horizontal instead of vertical\n",
    "    ax.xaxis.grid(False)\n",
    "    ax.yaxis.grid(True)\n",
    "\n",
    "sns.despine(left=True, bottom=True)"
   ]
  },
  {
   "cell_type": "markdown",
   "metadata": {},
   "source": [
    "#### Let's look at the sensors that had the most 'down' triggers"
   ]
  },
  {
   "cell_type": "code",
   "execution_count": 20,
   "metadata": {
    "collapsed": false
   },
   "outputs": [
    {
     "data": {
      "image/png": "[encoded data removed]",
      "text/plain": [
       "<matplotlib.figure.Figure at 0x7f30fcca5050>"
      ]
     },
     "metadata": {},
     "output_type": "display_data"
    }
   ],
   "source": [
    "sns.set(style=\"whitegrid\")\n",
    "\n",
    "\n",
    "# Make the PairGrid\n",
    "g = sns.PairGrid(status_count.sort_values(['Down'], ascending=False),\n",
    "                 x_vars=status_count.columns[1:], y_vars=[\"well_id\"],size=12, aspect=.25)\n",
    "                 #size=25, aspect=.15)\n",
    "\n",
    "# Draw a dot plot using the stripplot function\n",
    "g.map(sns.stripplot, size=10, orient=\"h\",\n",
    "      palette=\"Reds_r\", edgecolor=\"gray\")\n",
    "\n",
    "# Use the same x axis limits on all columns and add better labels\n",
    "g.set(xlim=(0, 1050), xlabel=\"Status\", ylabel=\"\")\n",
    "\n",
    "# Use semantically meaningful titles for the columns\n",
    "titles = [\"Total\", \"Running\", \"Warning\",\n",
    "          \"Down\"]\n",
    "\n",
    "for ax, title in zip(g.axes.flat, titles):\n",
    "\n",
    "    # Set a different title for each axes\n",
    "    ax.set(title=title)\n",
    "\n",
    "    # Make the grid horizontal instead of vertical\n",
    "    ax.xaxis.grid(False)\n",
    "    ax.yaxis.grid(True)\n",
    "\n",
    "sns.despine(left=True, bottom=True)"
   ]
  },
  {
   "cell_type": "markdown",
   "metadata": {},
   "source": [
    "#### Let's look at the most problematic sensors.\n",
    "\n",
    "Here I'll add warning and down for each sensor"
   ]
  },
  {
   "cell_type": "code",
   "execution_count": 21,
   "metadata": {
    "collapsed": false
   },
   "outputs": [
    {
     "name": "stderr",
     "output_type": "stream",
     "text": [
      "/home/sprmario/Envs/testDSenv/lib/python2.7/site-packages/ipykernel/__main__.py:1: SettingWithCopyWarning: \n",
      "A value is trying to be set on a copy of a slice from a DataFrame.\n",
      "Try using .loc[row_indexer,col_indexer] = value instead\n",
      "\n",
      "See the caveats in the documentation: http://pandas.pydata.org/pandas-docs/stable/indexing.html#indexing-view-versus-copy\n",
      "  if __name__ == '__main__':\n"
     ]
    },
    {
     "data": {
      "text/html": [
       "<div>\n",
       "<table border=\"1\" class=\"dataframe\">\n",
       "  <thead>\n",
       "    <tr style=\"text-align: right;\">\n",
       "      <th>status</th>\n",
       "      <th>well_id</th>\n",
       "      <th>total</th>\n",
       "      <th>Warning/Down</th>\n",
       "    </tr>\n",
       "  </thead>\n",
       "  <tbody>\n",
       "    <tr>\n",
       "      <th>34</th>\n",
       "      <td>SS-C125</td>\n",
       "      <td>999</td>\n",
       "      <td>228</td>\n",
       "    </tr>\n",
       "    <tr>\n",
       "      <th>18</th>\n",
       "      <td>SS-C106</td>\n",
       "      <td>999</td>\n",
       "      <td>223</td>\n",
       "    </tr>\n",
       "    <tr>\n",
       "      <th>40</th>\n",
       "      <td>SS-C126</td>\n",
       "      <td>999</td>\n",
       "      <td>221</td>\n",
       "    </tr>\n",
       "    <tr>\n",
       "      <th>37</th>\n",
       "      <td>SS-D125</td>\n",
       "      <td>999</td>\n",
       "      <td>221</td>\n",
       "    </tr>\n",
       "    <tr>\n",
       "      <th>47</th>\n",
       "      <td>SS-D113</td>\n",
       "      <td>999</td>\n",
       "      <td>220</td>\n",
       "    </tr>\n",
       "  </tbody>\n",
       "</table>\n",
       "</div>"
      ],
      "text/plain": [
       "status  well_id  total  Warning/Down\n",
       "34      SS-C125    999           228\n",
       "18      SS-C106    999           223\n",
       "40      SS-C126    999           221\n",
       "37      SS-D125    999           221\n",
       "47      SS-D113    999           220"
      ]
     },
     "execution_count": 21,
     "metadata": {},
     "output_type": "execute_result"
    }
   ],
   "source": [
    "status_count['Warning/Down'] = status_count.Warning + status_count.Down\n",
    "status_count_comparison = status_count[['well_id','total','Warning/Down']]\n",
    "status_count_comparison = status_count_comparison.sort_values(\"Warning/Down\", ascending=False)\n",
    "status_count_comparison.head()"
   ]
  },
  {
   "cell_type": "code",
   "execution_count": 22,
   "metadata": {
    "collapsed": false
   },
   "outputs": [
    {
     "data": {
      "image/png": "[encoded data removed]",
      "text/plain": [
       "<matplotlib.figure.Figure at 0x7f30f6da4990>"
      ]
     },
     "metadata": {},
     "output_type": "display_data"
    }
   ],
   "source": [
    "sns.set(style=\"whitegrid\")\n",
    "\n",
    "# Initialize the matplotlib figure\n",
    "f, ax = plt.subplots(figsize=(10, 19))\n",
    "\n",
    "\n",
    "# Plot the total number of alarms triggered '999'\n",
    "sns.set_color_codes(\"pastel\")\n",
    "sns.barplot(x=\"total\", y=\"well_id\", data=status_count_comparison,\n",
    "            label=\"Total\", color=\"g\")\n",
    "\n",
    "# Plot the total of warnings and downs\n",
    "#sns.set_color_codes(\"muted\")\n",
    "sns.barplot(x=\"Warning/Down\", y=\"well_id\", data=status_count_comparison,\n",
    "            label=\"Warning/Down\", palette=\"Reds_r\")#color=\"r\")\n",
    "\n",
    "# Add a legend and informative axis label\n",
    "ax.legend(ncol=2, loc=\"lower right\", frameon=True)\n",
    "ax.set(xlim=(0, 1000), ylabel=\"ESP\",\n",
    "       xlabel=\"Amount of Warnings and Down Triggers Per ESP\")\n",
    "sns.despine(left=True, bottom=True)"
   ]
  },
  {
   "cell_type": "markdown",
   "metadata": {},
   "source": [
    "** My next step is to dig deeper and check what is causing the alarms to go off. **\n",
    "\n",
    "**Note:** Excessive vibration can cause the ESP to fail.\n",
    "\n",
    "**Assumption:** The higher the radial and axial vibration (Vx_g,Vy_g) , the more 'warnings' and 'down' triggers there will be. "
   ]
  },
  {
   "cell_type": "code",
   "execution_count": 23,
   "metadata": {
    "collapsed": false
   },
   "outputs": [
    {
     "name": "stdout",
     "output_type": "stream",
     "text": [
      "1325.66169807\n",
      "21.4314870691\n"
     ]
    }
   ],
   "source": [
    "print wells_df.Vx_g.mean()\n",
    "print wells_df.Vy_g.mean() "
   ]
  },
  {
   "cell_type": "code",
   "execution_count": 24,
   "metadata": {
    "collapsed": true
   },
   "outputs": [],
   "source": [
    "high_vibration_df = wells_df.loc[(wells_df.Vx_g > wells_df.Vx_g.mean()) & (wells_df.Vy_g > wells_df.Vy_g.mean())]\n",
    "high_vibration_df = pd.DataFrame(high_vibration_df.groupby('status').well_id.count())\n",
    "high_vibration_df = high_vibration_df.reset_index()"
   ]
  },
  {
   "cell_type": "code",
   "execution_count": 25,
   "metadata": {
    "collapsed": true
   },
   "outputs": [],
   "source": [
    "low_vibration_df = wells_df.loc[(wells_df.Vx_g < wells_df.Vx_g.mean()) & (wells_df.Vy_g < wells_df.Vy_g.mean())]\n",
    "low_vibration_df = pd.DataFrame(low_vibration_df.groupby('status').well_id.count())\n",
    "low_vibration_df = low_vibration_df.reset_index()"
   ]
  },
  {
   "cell_type": "code",
   "execution_count": 26,
   "metadata": {
    "collapsed": false
   },
   "outputs": [
    {
     "data": {
      "image/png": "[encoded data removed]",
      "text/plain": [
       "<matplotlib.figure.Figure at 0x7f30fce5fd50>"
      ]
     },
     "metadata": {},
     "output_type": "display_data"
    }
   ],
   "source": [
    "sns.set_context(\"poster\")\n",
    "\n",
    "fig, axs = plt.subplots(nrows=1, ncols=2, figsize=(10,5), sharey='row')\n",
    "\n",
    "high = sns.barplot(x='status', y='well_id', data= high_vibration_df, ax=axs[0])\n",
    "high.set(ylabel='# of occurennces')\n",
    "high.set_title('High Radial and Axial')\n",
    "low = sns.barplot(x='status', y='well_id', data= low_vibration_df, ax=axs[1])\n",
    "low.set(ylabel='# of occurennces')\n",
    "low.set_title('Low Radial and Axial');\n"
   ]
  },
  {
   "cell_type": "markdown",
   "metadata": {},
   "source": [
    "** The graph shows the number of times each status was triggered **\n",
    "* Down and Warning messages doubled at high vibration"
   ]
  },
  {
   "cell_type": "markdown",
   "metadata": {},
   "source": [
    "## Data Wrangling"
   ]
  },
  {
   "cell_type": "markdown",
   "metadata": {},
   "source": [
    "**Check for nulls**"
   ]
  },
  {
   "cell_type": "code",
   "execution_count": 18,
   "metadata": {
    "collapsed": false
   },
   "outputs": [
    {
     "data": {
      "text/plain": [
       "well_id                           0\n",
       "field                             0\n",
       "block                             0\n",
       "esp_sr_no                         0\n",
       "vendor                            0\n",
       "depth                             0\n",
       "bean                              0\n",
       "perf                              0\n",
       "date_install                      0\n",
       "water_cut                         0\n",
       "daily_flow                        0\n",
       "num_work_orders                   0\n",
       "avg_maintenance_cost_monthly      0\n",
       "status                            0\n",
       "avg_uptime                        0\n",
       "daily_production_variance         0\n",
       "region                          100\n",
       "time                              0\n",
       "Ti_C                            200\n",
       "Pi_Psia                           0\n",
       "Vx_g                              0\n",
       "Vy_g                              0\n",
       "Tm_C                              0\n",
       "MOR_Ohm                           0\n",
       "Lc_mA                             0\n",
       "Lv_V                              0\n",
       "dtype: int64"
      ]
     },
     "execution_count": 18,
     "metadata": {},
     "output_type": "execute_result"
    }
   ],
   "source": [
    "wells_df.isnull().sum() #handle nulls in region and Ti.C"
   ]
  },
  {
   "cell_type": "markdown",
   "metadata": {},
   "source": [
    "### Filling region 'NA' with US\n",
    "According to representatives all rows are in the same region 'US'"
   ]
  },
  {
   "cell_type": "code",
   "execution_count": 19,
   "metadata": {
    "collapsed": false
   },
   "outputs": [
    {
     "data": {
      "text/plain": [
       "array(['US', nan], dtype=object)"
      ]
     },
     "execution_count": 19,
     "metadata": {},
     "output_type": "execute_result"
    }
   ],
   "source": [
    "wells_df.region.unique()"
   ]
  },
  {
   "cell_type": "code",
   "execution_count": 20,
   "metadata": {
    "collapsed": true
   },
   "outputs": [],
   "source": [
    "wells_df.region.fillna(value='US', inplace=True)"
   ]
  },
  {
   "cell_type": "code",
   "execution_count": 21,
   "metadata": {
    "collapsed": false
   },
   "outputs": [
    {
     "data": {
      "text/plain": [
       "0"
      ]
     },
     "execution_count": 21,
     "metadata": {},
     "output_type": "execute_result"
    }
   ],
   "source": [
    "wells_df.region.isnull().sum()"
   ]
  },
  {
   "cell_type": "markdown",
   "metadata": {},
   "source": [
    "### Using _forward fill_ for TI_C 'NA' values \n",
    "All top and bottom rows where NA exists have the same value"
   ]
  },
  {
   "cell_type": "code",
   "execution_count": 22,
   "metadata": {
    "collapsed": false
   },
   "outputs": [
    {
     "data": {
      "text/plain": [
       "200"
      ]
     },
     "execution_count": 22,
     "metadata": {},
     "output_type": "execute_result"
    }
   ],
   "source": [
    "wells_df.Ti_C.isnull().sum()"
   ]
  },
  {
   "cell_type": "code",
   "execution_count": 23,
   "metadata": {
    "collapsed": false
   },
   "outputs": [
    {
     "data": {
      "text/plain": [
       "0        0.229064\n",
       "1        0.229064\n",
       "2        0.229064\n",
       "3        0.229064\n",
       "4        0.229064\n",
       "5        0.229064\n",
       "6        0.229064\n",
       "7        0.229064\n",
       "8        0.229064\n",
       "9        0.229064\n",
       "10       0.229064\n",
       "11       0.229064\n",
       "12       0.229064\n",
       "13       0.229064\n",
       "14       0.229064\n",
       "15       0.229064\n",
       "16       0.229064\n",
       "17       0.229064\n",
       "18       0.229064\n",
       "19       0.229064\n",
       "20       0.229064\n",
       "21       0.229064\n",
       "22       0.229064\n",
       "23       0.229064\n",
       "24       0.229064\n",
       "25       0.229064\n",
       "26       0.229064\n",
       "27       0.229064\n",
       "28       0.229064\n",
       "29       0.229064\n",
       "           ...   \n",
       "61908    0.051769\n",
       "61909    0.051769\n",
       "61910    0.051769\n",
       "61911    0.051769\n",
       "61912    0.051769\n",
       "61913    0.051769\n",
       "61914    0.051769\n",
       "61915    0.051769\n",
       "61916    0.051769\n",
       "61917    0.051769\n",
       "61918    0.051769\n",
       "61919         NaN\n",
       "61920    0.051769\n",
       "61921    0.051769\n",
       "61922    0.051769\n",
       "61923    0.051769\n",
       "61924    0.051769\n",
       "61925    0.051769\n",
       "61926    0.051769\n",
       "61927    0.051769\n",
       "61928    0.051769\n",
       "61929    0.051769\n",
       "61930    0.051769\n",
       "61931    0.051769\n",
       "61932    0.051769\n",
       "61933    0.051769\n",
       "61934    0.051769\n",
       "61935    0.051769\n",
       "61936    0.051769\n",
       "61937    0.051769\n",
       "Name: Ti_C, dtype: float64"
      ]
     },
     "execution_count": 23,
     "metadata": {},
     "output_type": "execute_result"
    }
   ],
   "source": [
    "wells_df.Ti_C"
   ]
  },
  {
   "cell_type": "code",
   "execution_count": 24,
   "metadata": {
    "collapsed": false
   },
   "outputs": [],
   "source": [
    "wells_df.Ti_C.fillna(method='ffill', inplace=True)"
   ]
  },
  {
   "cell_type": "code",
   "execution_count": 25,
   "metadata": {
    "collapsed": false
   },
   "outputs": [
    {
     "data": {
      "text/plain": [
       "0"
      ]
     },
     "execution_count": 25,
     "metadata": {},
     "output_type": "execute_result"
    }
   ],
   "source": [
    "wells_df.Ti_C.isnull().sum()"
   ]
  },
  {
   "cell_type": "code",
   "execution_count": 26,
   "metadata": {
    "collapsed": false
   },
   "outputs": [
    {
     "data": {
      "text/plain": [
       "well_id                         0\n",
       "field                           0\n",
       "block                           0\n",
       "esp_sr_no                       0\n",
       "vendor                          0\n",
       "depth                           0\n",
       "bean                            0\n",
       "perf                            0\n",
       "date_install                    0\n",
       "water_cut                       0\n",
       "daily_flow                      0\n",
       "num_work_orders                 0\n",
       "avg_maintenance_cost_monthly    0\n",
       "status                          0\n",
       "avg_uptime                      0\n",
       "daily_production_variance       0\n",
       "region                          0\n",
       "time                            0\n",
       "Ti_C                            0\n",
       "Pi_Psia                         0\n",
       "Vx_g                            0\n",
       "Vy_g                            0\n",
       "Tm_C                            0\n",
       "MOR_Ohm                         0\n",
       "Lc_mA                           0\n",
       "Lv_V                            0\n",
       "dtype: int64"
      ]
     },
     "execution_count": 26,
     "metadata": {},
     "output_type": "execute_result"
    }
   ],
   "source": [
    "wells_df.isnull().sum()"
   ]
  },
  {
   "cell_type": "markdown",
   "metadata": {},
   "source": [
    "## Checking for outliers"
   ]
  },
  {
   "cell_type": "markdown",
   "metadata": {},
   "source": [
    "### Univariate variables"
   ]
  },
  {
   "cell_type": "code",
   "execution_count": 38,
   "metadata": {
    "collapsed": false
   },
   "outputs": [
    {
     "data": {
      "image/png": "[encoded data removed]",
      "text/plain": [
       "<matplotlib.figure.Figure at 0xe0c1e10>"
      ]
     },
     "metadata": {},
     "output_type": "display_data"
    }
   ],
   "source": [
    "sns.set_context(\"notebook\")\n",
    "fig, axs = plt.subplots(nrows=3, ncols=4, figsize=(15,15))\n",
    "sns.boxplot(wells_df.depth, orient='v', ax=axs[0,0])\n",
    "sns.boxplot(wells_df.bean, orient='v', ax=axs[0,1])\n",
    "sns.boxplot(wells_df.water_cut, orient='v', ax=axs[0,2])\n",
    "sns.boxplot(wells_df.daily_flow, orient='v', ax=axs[0,3])\n",
    "sns.boxplot(wells_df.num_work_orders, orient='v', ax=axs[1,0])\n",
    "sns.boxplot(wells_df.avg_maintenance_cost_monthly, orient='v', ax=axs[1,1])\n",
    "sns.boxplot(wells_df.avg_uptime, orient='v', ax=axs[1,2])\n",
    "sns.boxplot(wells_df.daily_production_variance, orient='v', ax=axs[1,3])\n",
    "sns.boxplot(wells_df.Ti_C, orient='v', ax=axs[2,0])\n",
    "sns.boxplot(wells_df.Pi_Psia, orient='v', ax=axs[2,1])\n",
    "sns.boxplot(wells_df.Tm_C, orient='v', ax=axs[2,2])\n",
    "sns.boxplot(wells_df.Lv_V, orient='v', ax=axs[2,3])\n",
    "fig.tight_layout()"
   ]
  },
  {
   "cell_type": "code",
   "execution_count": 39,
   "metadata": {
    "collapsed": false
   },
   "outputs": [
    {
     "data": {
      "text/plain": [
       "<matplotlib.axes._subplots.AxesSubplot at 0xec21710>"
      ]
     },
     "execution_count": 39,
     "metadata": {},
     "output_type": "execute_result"
    },
    {
     "data": {
      "image/png": "[encoded data removed]",
      "text/plain": [
       "<matplotlib.figure.Figure at 0xad51400>"
      ]
     },
     "metadata": {},
     "output_type": "display_data"
    }
   ],
   "source": [
    "fig, axs = plt.subplots(figsize=(5,5))\n",
    "sns.boxplot(wells_df.MOR_Ohm, orient='v')"
   ]
  },
  {
   "cell_type": "markdown",
   "metadata": {},
   "source": [
    "### All outliers shown above are part of the dataset. I am classifying them as natural outliers and not measurement errors.\n",
    "\n",
    "** avg_maintenance_cost_monthly ** - about 100 ESP's for each outlier\n",
    "\n",
    "** Ti_C ** - about 60 EPS's for each outlier\n",
    "\n",
    "** Pi_Psia ** - about 62 ESP's for each outlier\n",
    "\n",
    "** Tm_C ** - about 62 ESP's for each outlier\n",
    "\n",
    "** Lv_V ** - about 62 ESP's for each outlier\n",
    "\n",
    "** MOR_Ohm ** - about 62 ESP's for each outlier"
   ]
  },
  {
   "cell_type": "markdown",
   "metadata": {},
   "source": [
    "## Multivariate Variables\n",
    "\n",
    "** About 100 ESP have a Vy_g measurement of 195.68. The measurements are part of dataset and I'm classifying them as natural outliers **"
   ]
  },
  {
   "cell_type": "code",
   "execution_count": 100,
   "metadata": {
    "collapsed": false
   },
   "outputs": [
    {
     "data": {
      "image/png": "[encoded data removed]",
      "text/plain": [
       "<matplotlib.figure.Figure at 0x7f45ae66e390>"
      ]
     },
     "metadata": {},
     "output_type": "display_data"
    }
   ],
   "source": [
    "fig, axs = plt.subplots(figsize=(9,9))\n",
    "sns.regplot(wells_df.Vx_g,wells_df.Vy_g, fit_reg=False);"
   ]
  },
  {
   "cell_type": "markdown",
   "metadata": {},
   "source": [
    "## Data Transformations"
   ]
  },
  {
   "cell_type": "markdown",
   "metadata": {},
   "source": [
    "**Adding esp_age to the dataframe**\n",
    "\n",
    "Performed calculation to get the age of the ESP"
   ]
  },
  {
   "cell_type": "markdown",
   "metadata": {},
   "source": [
    "Before calculating the age I want to check the oldest month and day in order to stay constant with all the ages. \n",
    "\n",
    "In this case the latest month and day is 11/04 so it safe to calculate the age drom the following date 11/21/2016"
   ]
  },
  {
   "cell_type": "code",
   "execution_count": 112,
   "metadata": {
    "collapsed": false
   },
   "outputs": [
    {
     "name": "stdout",
     "output_type": "stream",
     "text": [
      "11\n",
      "2005-11-04 00:00:00\n"
     ]
    }
   ],
   "source": [
    "print wells_df.date_install.dt.month.max()\n",
    "print wells_df.loc[(wells_df.date_install.dt.month==11) ].date_install.max()"
   ]
  },
  {
   "cell_type": "code",
   "execution_count": 113,
   "metadata": {
    "collapsed": false
   },
   "outputs": [
    {
     "data": {
      "text/html": [
       "<div>\n",
       "<table border=\"1\" class=\"dataframe\">\n",
       "  <thead>\n",
       "    <tr style=\"text-align: right;\">\n",
       "      <th></th>\n",
       "      <th>well_id</th>\n",
       "      <th>field</th>\n",
       "      <th>block</th>\n",
       "      <th>esp_sr_no</th>\n",
       "      <th>vendor</th>\n",
       "      <th>depth</th>\n",
       "      <th>bean</th>\n",
       "      <th>perf</th>\n",
       "      <th>date_install</th>\n",
       "      <th>water_cut</th>\n",
       "      <th>daily_flow</th>\n",
       "      <th>num_work_orders</th>\n",
       "      <th>avg_maintenance_cost_monthly</th>\n",
       "      <th>status</th>\n",
       "      <th>avg_uptime</th>\n",
       "      <th>daily_production_variance</th>\n",
       "      <th>region</th>\n",
       "      <th>time</th>\n",
       "      <th>Ti_C</th>\n",
       "      <th>Pi_Psia</th>\n",
       "      <th>Vx_g</th>\n",
       "      <th>Vy_g</th>\n",
       "      <th>Tm_C</th>\n",
       "      <th>MOR_Ohm</th>\n",
       "      <th>Lc_mA</th>\n",
       "      <th>Lv_V</th>\n",
       "      <th>esp_age</th>\n",
       "    </tr>\n",
       "  </thead>\n",
       "  <tbody>\n",
       "    <tr>\n",
       "      <th>0</th>\n",
       "      <td>SS-A</td>\n",
       "      <td>SIRHAN</td>\n",
       "      <td>A1</td>\n",
       "      <td>ESP001</td>\n",
       "      <td>Vendor 1</td>\n",
       "      <td>2370</td>\n",
       "      <td>4.5</td>\n",
       "      <td>1895- 1997</td>\n",
       "      <td>1998-01-10</td>\n",
       "      <td>0.38</td>\n",
       "      <td>2500</td>\n",
       "      <td>5</td>\n",
       "      <td>5000.0</td>\n",
       "      <td>Warning</td>\n",
       "      <td>87</td>\n",
       "      <td>7</td>\n",
       "      <td>US</td>\n",
       "      <td>00:01:00</td>\n",
       "      <td>0.229064</td>\n",
       "      <td>22.226368</td>\n",
       "      <td>1533.026751</td>\n",
       "      <td>48.425831</td>\n",
       "      <td>0.845257</td>\n",
       "      <td>29.616</td>\n",
       "      <td>255</td>\n",
       "      <td>0.684238</td>\n",
       "      <td>18</td>\n",
       "    </tr>\n",
       "    <tr>\n",
       "      <th>1</th>\n",
       "      <td>SS-B</td>\n",
       "      <td>SIRHAN</td>\n",
       "      <td>B1</td>\n",
       "      <td>ESP002</td>\n",
       "      <td>Vendor 2</td>\n",
       "      <td>1740</td>\n",
       "      <td>4.5</td>\n",
       "      <td>1395- 1433</td>\n",
       "      <td>2005-11-04</td>\n",
       "      <td>0.34</td>\n",
       "      <td>2800</td>\n",
       "      <td>3</td>\n",
       "      <td>7000.0</td>\n",
       "      <td>Running</td>\n",
       "      <td>92</td>\n",
       "      <td>2</td>\n",
       "      <td>US</td>\n",
       "      <td>00:01:00</td>\n",
       "      <td>0.229064</td>\n",
       "      <td>22.226368</td>\n",
       "      <td>1533.026751</td>\n",
       "      <td>48.425831</td>\n",
       "      <td>0.845257</td>\n",
       "      <td>29.616</td>\n",
       "      <td>255</td>\n",
       "      <td>0.684238</td>\n",
       "      <td>11</td>\n",
       "    </tr>\n",
       "    <tr>\n",
       "      <th>2</th>\n",
       "      <td>SS-C101</td>\n",
       "      <td>SIRHAN</td>\n",
       "      <td>C1</td>\n",
       "      <td>ESP003</td>\n",
       "      <td>Vendor 1</td>\n",
       "      <td>1995</td>\n",
       "      <td>10.0</td>\n",
       "      <td>1427-1479</td>\n",
       "      <td>2003-01-31</td>\n",
       "      <td>0.40</td>\n",
       "      <td>3100</td>\n",
       "      <td>6</td>\n",
       "      <td>4000.0</td>\n",
       "      <td>Warning</td>\n",
       "      <td>94</td>\n",
       "      <td>0</td>\n",
       "      <td>US</td>\n",
       "      <td>00:01:00</td>\n",
       "      <td>0.229064</td>\n",
       "      <td>22.226368</td>\n",
       "      <td>1533.026751</td>\n",
       "      <td>48.425831</td>\n",
       "      <td>0.845257</td>\n",
       "      <td>29.616</td>\n",
       "      <td>255</td>\n",
       "      <td>0.684238</td>\n",
       "      <td>13</td>\n",
       "    </tr>\n",
       "    <tr>\n",
       "      <th>3</th>\n",
       "      <td>SS-C102</td>\n",
       "      <td>SIRHAN</td>\n",
       "      <td>A1</td>\n",
       "      <td>ESP004</td>\n",
       "      <td>Vendor 3</td>\n",
       "      <td>1790</td>\n",
       "      <td>5.0</td>\n",
       "      <td>1424-1480</td>\n",
       "      <td>2004-09-07</td>\n",
       "      <td>0.55</td>\n",
       "      <td>2100</td>\n",
       "      <td>3</td>\n",
       "      <td>6000.0</td>\n",
       "      <td>Running</td>\n",
       "      <td>78</td>\n",
       "      <td>16</td>\n",
       "      <td>US</td>\n",
       "      <td>00:01:00</td>\n",
       "      <td>0.229064</td>\n",
       "      <td>22.226368</td>\n",
       "      <td>1533.026751</td>\n",
       "      <td>48.425831</td>\n",
       "      <td>0.845257</td>\n",
       "      <td>29.616</td>\n",
       "      <td>255</td>\n",
       "      <td>0.684238</td>\n",
       "      <td>12</td>\n",
       "    </tr>\n",
       "    <tr>\n",
       "      <th>4</th>\n",
       "      <td>SS-C103</td>\n",
       "      <td>SIRHAN</td>\n",
       "      <td>B1</td>\n",
       "      <td>ESP005</td>\n",
       "      <td>Vendor 1</td>\n",
       "      <td>2140</td>\n",
       "      <td>10.0</td>\n",
       "      <td>1442 � 1492</td>\n",
       "      <td>2009-04-11</td>\n",
       "      <td>0.55</td>\n",
       "      <td>2400</td>\n",
       "      <td>5</td>\n",
       "      <td>5500.0</td>\n",
       "      <td>Warning</td>\n",
       "      <td>84</td>\n",
       "      <td>10</td>\n",
       "      <td>US</td>\n",
       "      <td>00:01:00</td>\n",
       "      <td>0.229064</td>\n",
       "      <td>22.226368</td>\n",
       "      <td>1533.026751</td>\n",
       "      <td>48.425831</td>\n",
       "      <td>0.845257</td>\n",
       "      <td>29.616</td>\n",
       "      <td>255</td>\n",
       "      <td>0.684238</td>\n",
       "      <td>7</td>\n",
       "    </tr>\n",
       "  </tbody>\n",
       "</table>\n",
       "</div>"
      ],
      "text/plain": [
       "   well_id   field block esp_sr_no    vendor  depth  bean         perf  \\\n",
       "0     SS-A  SIRHAN    A1    ESP001  Vendor 1   2370   4.5   1895- 1997   \n",
       "1     SS-B  SIRHAN    B1    ESP002  Vendor 2   1740   4.5   1395- 1433   \n",
       "2  SS-C101  SIRHAN    C1    ESP003  Vendor 1   1995  10.0    1427-1479   \n",
       "3  SS-C102  SIRHAN    A1    ESP004  Vendor 3   1790   5.0    1424-1480   \n",
       "4  SS-C103  SIRHAN    B1    ESP005  Vendor 1   2140  10.0  1442 � 1492   \n",
       "\n",
       "  date_install  water_cut  daily_flow  num_work_orders  \\\n",
       "0   1998-01-10       0.38        2500                5   \n",
       "1   2005-11-04       0.34        2800                3   \n",
       "2   2003-01-31       0.40        3100                6   \n",
       "3   2004-09-07       0.55        2100                3   \n",
       "4   2009-04-11       0.55        2400                5   \n",
       "\n",
       "   avg_maintenance_cost_monthly   status  avg_uptime  \\\n",
       "0                        5000.0  Warning          87   \n",
       "1                        7000.0  Running          92   \n",
       "2                        4000.0  Warning          94   \n",
       "3                        6000.0  Running          78   \n",
       "4                        5500.0  Warning          84   \n",
       "\n",
       "   daily_production_variance region      time      Ti_C    Pi_Psia  \\\n",
       "0                          7     US  00:01:00  0.229064  22.226368   \n",
       "1                          2     US  00:01:00  0.229064  22.226368   \n",
       "2                          0     US  00:01:00  0.229064  22.226368   \n",
       "3                         16     US  00:01:00  0.229064  22.226368   \n",
       "4                         10     US  00:01:00  0.229064  22.226368   \n",
       "\n",
       "          Vx_g       Vy_g      Tm_C  MOR_Ohm  Lc_mA      Lv_V  esp_age  \n",
       "0  1533.026751  48.425831  0.845257   29.616    255  0.684238       18  \n",
       "1  1533.026751  48.425831  0.845257   29.616    255  0.684238       11  \n",
       "2  1533.026751  48.425831  0.845257   29.616    255  0.684238       13  \n",
       "3  1533.026751  48.425831  0.845257   29.616    255  0.684238       12  \n",
       "4  1533.026751  48.425831  0.845257   29.616    255  0.684238        7  "
      ]
     },
     "execution_count": 113,
     "metadata": {},
     "output_type": "execute_result"
    }
   ],
   "source": [
    "import datetime as DT\n",
    "\n",
    "now = pd.Timestamp(DT.datetime(2016,11,21,0,0,0)) #date 11/21/2016 00:00:00  \n",
    "wells_df['esp_age'] = (now - wells_df.date_install).astype('<m8[Y]')\n",
    "wells_df['esp_age'] = wells_df['esp_age'].astype('int64')\n",
    "wells_df.head()"
   ]
  },
  {
   "cell_type": "code",
   "execution_count": 114,
   "metadata": {
    "collapsed": true
   },
   "outputs": [],
   "source": [
    "wells_df.drop('date_install', axis=1, inplace = True) # dropping unnecessary columns"
   ]
  },
  {
   "cell_type": "markdown",
   "metadata": {},
   "source": [
    "## Adding performance difference to the datafame\n",
    "The performance label has two value *low-high*. I'm taking the difference from low and high "
   ]
  },
  {
   "cell_type": "code",
   "execution_count": 115,
   "metadata": {
    "collapsed": false
   },
   "outputs": [
    {
     "data": {
      "text/plain": [
       "array(['1895- 1997', '1395- 1433', '1427-1479', '1424-1480',\n",
       "       '1442 \\x96 1492', '1418-1470'], dtype=object)"
      ]
     },
     "execution_count": 115,
     "metadata": {},
     "output_type": "execute_result"
    }
   ],
   "source": [
    "wells_df.perf.unique()"
   ]
  },
  {
   "cell_type": "code",
   "execution_count": 116,
   "metadata": {
    "collapsed": false
   },
   "outputs": [],
   "source": [
    "wells_df['low_perf'] = wells_df['perf'].astype(str).str[:4] # gets the first 4 characters from perf\n",
    "wells_df['high_perf'] = wells_df['perf'].astype(str).str[-4:] # gets the last 4 characters from perf"
   ]
  },
  {
   "cell_type": "code",
   "execution_count": 118,
   "metadata": {
    "collapsed": false,
    "scrolled": true
   },
   "outputs": [
    {
     "data": {
      "text/html": [
       "<div>\n",
       "<table border=\"1\" class=\"dataframe\">\n",
       "  <thead>\n",
       "    <tr style=\"text-align: right;\">\n",
       "      <th></th>\n",
       "      <th>perf</th>\n",
       "      <th>low_perf</th>\n",
       "      <th>high_perf</th>\n",
       "    </tr>\n",
       "  </thead>\n",
       "  <tbody>\n",
       "    <tr>\n",
       "      <th>0</th>\n",
       "      <td>1895- 1997</td>\n",
       "      <td>1895</td>\n",
       "      <td>1997</td>\n",
       "    </tr>\n",
       "    <tr>\n",
       "      <th>1</th>\n",
       "      <td>1395- 1433</td>\n",
       "      <td>1395</td>\n",
       "      <td>1433</td>\n",
       "    </tr>\n",
       "    <tr>\n",
       "      <th>2</th>\n",
       "      <td>1427-1479</td>\n",
       "      <td>1427</td>\n",
       "      <td>1479</td>\n",
       "    </tr>\n",
       "    <tr>\n",
       "      <th>3</th>\n",
       "      <td>1424-1480</td>\n",
       "      <td>1424</td>\n",
       "      <td>1480</td>\n",
       "    </tr>\n",
       "    <tr>\n",
       "      <th>4</th>\n",
       "      <td>1442 � 1492</td>\n",
       "      <td>1442</td>\n",
       "      <td>1492</td>\n",
       "    </tr>\n",
       "    <tr>\n",
       "      <th>5</th>\n",
       "      <td>1418-1470</td>\n",
       "      <td>1418</td>\n",
       "      <td>1470</td>\n",
       "    </tr>\n",
       "    <tr>\n",
       "      <th>6</th>\n",
       "      <td>1895- 1997</td>\n",
       "      <td>1895</td>\n",
       "      <td>1997</td>\n",
       "    </tr>\n",
       "    <tr>\n",
       "      <th>7</th>\n",
       "      <td>1395- 1433</td>\n",
       "      <td>1395</td>\n",
       "      <td>1433</td>\n",
       "    </tr>\n",
       "    <tr>\n",
       "      <th>8</th>\n",
       "      <td>1427-1479</td>\n",
       "      <td>1427</td>\n",
       "      <td>1479</td>\n",
       "    </tr>\n",
       "    <tr>\n",
       "      <th>9</th>\n",
       "      <td>1895- 1997</td>\n",
       "      <td>1895</td>\n",
       "      <td>1997</td>\n",
       "    </tr>\n",
       "    <tr>\n",
       "      <th>10</th>\n",
       "      <td>1418-1470</td>\n",
       "      <td>1418</td>\n",
       "      <td>1470</td>\n",
       "    </tr>\n",
       "    <tr>\n",
       "      <th>11</th>\n",
       "      <td>1895- 1997</td>\n",
       "      <td>1895</td>\n",
       "      <td>1997</td>\n",
       "    </tr>\n",
       "    <tr>\n",
       "      <th>12</th>\n",
       "      <td>1395- 1433</td>\n",
       "      <td>1395</td>\n",
       "      <td>1433</td>\n",
       "    </tr>\n",
       "    <tr>\n",
       "      <th>13</th>\n",
       "      <td>1895- 1997</td>\n",
       "      <td>1895</td>\n",
       "      <td>1997</td>\n",
       "    </tr>\n",
       "    <tr>\n",
       "      <th>14</th>\n",
       "      <td>1395- 1433</td>\n",
       "      <td>1395</td>\n",
       "      <td>1433</td>\n",
       "    </tr>\n",
       "    <tr>\n",
       "      <th>15</th>\n",
       "      <td>1427-1479</td>\n",
       "      <td>1427</td>\n",
       "      <td>1479</td>\n",
       "    </tr>\n",
       "    <tr>\n",
       "      <th>16</th>\n",
       "      <td>1424-1480</td>\n",
       "      <td>1424</td>\n",
       "      <td>1480</td>\n",
       "    </tr>\n",
       "    <tr>\n",
       "      <th>17</th>\n",
       "      <td>1442 � 1492</td>\n",
       "      <td>1442</td>\n",
       "      <td>1492</td>\n",
       "    </tr>\n",
       "    <tr>\n",
       "      <th>18</th>\n",
       "      <td>1418-1470</td>\n",
       "      <td>1418</td>\n",
       "      <td>1470</td>\n",
       "    </tr>\n",
       "    <tr>\n",
       "      <th>19</th>\n",
       "      <td>1895- 1997</td>\n",
       "      <td>1895</td>\n",
       "      <td>1997</td>\n",
       "    </tr>\n",
       "    <tr>\n",
       "      <th>20</th>\n",
       "      <td>1395- 1433</td>\n",
       "      <td>1395</td>\n",
       "      <td>1433</td>\n",
       "    </tr>\n",
       "    <tr>\n",
       "      <th>21</th>\n",
       "      <td>1427-1479</td>\n",
       "      <td>1427</td>\n",
       "      <td>1479</td>\n",
       "    </tr>\n",
       "    <tr>\n",
       "      <th>22</th>\n",
       "      <td>1895- 1997</td>\n",
       "      <td>1895</td>\n",
       "      <td>1997</td>\n",
       "    </tr>\n",
       "    <tr>\n",
       "      <th>23</th>\n",
       "      <td>1418-1470</td>\n",
       "      <td>1418</td>\n",
       "      <td>1470</td>\n",
       "    </tr>\n",
       "    <tr>\n",
       "      <th>24</th>\n",
       "      <td>1895- 1997</td>\n",
       "      <td>1895</td>\n",
       "      <td>1997</td>\n",
       "    </tr>\n",
       "    <tr>\n",
       "      <th>25</th>\n",
       "      <td>1395- 1433</td>\n",
       "      <td>1395</td>\n",
       "      <td>1433</td>\n",
       "    </tr>\n",
       "    <tr>\n",
       "      <th>26</th>\n",
       "      <td>1895- 1997</td>\n",
       "      <td>1895</td>\n",
       "      <td>1997</td>\n",
       "    </tr>\n",
       "    <tr>\n",
       "      <th>27</th>\n",
       "      <td>1395- 1433</td>\n",
       "      <td>1395</td>\n",
       "      <td>1433</td>\n",
       "    </tr>\n",
       "    <tr>\n",
       "      <th>28</th>\n",
       "      <td>1427-1479</td>\n",
       "      <td>1427</td>\n",
       "      <td>1479</td>\n",
       "    </tr>\n",
       "    <tr>\n",
       "      <th>29</th>\n",
       "      <td>1424-1480</td>\n",
       "      <td>1424</td>\n",
       "      <td>1480</td>\n",
       "    </tr>\n",
       "    <tr>\n",
       "      <th>...</th>\n",
       "      <td>...</td>\n",
       "      <td>...</td>\n",
       "      <td>...</td>\n",
       "    </tr>\n",
       "    <tr>\n",
       "      <th>61908</th>\n",
       "      <td>1395- 1433</td>\n",
       "      <td>1395</td>\n",
       "      <td>1433</td>\n",
       "    </tr>\n",
       "    <tr>\n",
       "      <th>61909</th>\n",
       "      <td>1427-1479</td>\n",
       "      <td>1427</td>\n",
       "      <td>1479</td>\n",
       "    </tr>\n",
       "    <tr>\n",
       "      <th>61910</th>\n",
       "      <td>1424-1480</td>\n",
       "      <td>1424</td>\n",
       "      <td>1480</td>\n",
       "    </tr>\n",
       "    <tr>\n",
       "      <th>61911</th>\n",
       "      <td>1442 � 1492</td>\n",
       "      <td>1442</td>\n",
       "      <td>1492</td>\n",
       "    </tr>\n",
       "    <tr>\n",
       "      <th>61912</th>\n",
       "      <td>1418-1470</td>\n",
       "      <td>1418</td>\n",
       "      <td>1470</td>\n",
       "    </tr>\n",
       "    <tr>\n",
       "      <th>61913</th>\n",
       "      <td>1895- 1997</td>\n",
       "      <td>1895</td>\n",
       "      <td>1997</td>\n",
       "    </tr>\n",
       "    <tr>\n",
       "      <th>61914</th>\n",
       "      <td>1395- 1433</td>\n",
       "      <td>1395</td>\n",
       "      <td>1433</td>\n",
       "    </tr>\n",
       "    <tr>\n",
       "      <th>61915</th>\n",
       "      <td>1427-1479</td>\n",
       "      <td>1427</td>\n",
       "      <td>1479</td>\n",
       "    </tr>\n",
       "    <tr>\n",
       "      <th>61916</th>\n",
       "      <td>1895- 1997</td>\n",
       "      <td>1895</td>\n",
       "      <td>1997</td>\n",
       "    </tr>\n",
       "    <tr>\n",
       "      <th>61917</th>\n",
       "      <td>1418-1470</td>\n",
       "      <td>1418</td>\n",
       "      <td>1470</td>\n",
       "    </tr>\n",
       "    <tr>\n",
       "      <th>61918</th>\n",
       "      <td>1895- 1997</td>\n",
       "      <td>1895</td>\n",
       "      <td>1997</td>\n",
       "    </tr>\n",
       "    <tr>\n",
       "      <th>61919</th>\n",
       "      <td>1395- 1433</td>\n",
       "      <td>1395</td>\n",
       "      <td>1433</td>\n",
       "    </tr>\n",
       "    <tr>\n",
       "      <th>61920</th>\n",
       "      <td>1895- 1997</td>\n",
       "      <td>1895</td>\n",
       "      <td>1997</td>\n",
       "    </tr>\n",
       "    <tr>\n",
       "      <th>61921</th>\n",
       "      <td>1395- 1433</td>\n",
       "      <td>1395</td>\n",
       "      <td>1433</td>\n",
       "    </tr>\n",
       "    <tr>\n",
       "      <th>61922</th>\n",
       "      <td>1427-1479</td>\n",
       "      <td>1427</td>\n",
       "      <td>1479</td>\n",
       "    </tr>\n",
       "    <tr>\n",
       "      <th>61923</th>\n",
       "      <td>1424-1480</td>\n",
       "      <td>1424</td>\n",
       "      <td>1480</td>\n",
       "    </tr>\n",
       "    <tr>\n",
       "      <th>61924</th>\n",
       "      <td>1442 � 1492</td>\n",
       "      <td>1442</td>\n",
       "      <td>1492</td>\n",
       "    </tr>\n",
       "    <tr>\n",
       "      <th>61925</th>\n",
       "      <td>1418-1470</td>\n",
       "      <td>1418</td>\n",
       "      <td>1470</td>\n",
       "    </tr>\n",
       "    <tr>\n",
       "      <th>61926</th>\n",
       "      <td>1895- 1997</td>\n",
       "      <td>1895</td>\n",
       "      <td>1997</td>\n",
       "    </tr>\n",
       "    <tr>\n",
       "      <th>61927</th>\n",
       "      <td>1395- 1433</td>\n",
       "      <td>1395</td>\n",
       "      <td>1433</td>\n",
       "    </tr>\n",
       "    <tr>\n",
       "      <th>61928</th>\n",
       "      <td>1427-1479</td>\n",
       "      <td>1427</td>\n",
       "      <td>1479</td>\n",
       "    </tr>\n",
       "    <tr>\n",
       "      <th>61929</th>\n",
       "      <td>1895- 1997</td>\n",
       "      <td>1895</td>\n",
       "      <td>1997</td>\n",
       "    </tr>\n",
       "    <tr>\n",
       "      <th>61930</th>\n",
       "      <td>1418-1470</td>\n",
       "      <td>1418</td>\n",
       "      <td>1470</td>\n",
       "    </tr>\n",
       "    <tr>\n",
       "      <th>61931</th>\n",
       "      <td>1895- 1997</td>\n",
       "      <td>1895</td>\n",
       "      <td>1997</td>\n",
       "    </tr>\n",
       "    <tr>\n",
       "      <th>61932</th>\n",
       "      <td>1395- 1433</td>\n",
       "      <td>1395</td>\n",
       "      <td>1433</td>\n",
       "    </tr>\n",
       "    <tr>\n",
       "      <th>61933</th>\n",
       "      <td>1895- 1997</td>\n",
       "      <td>1895</td>\n",
       "      <td>1997</td>\n",
       "    </tr>\n",
       "    <tr>\n",
       "      <th>61934</th>\n",
       "      <td>1395- 1433</td>\n",
       "      <td>1395</td>\n",
       "      <td>1433</td>\n",
       "    </tr>\n",
       "    <tr>\n",
       "      <th>61935</th>\n",
       "      <td>1427-1479</td>\n",
       "      <td>1427</td>\n",
       "      <td>1479</td>\n",
       "    </tr>\n",
       "    <tr>\n",
       "      <th>61936</th>\n",
       "      <td>1424-1480</td>\n",
       "      <td>1424</td>\n",
       "      <td>1480</td>\n",
       "    </tr>\n",
       "    <tr>\n",
       "      <th>61937</th>\n",
       "      <td>1442 � 1492</td>\n",
       "      <td>1442</td>\n",
       "      <td>1492</td>\n",
       "    </tr>\n",
       "  </tbody>\n",
       "</table>\n",
       "<p>61938 rows × 3 columns</p>\n",
       "</div>"
      ],
      "text/plain": [
       "              perf low_perf high_perf\n",
       "0       1895- 1997     1895      1997\n",
       "1       1395- 1433     1395      1433\n",
       "2        1427-1479     1427      1479\n",
       "3        1424-1480     1424      1480\n",
       "4      1442 � 1492     1442      1492\n",
       "5        1418-1470     1418      1470\n",
       "6       1895- 1997     1895      1997\n",
       "7       1395- 1433     1395      1433\n",
       "8        1427-1479     1427      1479\n",
       "9       1895- 1997     1895      1997\n",
       "10       1418-1470     1418      1470\n",
       "11      1895- 1997     1895      1997\n",
       "12      1395- 1433     1395      1433\n",
       "13      1895- 1997     1895      1997\n",
       "14      1395- 1433     1395      1433\n",
       "15       1427-1479     1427      1479\n",
       "16       1424-1480     1424      1480\n",
       "17     1442 � 1492     1442      1492\n",
       "18       1418-1470     1418      1470\n",
       "19      1895- 1997     1895      1997\n",
       "20      1395- 1433     1395      1433\n",
       "21       1427-1479     1427      1479\n",
       "22      1895- 1997     1895      1997\n",
       "23       1418-1470     1418      1470\n",
       "24      1895- 1997     1895      1997\n",
       "25      1395- 1433     1395      1433\n",
       "26      1895- 1997     1895      1997\n",
       "27      1395- 1433     1395      1433\n",
       "28       1427-1479     1427      1479\n",
       "29       1424-1480     1424      1480\n",
       "...            ...      ...       ...\n",
       "61908   1395- 1433     1395      1433\n",
       "61909    1427-1479     1427      1479\n",
       "61910    1424-1480     1424      1480\n",
       "61911  1442 � 1492     1442      1492\n",
       "61912    1418-1470     1418      1470\n",
       "61913   1895- 1997     1895      1997\n",
       "61914   1395- 1433     1395      1433\n",
       "61915    1427-1479     1427      1479\n",
       "61916   1895- 1997     1895      1997\n",
       "61917    1418-1470     1418      1470\n",
       "61918   1895- 1997     1895      1997\n",
       "61919   1395- 1433     1395      1433\n",
       "61920   1895- 1997     1895      1997\n",
       "61921   1395- 1433     1395      1433\n",
       "61922    1427-1479     1427      1479\n",
       "61923    1424-1480     1424      1480\n",
       "61924  1442 � 1492     1442      1492\n",
       "61925    1418-1470     1418      1470\n",
       "61926   1895- 1997     1895      1997\n",
       "61927   1395- 1433     1395      1433\n",
       "61928    1427-1479     1427      1479\n",
       "61929   1895- 1997     1895      1997\n",
       "61930    1418-1470     1418      1470\n",
       "61931   1895- 1997     1895      1997\n",
       "61932   1395- 1433     1395      1433\n",
       "61933   1895- 1997     1895      1997\n",
       "61934   1395- 1433     1395      1433\n",
       "61935    1427-1479     1427      1479\n",
       "61936    1424-1480     1424      1480\n",
       "61937  1442 � 1492     1442      1492\n",
       "\n",
       "[61938 rows x 3 columns]"
      ]
     },
     "execution_count": 118,
     "metadata": {},
     "output_type": "execute_result"
    }
   ],
   "source": [
    "wells_df[['perf','low_perf','high_perf']]"
   ]
  },
  {
   "cell_type": "code",
   "execution_count": 119,
   "metadata": {
    "collapsed": true
   },
   "outputs": [],
   "source": [
    "wells_df['perf_diff'] = wells_df.high_perf.astype(int) - wells_df.low_perf.astype(int)"
   ]
  },
  {
   "cell_type": "code",
   "execution_count": 120,
   "metadata": {
    "collapsed": false,
    "scrolled": true
   },
   "outputs": [
    {
     "data": {
      "text/html": [
       "<div>\n",
       "<table border=\"1\" class=\"dataframe\">\n",
       "  <thead>\n",
       "    <tr style=\"text-align: right;\">\n",
       "      <th></th>\n",
       "      <th>perf</th>\n",
       "      <th>perf_diff</th>\n",
       "    </tr>\n",
       "  </thead>\n",
       "  <tbody>\n",
       "    <tr>\n",
       "      <th>0</th>\n",
       "      <td>1895- 1997</td>\n",
       "      <td>102</td>\n",
       "    </tr>\n",
       "    <tr>\n",
       "      <th>1</th>\n",
       "      <td>1395- 1433</td>\n",
       "      <td>38</td>\n",
       "    </tr>\n",
       "    <tr>\n",
       "      <th>2</th>\n",
       "      <td>1427-1479</td>\n",
       "      <td>52</td>\n",
       "    </tr>\n",
       "    <tr>\n",
       "      <th>3</th>\n",
       "      <td>1424-1480</td>\n",
       "      <td>56</td>\n",
       "    </tr>\n",
       "    <tr>\n",
       "      <th>4</th>\n",
       "      <td>1442 � 1492</td>\n",
       "      <td>50</td>\n",
       "    </tr>\n",
       "    <tr>\n",
       "      <th>5</th>\n",
       "      <td>1418-1470</td>\n",
       "      <td>52</td>\n",
       "    </tr>\n",
       "    <tr>\n",
       "      <th>6</th>\n",
       "      <td>1895- 1997</td>\n",
       "      <td>102</td>\n",
       "    </tr>\n",
       "    <tr>\n",
       "      <th>7</th>\n",
       "      <td>1395- 1433</td>\n",
       "      <td>38</td>\n",
       "    </tr>\n",
       "    <tr>\n",
       "      <th>8</th>\n",
       "      <td>1427-1479</td>\n",
       "      <td>52</td>\n",
       "    </tr>\n",
       "    <tr>\n",
       "      <th>9</th>\n",
       "      <td>1895- 1997</td>\n",
       "      <td>102</td>\n",
       "    </tr>\n",
       "    <tr>\n",
       "      <th>10</th>\n",
       "      <td>1418-1470</td>\n",
       "      <td>52</td>\n",
       "    </tr>\n",
       "    <tr>\n",
       "      <th>11</th>\n",
       "      <td>1895- 1997</td>\n",
       "      <td>102</td>\n",
       "    </tr>\n",
       "    <tr>\n",
       "      <th>12</th>\n",
       "      <td>1395- 1433</td>\n",
       "      <td>38</td>\n",
       "    </tr>\n",
       "    <tr>\n",
       "      <th>13</th>\n",
       "      <td>1895- 1997</td>\n",
       "      <td>102</td>\n",
       "    </tr>\n",
       "    <tr>\n",
       "      <th>14</th>\n",
       "      <td>1395- 1433</td>\n",
       "      <td>38</td>\n",
       "    </tr>\n",
       "    <tr>\n",
       "      <th>15</th>\n",
       "      <td>1427-1479</td>\n",
       "      <td>52</td>\n",
       "    </tr>\n",
       "    <tr>\n",
       "      <th>16</th>\n",
       "      <td>1424-1480</td>\n",
       "      <td>56</td>\n",
       "    </tr>\n",
       "    <tr>\n",
       "      <th>17</th>\n",
       "      <td>1442 � 1492</td>\n",
       "      <td>50</td>\n",
       "    </tr>\n",
       "    <tr>\n",
       "      <th>18</th>\n",
       "      <td>1418-1470</td>\n",
       "      <td>52</td>\n",
       "    </tr>\n",
       "    <tr>\n",
       "      <th>19</th>\n",
       "      <td>1895- 1997</td>\n",
       "      <td>102</td>\n",
       "    </tr>\n",
       "    <tr>\n",
       "      <th>20</th>\n",
       "      <td>1395- 1433</td>\n",
       "      <td>38</td>\n",
       "    </tr>\n",
       "    <tr>\n",
       "      <th>21</th>\n",
       "      <td>1427-1479</td>\n",
       "      <td>52</td>\n",
       "    </tr>\n",
       "    <tr>\n",
       "      <th>22</th>\n",
       "      <td>1895- 1997</td>\n",
       "      <td>102</td>\n",
       "    </tr>\n",
       "    <tr>\n",
       "      <th>23</th>\n",
       "      <td>1418-1470</td>\n",
       "      <td>52</td>\n",
       "    </tr>\n",
       "    <tr>\n",
       "      <th>24</th>\n",
       "      <td>1895- 1997</td>\n",
       "      <td>102</td>\n",
       "    </tr>\n",
       "    <tr>\n",
       "      <th>25</th>\n",
       "      <td>1395- 1433</td>\n",
       "      <td>38</td>\n",
       "    </tr>\n",
       "    <tr>\n",
       "      <th>26</th>\n",
       "      <td>1895- 1997</td>\n",
       "      <td>102</td>\n",
       "    </tr>\n",
       "    <tr>\n",
       "      <th>27</th>\n",
       "      <td>1395- 1433</td>\n",
       "      <td>38</td>\n",
       "    </tr>\n",
       "    <tr>\n",
       "      <th>28</th>\n",
       "      <td>1427-1479</td>\n",
       "      <td>52</td>\n",
       "    </tr>\n",
       "    <tr>\n",
       "      <th>29</th>\n",
       "      <td>1424-1480</td>\n",
       "      <td>56</td>\n",
       "    </tr>\n",
       "    <tr>\n",
       "      <th>...</th>\n",
       "      <td>...</td>\n",
       "      <td>...</td>\n",
       "    </tr>\n",
       "    <tr>\n",
       "      <th>61908</th>\n",
       "      <td>1395- 1433</td>\n",
       "      <td>38</td>\n",
       "    </tr>\n",
       "    <tr>\n",
       "      <th>61909</th>\n",
       "      <td>1427-1479</td>\n",
       "      <td>52</td>\n",
       "    </tr>\n",
       "    <tr>\n",
       "      <th>61910</th>\n",
       "      <td>1424-1480</td>\n",
       "      <td>56</td>\n",
       "    </tr>\n",
       "    <tr>\n",
       "      <th>61911</th>\n",
       "      <td>1442 � 1492</td>\n",
       "      <td>50</td>\n",
       "    </tr>\n",
       "    <tr>\n",
       "      <th>61912</th>\n",
       "      <td>1418-1470</td>\n",
       "      <td>52</td>\n",
       "    </tr>\n",
       "    <tr>\n",
       "      <th>61913</th>\n",
       "      <td>1895- 1997</td>\n",
       "      <td>102</td>\n",
       "    </tr>\n",
       "    <tr>\n",
       "      <th>61914</th>\n",
       "      <td>1395- 1433</td>\n",
       "      <td>38</td>\n",
       "    </tr>\n",
       "    <tr>\n",
       "      <th>61915</th>\n",
       "      <td>1427-1479</td>\n",
       "      <td>52</td>\n",
       "    </tr>\n",
       "    <tr>\n",
       "      <th>61916</th>\n",
       "      <td>1895- 1997</td>\n",
       "      <td>102</td>\n",
       "    </tr>\n",
       "    <tr>\n",
       "      <th>61917</th>\n",
       "      <td>1418-1470</td>\n",
       "      <td>52</td>\n",
       "    </tr>\n",
       "    <tr>\n",
       "      <th>61918</th>\n",
       "      <td>1895- 1997</td>\n",
       "      <td>102</td>\n",
       "    </tr>\n",
       "    <tr>\n",
       "      <th>61919</th>\n",
       "      <td>1395- 1433</td>\n",
       "      <td>38</td>\n",
       "    </tr>\n",
       "    <tr>\n",
       "      <th>61920</th>\n",
       "      <td>1895- 1997</td>\n",
       "      <td>102</td>\n",
       "    </tr>\n",
       "    <tr>\n",
       "      <th>61921</th>\n",
       "      <td>1395- 1433</td>\n",
       "      <td>38</td>\n",
       "    </tr>\n",
       "    <tr>\n",
       "      <th>61922</th>\n",
       "      <td>1427-1479</td>\n",
       "      <td>52</td>\n",
       "    </tr>\n",
       "    <tr>\n",
       "      <th>61923</th>\n",
       "      <td>1424-1480</td>\n",
       "      <td>56</td>\n",
       "    </tr>\n",
       "    <tr>\n",
       "      <th>61924</th>\n",
       "      <td>1442 � 1492</td>\n",
       "      <td>50</td>\n",
       "    </tr>\n",
       "    <tr>\n",
       "      <th>61925</th>\n",
       "      <td>1418-1470</td>\n",
       "      <td>52</td>\n",
       "    </tr>\n",
       "    <tr>\n",
       "      <th>61926</th>\n",
       "      <td>1895- 1997</td>\n",
       "      <td>102</td>\n",
       "    </tr>\n",
       "    <tr>\n",
       "      <th>61927</th>\n",
       "      <td>1395- 1433</td>\n",
       "      <td>38</td>\n",
       "    </tr>\n",
       "    <tr>\n",
       "      <th>61928</th>\n",
       "      <td>1427-1479</td>\n",
       "      <td>52</td>\n",
       "    </tr>\n",
       "    <tr>\n",
       "      <th>61929</th>\n",
       "      <td>1895- 1997</td>\n",
       "      <td>102</td>\n",
       "    </tr>\n",
       "    <tr>\n",
       "      <th>61930</th>\n",
       "      <td>1418-1470</td>\n",
       "      <td>52</td>\n",
       "    </tr>\n",
       "    <tr>\n",
       "      <th>61931</th>\n",
       "      <td>1895- 1997</td>\n",
       "      <td>102</td>\n",
       "    </tr>\n",
       "    <tr>\n",
       "      <th>61932</th>\n",
       "      <td>1395- 1433</td>\n",
       "      <td>38</td>\n",
       "    </tr>\n",
       "    <tr>\n",
       "      <th>61933</th>\n",
       "      <td>1895- 1997</td>\n",
       "      <td>102</td>\n",
       "    </tr>\n",
       "    <tr>\n",
       "      <th>61934</th>\n",
       "      <td>1395- 1433</td>\n",
       "      <td>38</td>\n",
       "    </tr>\n",
       "    <tr>\n",
       "      <th>61935</th>\n",
       "      <td>1427-1479</td>\n",
       "      <td>52</td>\n",
       "    </tr>\n",
       "    <tr>\n",
       "      <th>61936</th>\n",
       "      <td>1424-1480</td>\n",
       "      <td>56</td>\n",
       "    </tr>\n",
       "    <tr>\n",
       "      <th>61937</th>\n",
       "      <td>1442 � 1492</td>\n",
       "      <td>50</td>\n",
       "    </tr>\n",
       "  </tbody>\n",
       "</table>\n",
       "<p>61938 rows × 2 columns</p>\n",
       "</div>"
      ],
      "text/plain": [
       "              perf  perf_diff\n",
       "0       1895- 1997        102\n",
       "1       1395- 1433         38\n",
       "2        1427-1479         52\n",
       "3        1424-1480         56\n",
       "4      1442 � 1492         50\n",
       "5        1418-1470         52\n",
       "6       1895- 1997        102\n",
       "7       1395- 1433         38\n",
       "8        1427-1479         52\n",
       "9       1895- 1997        102\n",
       "10       1418-1470         52\n",
       "11      1895- 1997        102\n",
       "12      1395- 1433         38\n",
       "13      1895- 1997        102\n",
       "14      1395- 1433         38\n",
       "15       1427-1479         52\n",
       "16       1424-1480         56\n",
       "17     1442 � 1492         50\n",
       "18       1418-1470         52\n",
       "19      1895- 1997        102\n",
       "20      1395- 1433         38\n",
       "21       1427-1479         52\n",
       "22      1895- 1997        102\n",
       "23       1418-1470         52\n",
       "24      1895- 1997        102\n",
       "25      1395- 1433         38\n",
       "26      1895- 1997        102\n",
       "27      1395- 1433         38\n",
       "28       1427-1479         52\n",
       "29       1424-1480         56\n",
       "...            ...        ...\n",
       "61908   1395- 1433         38\n",
       "61909    1427-1479         52\n",
       "61910    1424-1480         56\n",
       "61911  1442 � 1492         50\n",
       "61912    1418-1470         52\n",
       "61913   1895- 1997        102\n",
       "61914   1395- 1433         38\n",
       "61915    1427-1479         52\n",
       "61916   1895- 1997        102\n",
       "61917    1418-1470         52\n",
       "61918   1895- 1997        102\n",
       "61919   1395- 1433         38\n",
       "61920   1895- 1997        102\n",
       "61921   1395- 1433         38\n",
       "61922    1427-1479         52\n",
       "61923    1424-1480         56\n",
       "61924  1442 � 1492         50\n",
       "61925    1418-1470         52\n",
       "61926   1895- 1997        102\n",
       "61927   1395- 1433         38\n",
       "61928    1427-1479         52\n",
       "61929   1895- 1997        102\n",
       "61930    1418-1470         52\n",
       "61931   1895- 1997        102\n",
       "61932   1395- 1433         38\n",
       "61933   1895- 1997        102\n",
       "61934   1395- 1433         38\n",
       "61935    1427-1479         52\n",
       "61936    1424-1480         56\n",
       "61937  1442 � 1492         50\n",
       "\n",
       "[61938 rows x 2 columns]"
      ]
     },
     "execution_count": 120,
     "metadata": {},
     "output_type": "execute_result"
    }
   ],
   "source": [
    "wells_df[['perf','perf_diff']]"
   ]
  },
  {
   "cell_type": "code",
   "execution_count": 121,
   "metadata": {
    "collapsed": false
   },
   "outputs": [],
   "source": [
    "columns = wells_df[['perf','low_perf','high_perf']]\n",
    "wells_df.drop(columns, inplace=True, axis=1)"
   ]
  },
  {
   "cell_type": "code",
   "execution_count": 122,
   "metadata": {
    "collapsed": false
   },
   "outputs": [
    {
     "data": {
      "text/html": [
       "<div>\n",
       "<table border=\"1\" class=\"dataframe\">\n",
       "  <thead>\n",
       "    <tr style=\"text-align: right;\">\n",
       "      <th></th>\n",
       "      <th>well_id</th>\n",
       "      <th>field</th>\n",
       "      <th>block</th>\n",
       "      <th>esp_sr_no</th>\n",
       "      <th>vendor</th>\n",
       "      <th>depth</th>\n",
       "      <th>bean</th>\n",
       "      <th>water_cut</th>\n",
       "      <th>daily_flow</th>\n",
       "      <th>num_work_orders</th>\n",
       "      <th>avg_maintenance_cost_monthly</th>\n",
       "      <th>status</th>\n",
       "      <th>avg_uptime</th>\n",
       "      <th>daily_production_variance</th>\n",
       "      <th>region</th>\n",
       "      <th>time</th>\n",
       "      <th>Ti_C</th>\n",
       "      <th>Pi_Psia</th>\n",
       "      <th>Vx_g</th>\n",
       "      <th>Vy_g</th>\n",
       "      <th>Tm_C</th>\n",
       "      <th>MOR_Ohm</th>\n",
       "      <th>Lc_mA</th>\n",
       "      <th>Lv_V</th>\n",
       "      <th>esp_age</th>\n",
       "      <th>perf_diff</th>\n",
       "    </tr>\n",
       "  </thead>\n",
       "  <tbody>\n",
       "    <tr>\n",
       "      <th>0</th>\n",
       "      <td>SS-A</td>\n",
       "      <td>SIRHAN</td>\n",
       "      <td>A1</td>\n",
       "      <td>ESP001</td>\n",
       "      <td>Vendor 1</td>\n",
       "      <td>2370</td>\n",
       "      <td>4.5</td>\n",
       "      <td>0.38</td>\n",
       "      <td>2500</td>\n",
       "      <td>5</td>\n",
       "      <td>5000.0</td>\n",
       "      <td>Warning</td>\n",
       "      <td>87</td>\n",
       "      <td>7</td>\n",
       "      <td>US</td>\n",
       "      <td>00:01:00</td>\n",
       "      <td>0.229064</td>\n",
       "      <td>22.226368</td>\n",
       "      <td>1533.026751</td>\n",
       "      <td>48.425831</td>\n",
       "      <td>0.845257</td>\n",
       "      <td>29.616</td>\n",
       "      <td>255</td>\n",
       "      <td>0.684238</td>\n",
       "      <td>18</td>\n",
       "      <td>102</td>\n",
       "    </tr>\n",
       "    <tr>\n",
       "      <th>1</th>\n",
       "      <td>SS-B</td>\n",
       "      <td>SIRHAN</td>\n",
       "      <td>B1</td>\n",
       "      <td>ESP002</td>\n",
       "      <td>Vendor 2</td>\n",
       "      <td>1740</td>\n",
       "      <td>4.5</td>\n",
       "      <td>0.34</td>\n",
       "      <td>2800</td>\n",
       "      <td>3</td>\n",
       "      <td>7000.0</td>\n",
       "      <td>Running</td>\n",
       "      <td>92</td>\n",
       "      <td>2</td>\n",
       "      <td>US</td>\n",
       "      <td>00:01:00</td>\n",
       "      <td>0.229064</td>\n",
       "      <td>22.226368</td>\n",
       "      <td>1533.026751</td>\n",
       "      <td>48.425831</td>\n",
       "      <td>0.845257</td>\n",
       "      <td>29.616</td>\n",
       "      <td>255</td>\n",
       "      <td>0.684238</td>\n",
       "      <td>11</td>\n",
       "      <td>38</td>\n",
       "    </tr>\n",
       "    <tr>\n",
       "      <th>2</th>\n",
       "      <td>SS-C101</td>\n",
       "      <td>SIRHAN</td>\n",
       "      <td>C1</td>\n",
       "      <td>ESP003</td>\n",
       "      <td>Vendor 1</td>\n",
       "      <td>1995</td>\n",
       "      <td>10.0</td>\n",
       "      <td>0.40</td>\n",
       "      <td>3100</td>\n",
       "      <td>6</td>\n",
       "      <td>4000.0</td>\n",
       "      <td>Warning</td>\n",
       "      <td>94</td>\n",
       "      <td>0</td>\n",
       "      <td>US</td>\n",
       "      <td>00:01:00</td>\n",
       "      <td>0.229064</td>\n",
       "      <td>22.226368</td>\n",
       "      <td>1533.026751</td>\n",
       "      <td>48.425831</td>\n",
       "      <td>0.845257</td>\n",
       "      <td>29.616</td>\n",
       "      <td>255</td>\n",
       "      <td>0.684238</td>\n",
       "      <td>13</td>\n",
       "      <td>52</td>\n",
       "    </tr>\n",
       "    <tr>\n",
       "      <th>3</th>\n",
       "      <td>SS-C102</td>\n",
       "      <td>SIRHAN</td>\n",
       "      <td>A1</td>\n",
       "      <td>ESP004</td>\n",
       "      <td>Vendor 3</td>\n",
       "      <td>1790</td>\n",
       "      <td>5.0</td>\n",
       "      <td>0.55</td>\n",
       "      <td>2100</td>\n",
       "      <td>3</td>\n",
       "      <td>6000.0</td>\n",
       "      <td>Running</td>\n",
       "      <td>78</td>\n",
       "      <td>16</td>\n",
       "      <td>US</td>\n",
       "      <td>00:01:00</td>\n",
       "      <td>0.229064</td>\n",
       "      <td>22.226368</td>\n",
       "      <td>1533.026751</td>\n",
       "      <td>48.425831</td>\n",
       "      <td>0.845257</td>\n",
       "      <td>29.616</td>\n",
       "      <td>255</td>\n",
       "      <td>0.684238</td>\n",
       "      <td>12</td>\n",
       "      <td>56</td>\n",
       "    </tr>\n",
       "    <tr>\n",
       "      <th>4</th>\n",
       "      <td>SS-C103</td>\n",
       "      <td>SIRHAN</td>\n",
       "      <td>B1</td>\n",
       "      <td>ESP005</td>\n",
       "      <td>Vendor 1</td>\n",
       "      <td>2140</td>\n",
       "      <td>10.0</td>\n",
       "      <td>0.55</td>\n",
       "      <td>2400</td>\n",
       "      <td>5</td>\n",
       "      <td>5500.0</td>\n",
       "      <td>Warning</td>\n",
       "      <td>84</td>\n",
       "      <td>10</td>\n",
       "      <td>US</td>\n",
       "      <td>00:01:00</td>\n",
       "      <td>0.229064</td>\n",
       "      <td>22.226368</td>\n",
       "      <td>1533.026751</td>\n",
       "      <td>48.425831</td>\n",
       "      <td>0.845257</td>\n",
       "      <td>29.616</td>\n",
       "      <td>255</td>\n",
       "      <td>0.684238</td>\n",
       "      <td>7</td>\n",
       "      <td>50</td>\n",
       "    </tr>\n",
       "  </tbody>\n",
       "</table>\n",
       "</div>"
      ],
      "text/plain": [
       "   well_id   field block esp_sr_no    vendor  depth  bean  water_cut  \\\n",
       "0     SS-A  SIRHAN    A1    ESP001  Vendor 1   2370   4.5       0.38   \n",
       "1     SS-B  SIRHAN    B1    ESP002  Vendor 2   1740   4.5       0.34   \n",
       "2  SS-C101  SIRHAN    C1    ESP003  Vendor 1   1995  10.0       0.40   \n",
       "3  SS-C102  SIRHAN    A1    ESP004  Vendor 3   1790   5.0       0.55   \n",
       "4  SS-C103  SIRHAN    B1    ESP005  Vendor 1   2140  10.0       0.55   \n",
       "\n",
       "   daily_flow  num_work_orders  avg_maintenance_cost_monthly   status  \\\n",
       "0        2500                5                        5000.0  Warning   \n",
       "1        2800                3                        7000.0  Running   \n",
       "2        3100                6                        4000.0  Warning   \n",
       "3        2100                3                        6000.0  Running   \n",
       "4        2400                5                        5500.0  Warning   \n",
       "\n",
       "   avg_uptime  daily_production_variance region      time      Ti_C  \\\n",
       "0          87                          7     US  00:01:00  0.229064   \n",
       "1          92                          2     US  00:01:00  0.229064   \n",
       "2          94                          0     US  00:01:00  0.229064   \n",
       "3          78                         16     US  00:01:00  0.229064   \n",
       "4          84                         10     US  00:01:00  0.229064   \n",
       "\n",
       "     Pi_Psia         Vx_g       Vy_g      Tm_C  MOR_Ohm  Lc_mA      Lv_V  \\\n",
       "0  22.226368  1533.026751  48.425831  0.845257   29.616    255  0.684238   \n",
       "1  22.226368  1533.026751  48.425831  0.845257   29.616    255  0.684238   \n",
       "2  22.226368  1533.026751  48.425831  0.845257   29.616    255  0.684238   \n",
       "3  22.226368  1533.026751  48.425831  0.845257   29.616    255  0.684238   \n",
       "4  22.226368  1533.026751  48.425831  0.845257   29.616    255  0.684238   \n",
       "\n",
       "   esp_age  perf_diff  \n",
       "0       18        102  \n",
       "1       11         38  \n",
       "2       13         52  \n",
       "3       12         56  \n",
       "4        7         50  "
      ]
     },
     "execution_count": 122,
     "metadata": {},
     "output_type": "execute_result"
    }
   ],
   "source": [
    "wells_df.head()"
   ]
  },
  {
   "cell_type": "markdown",
   "metadata": {},
   "source": [
    "## Adding dummies to the dataframe"
   ]
  },
  {
   "cell_type": "markdown",
   "metadata": {},
   "source": [
    "** Use the function get_dummies for Field and Vendor\n",
    "\n",
    "We can assume that one field might be in better conditions than the other\n",
    "\n",
    "We can also assume that some vendors might manufacture ESP's with greater quality\n",
    "\n",
    "*I'm ignoring block because both fields have blocks with the same name (ex. Sirhan and West Safawi both have blocks named 'A1', 'B1', 'C1', 'B2', 'C3', 'D1', 'D9')"
   ]
  },
  {
   "cell_type": "code",
   "execution_count": 123,
   "metadata": {
    "collapsed": true
   },
   "outputs": [],
   "source": [
    "for column in ['field', 'vendor']:\n",
    "    dummies = pd.get_dummies(wells_df[column])\n",
    "    wells_df[dummies.columns] = dummies"
   ]
  },
  {
   "cell_type": "code",
   "execution_count": 124,
   "metadata": {
    "collapsed": false
   },
   "outputs": [
    {
     "data": {
      "text/html": [
       "<div>\n",
       "<table border=\"1\" class=\"dataframe\">\n",
       "  <thead>\n",
       "    <tr style=\"text-align: right;\">\n",
       "      <th></th>\n",
       "      <th>well_id</th>\n",
       "      <th>field</th>\n",
       "      <th>block</th>\n",
       "      <th>esp_sr_no</th>\n",
       "      <th>vendor</th>\n",
       "      <th>depth</th>\n",
       "      <th>bean</th>\n",
       "      <th>water_cut</th>\n",
       "      <th>daily_flow</th>\n",
       "      <th>num_work_orders</th>\n",
       "      <th>avg_maintenance_cost_monthly</th>\n",
       "      <th>status</th>\n",
       "      <th>avg_uptime</th>\n",
       "      <th>daily_production_variance</th>\n",
       "      <th>region</th>\n",
       "      <th>time</th>\n",
       "      <th>Ti_C</th>\n",
       "      <th>Pi_Psia</th>\n",
       "      <th>Vx_g</th>\n",
       "      <th>Vy_g</th>\n",
       "      <th>Tm_C</th>\n",
       "      <th>MOR_Ohm</th>\n",
       "      <th>Lc_mA</th>\n",
       "      <th>Lv_V</th>\n",
       "      <th>esp_age</th>\n",
       "      <th>perf_diff</th>\n",
       "      <th>SIRHAN</th>\n",
       "      <th>WEST SAFAWI</th>\n",
       "      <th>Vendor 1</th>\n",
       "      <th>Vendor 2</th>\n",
       "      <th>Vendor 3</th>\n",
       "    </tr>\n",
       "  </thead>\n",
       "  <tbody>\n",
       "    <tr>\n",
       "      <th>0</th>\n",
       "      <td>SS-A</td>\n",
       "      <td>SIRHAN</td>\n",
       "      <td>A1</td>\n",
       "      <td>ESP001</td>\n",
       "      <td>Vendor 1</td>\n",
       "      <td>2370</td>\n",
       "      <td>4.5</td>\n",
       "      <td>0.38</td>\n",
       "      <td>2500</td>\n",
       "      <td>5</td>\n",
       "      <td>5000.0</td>\n",
       "      <td>Warning</td>\n",
       "      <td>87</td>\n",
       "      <td>7</td>\n",
       "      <td>US</td>\n",
       "      <td>00:01:00</td>\n",
       "      <td>0.229064</td>\n",
       "      <td>22.226368</td>\n",
       "      <td>1533.026751</td>\n",
       "      <td>48.425831</td>\n",
       "      <td>0.845257</td>\n",
       "      <td>29.616</td>\n",
       "      <td>255</td>\n",
       "      <td>0.684238</td>\n",
       "      <td>18</td>\n",
       "      <td>102</td>\n",
       "      <td>1</td>\n",
       "      <td>0</td>\n",
       "      <td>1</td>\n",
       "      <td>0</td>\n",
       "      <td>0</td>\n",
       "    </tr>\n",
       "    <tr>\n",
       "      <th>1</th>\n",
       "      <td>SS-B</td>\n",
       "      <td>SIRHAN</td>\n",
       "      <td>B1</td>\n",
       "      <td>ESP002</td>\n",
       "      <td>Vendor 2</td>\n",
       "      <td>1740</td>\n",
       "      <td>4.5</td>\n",
       "      <td>0.34</td>\n",
       "      <td>2800</td>\n",
       "      <td>3</td>\n",
       "      <td>7000.0</td>\n",
       "      <td>Running</td>\n",
       "      <td>92</td>\n",
       "      <td>2</td>\n",
       "      <td>US</td>\n",
       "      <td>00:01:00</td>\n",
       "      <td>0.229064</td>\n",
       "      <td>22.226368</td>\n",
       "      <td>1533.026751</td>\n",
       "      <td>48.425831</td>\n",
       "      <td>0.845257</td>\n",
       "      <td>29.616</td>\n",
       "      <td>255</td>\n",
       "      <td>0.684238</td>\n",
       "      <td>11</td>\n",
       "      <td>38</td>\n",
       "      <td>1</td>\n",
       "      <td>0</td>\n",
       "      <td>0</td>\n",
       "      <td>1</td>\n",
       "      <td>0</td>\n",
       "    </tr>\n",
       "    <tr>\n",
       "      <th>2</th>\n",
       "      <td>SS-C101</td>\n",
       "      <td>SIRHAN</td>\n",
       "      <td>C1</td>\n",
       "      <td>ESP003</td>\n",
       "      <td>Vendor 1</td>\n",
       "      <td>1995</td>\n",
       "      <td>10.0</td>\n",
       "      <td>0.40</td>\n",
       "      <td>3100</td>\n",
       "      <td>6</td>\n",
       "      <td>4000.0</td>\n",
       "      <td>Warning</td>\n",
       "      <td>94</td>\n",
       "      <td>0</td>\n",
       "      <td>US</td>\n",
       "      <td>00:01:00</td>\n",
       "      <td>0.229064</td>\n",
       "      <td>22.226368</td>\n",
       "      <td>1533.026751</td>\n",
       "      <td>48.425831</td>\n",
       "      <td>0.845257</td>\n",
       "      <td>29.616</td>\n",
       "      <td>255</td>\n",
       "      <td>0.684238</td>\n",
       "      <td>13</td>\n",
       "      <td>52</td>\n",
       "      <td>1</td>\n",
       "      <td>0</td>\n",
       "      <td>1</td>\n",
       "      <td>0</td>\n",
       "      <td>0</td>\n",
       "    </tr>\n",
       "    <tr>\n",
       "      <th>3</th>\n",
       "      <td>SS-C102</td>\n",
       "      <td>SIRHAN</td>\n",
       "      <td>A1</td>\n",
       "      <td>ESP004</td>\n",
       "      <td>Vendor 3</td>\n",
       "      <td>1790</td>\n",
       "      <td>5.0</td>\n",
       "      <td>0.55</td>\n",
       "      <td>2100</td>\n",
       "      <td>3</td>\n",
       "      <td>6000.0</td>\n",
       "      <td>Running</td>\n",
       "      <td>78</td>\n",
       "      <td>16</td>\n",
       "      <td>US</td>\n",
       "      <td>00:01:00</td>\n",
       "      <td>0.229064</td>\n",
       "      <td>22.226368</td>\n",
       "      <td>1533.026751</td>\n",
       "      <td>48.425831</td>\n",
       "      <td>0.845257</td>\n",
       "      <td>29.616</td>\n",
       "      <td>255</td>\n",
       "      <td>0.684238</td>\n",
       "      <td>12</td>\n",
       "      <td>56</td>\n",
       "      <td>1</td>\n",
       "      <td>0</td>\n",
       "      <td>0</td>\n",
       "      <td>0</td>\n",
       "      <td>1</td>\n",
       "    </tr>\n",
       "    <tr>\n",
       "      <th>4</th>\n",
       "      <td>SS-C103</td>\n",
       "      <td>SIRHAN</td>\n",
       "      <td>B1</td>\n",
       "      <td>ESP005</td>\n",
       "      <td>Vendor 1</td>\n",
       "      <td>2140</td>\n",
       "      <td>10.0</td>\n",
       "      <td>0.55</td>\n",
       "      <td>2400</td>\n",
       "      <td>5</td>\n",
       "      <td>5500.0</td>\n",
       "      <td>Warning</td>\n",
       "      <td>84</td>\n",
       "      <td>10</td>\n",
       "      <td>US</td>\n",
       "      <td>00:01:00</td>\n",
       "      <td>0.229064</td>\n",
       "      <td>22.226368</td>\n",
       "      <td>1533.026751</td>\n",
       "      <td>48.425831</td>\n",
       "      <td>0.845257</td>\n",
       "      <td>29.616</td>\n",
       "      <td>255</td>\n",
       "      <td>0.684238</td>\n",
       "      <td>7</td>\n",
       "      <td>50</td>\n",
       "      <td>1</td>\n",
       "      <td>0</td>\n",
       "      <td>1</td>\n",
       "      <td>0</td>\n",
       "      <td>0</td>\n",
       "    </tr>\n",
       "  </tbody>\n",
       "</table>\n",
       "</div>"
      ],
      "text/plain": [
       "   well_id   field block esp_sr_no    vendor  depth  bean  water_cut  \\\n",
       "0     SS-A  SIRHAN    A1    ESP001  Vendor 1   2370   4.5       0.38   \n",
       "1     SS-B  SIRHAN    B1    ESP002  Vendor 2   1740   4.5       0.34   \n",
       "2  SS-C101  SIRHAN    C1    ESP003  Vendor 1   1995  10.0       0.40   \n",
       "3  SS-C102  SIRHAN    A1    ESP004  Vendor 3   1790   5.0       0.55   \n",
       "4  SS-C103  SIRHAN    B1    ESP005  Vendor 1   2140  10.0       0.55   \n",
       "\n",
       "   daily_flow  num_work_orders  avg_maintenance_cost_monthly   status  \\\n",
       "0        2500                5                        5000.0  Warning   \n",
       "1        2800                3                        7000.0  Running   \n",
       "2        3100                6                        4000.0  Warning   \n",
       "3        2100                3                        6000.0  Running   \n",
       "4        2400                5                        5500.0  Warning   \n",
       "\n",
       "   avg_uptime  daily_production_variance region      time      Ti_C  \\\n",
       "0          87                          7     US  00:01:00  0.229064   \n",
       "1          92                          2     US  00:01:00  0.229064   \n",
       "2          94                          0     US  00:01:00  0.229064   \n",
       "3          78                         16     US  00:01:00  0.229064   \n",
       "4          84                         10     US  00:01:00  0.229064   \n",
       "\n",
       "     Pi_Psia         Vx_g       Vy_g      Tm_C  MOR_Ohm  Lc_mA      Lv_V  \\\n",
       "0  22.226368  1533.026751  48.425831  0.845257   29.616    255  0.684238   \n",
       "1  22.226368  1533.026751  48.425831  0.845257   29.616    255  0.684238   \n",
       "2  22.226368  1533.026751  48.425831  0.845257   29.616    255  0.684238   \n",
       "3  22.226368  1533.026751  48.425831  0.845257   29.616    255  0.684238   \n",
       "4  22.226368  1533.026751  48.425831  0.845257   29.616    255  0.684238   \n",
       "\n",
       "   esp_age  perf_diff  SIRHAN  WEST SAFAWI  Vendor 1  Vendor 2  Vendor 3  \n",
       "0       18        102       1            0         1         0         0  \n",
       "1       11         38       1            0         0         1         0  \n",
       "2       13         52       1            0         1         0         0  \n",
       "3       12         56       1            0         0         0         1  \n",
       "4        7         50       1            0         1         0         0  "
      ]
     },
     "execution_count": 124,
     "metadata": {},
     "output_type": "execute_result"
    }
   ],
   "source": [
    "wells_df.head(5)"
   ]
  },
  {
   "cell_type": "code",
   "execution_count": 125,
   "metadata": {
    "collapsed": false
   },
   "outputs": [],
   "source": [
    "cols = wells_df[['field','vendor']]\n",
    "wells_df.drop(cols,inplace=True,axis=1)"
   ]
  },
  {
   "cell_type": "code",
   "execution_count": 126,
   "metadata": {
    "collapsed": false
   },
   "outputs": [
    {
     "data": {
      "text/html": [
       "<div>\n",
       "<table border=\"1\" class=\"dataframe\">\n",
       "  <thead>\n",
       "    <tr style=\"text-align: right;\">\n",
       "      <th></th>\n",
       "      <th>well_id</th>\n",
       "      <th>block</th>\n",
       "      <th>esp_sr_no</th>\n",
       "      <th>depth</th>\n",
       "      <th>bean</th>\n",
       "      <th>water_cut</th>\n",
       "      <th>daily_flow</th>\n",
       "      <th>num_work_orders</th>\n",
       "      <th>avg_maintenance_cost_monthly</th>\n",
       "      <th>status</th>\n",
       "      <th>avg_uptime</th>\n",
       "      <th>daily_production_variance</th>\n",
       "      <th>region</th>\n",
       "      <th>time</th>\n",
       "      <th>Ti_C</th>\n",
       "      <th>Pi_Psia</th>\n",
       "      <th>Vx_g</th>\n",
       "      <th>Vy_g</th>\n",
       "      <th>Tm_C</th>\n",
       "      <th>MOR_Ohm</th>\n",
       "      <th>Lc_mA</th>\n",
       "      <th>Lv_V</th>\n",
       "      <th>esp_age</th>\n",
       "      <th>perf_diff</th>\n",
       "      <th>SIRHAN</th>\n",
       "      <th>WEST SAFAWI</th>\n",
       "      <th>Vendor 1</th>\n",
       "      <th>Vendor 2</th>\n",
       "      <th>Vendor 3</th>\n",
       "    </tr>\n",
       "  </thead>\n",
       "  <tbody>\n",
       "    <tr>\n",
       "      <th>0</th>\n",
       "      <td>SS-A</td>\n",
       "      <td>A1</td>\n",
       "      <td>ESP001</td>\n",
       "      <td>2370</td>\n",
       "      <td>4.5</td>\n",
       "      <td>0.38</td>\n",
       "      <td>2500</td>\n",
       "      <td>5</td>\n",
       "      <td>5000.0</td>\n",
       "      <td>Warning</td>\n",
       "      <td>87</td>\n",
       "      <td>7</td>\n",
       "      <td>US</td>\n",
       "      <td>00:01:00</td>\n",
       "      <td>0.229064</td>\n",
       "      <td>22.226368</td>\n",
       "      <td>1533.026751</td>\n",
       "      <td>48.425831</td>\n",
       "      <td>0.845257</td>\n",
       "      <td>29.616</td>\n",
       "      <td>255</td>\n",
       "      <td>0.684238</td>\n",
       "      <td>18</td>\n",
       "      <td>102</td>\n",
       "      <td>1</td>\n",
       "      <td>0</td>\n",
       "      <td>1</td>\n",
       "      <td>0</td>\n",
       "      <td>0</td>\n",
       "    </tr>\n",
       "    <tr>\n",
       "      <th>1</th>\n",
       "      <td>SS-B</td>\n",
       "      <td>B1</td>\n",
       "      <td>ESP002</td>\n",
       "      <td>1740</td>\n",
       "      <td>4.5</td>\n",
       "      <td>0.34</td>\n",
       "      <td>2800</td>\n",
       "      <td>3</td>\n",
       "      <td>7000.0</td>\n",
       "      <td>Running</td>\n",
       "      <td>92</td>\n",
       "      <td>2</td>\n",
       "      <td>US</td>\n",
       "      <td>00:01:00</td>\n",
       "      <td>0.229064</td>\n",
       "      <td>22.226368</td>\n",
       "      <td>1533.026751</td>\n",
       "      <td>48.425831</td>\n",
       "      <td>0.845257</td>\n",
       "      <td>29.616</td>\n",
       "      <td>255</td>\n",
       "      <td>0.684238</td>\n",
       "      <td>11</td>\n",
       "      <td>38</td>\n",
       "      <td>1</td>\n",
       "      <td>0</td>\n",
       "      <td>0</td>\n",
       "      <td>1</td>\n",
       "      <td>0</td>\n",
       "    </tr>\n",
       "    <tr>\n",
       "      <th>2</th>\n",
       "      <td>SS-C101</td>\n",
       "      <td>C1</td>\n",
       "      <td>ESP003</td>\n",
       "      <td>1995</td>\n",
       "      <td>10.0</td>\n",
       "      <td>0.40</td>\n",
       "      <td>3100</td>\n",
       "      <td>6</td>\n",
       "      <td>4000.0</td>\n",
       "      <td>Warning</td>\n",
       "      <td>94</td>\n",
       "      <td>0</td>\n",
       "      <td>US</td>\n",
       "      <td>00:01:00</td>\n",
       "      <td>0.229064</td>\n",
       "      <td>22.226368</td>\n",
       "      <td>1533.026751</td>\n",
       "      <td>48.425831</td>\n",
       "      <td>0.845257</td>\n",
       "      <td>29.616</td>\n",
       "      <td>255</td>\n",
       "      <td>0.684238</td>\n",
       "      <td>13</td>\n",
       "      <td>52</td>\n",
       "      <td>1</td>\n",
       "      <td>0</td>\n",
       "      <td>1</td>\n",
       "      <td>0</td>\n",
       "      <td>0</td>\n",
       "    </tr>\n",
       "    <tr>\n",
       "      <th>3</th>\n",
       "      <td>SS-C102</td>\n",
       "      <td>A1</td>\n",
       "      <td>ESP004</td>\n",
       "      <td>1790</td>\n",
       "      <td>5.0</td>\n",
       "      <td>0.55</td>\n",
       "      <td>2100</td>\n",
       "      <td>3</td>\n",
       "      <td>6000.0</td>\n",
       "      <td>Running</td>\n",
       "      <td>78</td>\n",
       "      <td>16</td>\n",
       "      <td>US</td>\n",
       "      <td>00:01:00</td>\n",
       "      <td>0.229064</td>\n",
       "      <td>22.226368</td>\n",
       "      <td>1533.026751</td>\n",
       "      <td>48.425831</td>\n",
       "      <td>0.845257</td>\n",
       "      <td>29.616</td>\n",
       "      <td>255</td>\n",
       "      <td>0.684238</td>\n",
       "      <td>12</td>\n",
       "      <td>56</td>\n",
       "      <td>1</td>\n",
       "      <td>0</td>\n",
       "      <td>0</td>\n",
       "      <td>0</td>\n",
       "      <td>1</td>\n",
       "    </tr>\n",
       "    <tr>\n",
       "      <th>4</th>\n",
       "      <td>SS-C103</td>\n",
       "      <td>B1</td>\n",
       "      <td>ESP005</td>\n",
       "      <td>2140</td>\n",
       "      <td>10.0</td>\n",
       "      <td>0.55</td>\n",
       "      <td>2400</td>\n",
       "      <td>5</td>\n",
       "      <td>5500.0</td>\n",
       "      <td>Warning</td>\n",
       "      <td>84</td>\n",
       "      <td>10</td>\n",
       "      <td>US</td>\n",
       "      <td>00:01:00</td>\n",
       "      <td>0.229064</td>\n",
       "      <td>22.226368</td>\n",
       "      <td>1533.026751</td>\n",
       "      <td>48.425831</td>\n",
       "      <td>0.845257</td>\n",
       "      <td>29.616</td>\n",
       "      <td>255</td>\n",
       "      <td>0.684238</td>\n",
       "      <td>7</td>\n",
       "      <td>50</td>\n",
       "      <td>1</td>\n",
       "      <td>0</td>\n",
       "      <td>1</td>\n",
       "      <td>0</td>\n",
       "      <td>0</td>\n",
       "    </tr>\n",
       "  </tbody>\n",
       "</table>\n",
       "</div>"
      ],
      "text/plain": [
       "   well_id block esp_sr_no  depth  bean  water_cut  daily_flow  \\\n",
       "0     SS-A    A1    ESP001   2370   4.5       0.38        2500   \n",
       "1     SS-B    B1    ESP002   1740   4.5       0.34        2800   \n",
       "2  SS-C101    C1    ESP003   1995  10.0       0.40        3100   \n",
       "3  SS-C102    A1    ESP004   1790   5.0       0.55        2100   \n",
       "4  SS-C103    B1    ESP005   2140  10.0       0.55        2400   \n",
       "\n",
       "   num_work_orders  avg_maintenance_cost_monthly   status  avg_uptime  \\\n",
       "0                5                        5000.0  Warning          87   \n",
       "1                3                        7000.0  Running          92   \n",
       "2                6                        4000.0  Warning          94   \n",
       "3                3                        6000.0  Running          78   \n",
       "4                5                        5500.0  Warning          84   \n",
       "\n",
       "   daily_production_variance region      time      Ti_C    Pi_Psia  \\\n",
       "0                          7     US  00:01:00  0.229064  22.226368   \n",
       "1                          2     US  00:01:00  0.229064  22.226368   \n",
       "2                          0     US  00:01:00  0.229064  22.226368   \n",
       "3                         16     US  00:01:00  0.229064  22.226368   \n",
       "4                         10     US  00:01:00  0.229064  22.226368   \n",
       "\n",
       "          Vx_g       Vy_g      Tm_C  MOR_Ohm  Lc_mA      Lv_V  esp_age  \\\n",
       "0  1533.026751  48.425831  0.845257   29.616    255  0.684238       18   \n",
       "1  1533.026751  48.425831  0.845257   29.616    255  0.684238       11   \n",
       "2  1533.026751  48.425831  0.845257   29.616    255  0.684238       13   \n",
       "3  1533.026751  48.425831  0.845257   29.616    255  0.684238       12   \n",
       "4  1533.026751  48.425831  0.845257   29.616    255  0.684238        7   \n",
       "\n",
       "   perf_diff  SIRHAN  WEST SAFAWI  Vendor 1  Vendor 2  Vendor 3  \n",
       "0        102       1            0         1         0         0  \n",
       "1         38       1            0         0         1         0  \n",
       "2         52       1            0         1         0         0  \n",
       "3         56       1            0         0         0         1  \n",
       "4         50       1            0         1         0         0  "
      ]
     },
     "execution_count": 126,
     "metadata": {},
     "output_type": "execute_result"
    }
   ],
   "source": [
    "wells_df.head()"
   ]
  },
  {
   "cell_type": "markdown",
   "metadata": {},
   "source": [
    "## Create two columns with encoders for 'status'\n",
    "\n",
    "#### Two_labels column for Logistic Regression model and Random Forest\n",
    "\n",
    "#### Three_labels column for Multiclass Classification"
   ]
  },
  {
   "cell_type": "markdown",
   "metadata": {},
   "source": [
    "**Adding status_binary to the dataframe**\n",
    "\n",
    "In order to create a model we need to label Running as 1 and Down/Warning as 0"
   ]
  },
  {
   "cell_type": "code",
   "execution_count": 127,
   "metadata": {
    "collapsed": false
   },
   "outputs": [
    {
     "data": {
      "text/html": [
       "<div>\n",
       "<table border=\"1\" class=\"dataframe\">\n",
       "  <thead>\n",
       "    <tr style=\"text-align: right;\">\n",
       "      <th></th>\n",
       "      <th>well_id</th>\n",
       "      <th>block</th>\n",
       "      <th>esp_sr_no</th>\n",
       "      <th>depth</th>\n",
       "      <th>bean</th>\n",
       "      <th>water_cut</th>\n",
       "      <th>daily_flow</th>\n",
       "      <th>num_work_orders</th>\n",
       "      <th>avg_maintenance_cost_monthly</th>\n",
       "      <th>status</th>\n",
       "      <th>avg_uptime</th>\n",
       "      <th>daily_production_variance</th>\n",
       "      <th>region</th>\n",
       "      <th>time</th>\n",
       "      <th>Ti_C</th>\n",
       "      <th>Pi_Psia</th>\n",
       "      <th>Vx_g</th>\n",
       "      <th>Vy_g</th>\n",
       "      <th>Tm_C</th>\n",
       "      <th>MOR_Ohm</th>\n",
       "      <th>Lc_mA</th>\n",
       "      <th>Lv_V</th>\n",
       "      <th>esp_age</th>\n",
       "      <th>perf_diff</th>\n",
       "      <th>SIRHAN</th>\n",
       "      <th>WEST SAFAWI</th>\n",
       "      <th>Vendor 1</th>\n",
       "      <th>Vendor 2</th>\n",
       "      <th>Vendor 3</th>\n",
       "      <th>two_labels</th>\n",
       "    </tr>\n",
       "  </thead>\n",
       "  <tbody>\n",
       "    <tr>\n",
       "      <th>0</th>\n",
       "      <td>SS-A</td>\n",
       "      <td>A1</td>\n",
       "      <td>ESP001</td>\n",
       "      <td>2370</td>\n",
       "      <td>4.5</td>\n",
       "      <td>0.38</td>\n",
       "      <td>2500</td>\n",
       "      <td>5</td>\n",
       "      <td>5000.0</td>\n",
       "      <td>Warning</td>\n",
       "      <td>87</td>\n",
       "      <td>7</td>\n",
       "      <td>US</td>\n",
       "      <td>00:01:00</td>\n",
       "      <td>0.229064</td>\n",
       "      <td>22.226368</td>\n",
       "      <td>1533.026751</td>\n",
       "      <td>48.425831</td>\n",
       "      <td>0.845257</td>\n",
       "      <td>29.616</td>\n",
       "      <td>255</td>\n",
       "      <td>0.684238</td>\n",
       "      <td>18</td>\n",
       "      <td>102</td>\n",
       "      <td>1</td>\n",
       "      <td>0</td>\n",
       "      <td>1</td>\n",
       "      <td>0</td>\n",
       "      <td>0</td>\n",
       "      <td>0</td>\n",
       "    </tr>\n",
       "    <tr>\n",
       "      <th>1</th>\n",
       "      <td>SS-B</td>\n",
       "      <td>B1</td>\n",
       "      <td>ESP002</td>\n",
       "      <td>1740</td>\n",
       "      <td>4.5</td>\n",
       "      <td>0.34</td>\n",
       "      <td>2800</td>\n",
       "      <td>3</td>\n",
       "      <td>7000.0</td>\n",
       "      <td>Running</td>\n",
       "      <td>92</td>\n",
       "      <td>2</td>\n",
       "      <td>US</td>\n",
       "      <td>00:01:00</td>\n",
       "      <td>0.229064</td>\n",
       "      <td>22.226368</td>\n",
       "      <td>1533.026751</td>\n",
       "      <td>48.425831</td>\n",
       "      <td>0.845257</td>\n",
       "      <td>29.616</td>\n",
       "      <td>255</td>\n",
       "      <td>0.684238</td>\n",
       "      <td>11</td>\n",
       "      <td>38</td>\n",
       "      <td>1</td>\n",
       "      <td>0</td>\n",
       "      <td>0</td>\n",
       "      <td>1</td>\n",
       "      <td>0</td>\n",
       "      <td>1</td>\n",
       "    </tr>\n",
       "    <tr>\n",
       "      <th>2</th>\n",
       "      <td>SS-C101</td>\n",
       "      <td>C1</td>\n",
       "      <td>ESP003</td>\n",
       "      <td>1995</td>\n",
       "      <td>10.0</td>\n",
       "      <td>0.40</td>\n",
       "      <td>3100</td>\n",
       "      <td>6</td>\n",
       "      <td>4000.0</td>\n",
       "      <td>Warning</td>\n",
       "      <td>94</td>\n",
       "      <td>0</td>\n",
       "      <td>US</td>\n",
       "      <td>00:01:00</td>\n",
       "      <td>0.229064</td>\n",
       "      <td>22.226368</td>\n",
       "      <td>1533.026751</td>\n",
       "      <td>48.425831</td>\n",
       "      <td>0.845257</td>\n",
       "      <td>29.616</td>\n",
       "      <td>255</td>\n",
       "      <td>0.684238</td>\n",
       "      <td>13</td>\n",
       "      <td>52</td>\n",
       "      <td>1</td>\n",
       "      <td>0</td>\n",
       "      <td>1</td>\n",
       "      <td>0</td>\n",
       "      <td>0</td>\n",
       "      <td>0</td>\n",
       "    </tr>\n",
       "    <tr>\n",
       "      <th>3</th>\n",
       "      <td>SS-C102</td>\n",
       "      <td>A1</td>\n",
       "      <td>ESP004</td>\n",
       "      <td>1790</td>\n",
       "      <td>5.0</td>\n",
       "      <td>0.55</td>\n",
       "      <td>2100</td>\n",
       "      <td>3</td>\n",
       "      <td>6000.0</td>\n",
       "      <td>Running</td>\n",
       "      <td>78</td>\n",
       "      <td>16</td>\n",
       "      <td>US</td>\n",
       "      <td>00:01:00</td>\n",
       "      <td>0.229064</td>\n",
       "      <td>22.226368</td>\n",
       "      <td>1533.026751</td>\n",
       "      <td>48.425831</td>\n",
       "      <td>0.845257</td>\n",
       "      <td>29.616</td>\n",
       "      <td>255</td>\n",
       "      <td>0.684238</td>\n",
       "      <td>12</td>\n",
       "      <td>56</td>\n",
       "      <td>1</td>\n",
       "      <td>0</td>\n",
       "      <td>0</td>\n",
       "      <td>0</td>\n",
       "      <td>1</td>\n",
       "      <td>1</td>\n",
       "    </tr>\n",
       "    <tr>\n",
       "      <th>4</th>\n",
       "      <td>SS-C103</td>\n",
       "      <td>B1</td>\n",
       "      <td>ESP005</td>\n",
       "      <td>2140</td>\n",
       "      <td>10.0</td>\n",
       "      <td>0.55</td>\n",
       "      <td>2400</td>\n",
       "      <td>5</td>\n",
       "      <td>5500.0</td>\n",
       "      <td>Warning</td>\n",
       "      <td>84</td>\n",
       "      <td>10</td>\n",
       "      <td>US</td>\n",
       "      <td>00:01:00</td>\n",
       "      <td>0.229064</td>\n",
       "      <td>22.226368</td>\n",
       "      <td>1533.026751</td>\n",
       "      <td>48.425831</td>\n",
       "      <td>0.845257</td>\n",
       "      <td>29.616</td>\n",
       "      <td>255</td>\n",
       "      <td>0.684238</td>\n",
       "      <td>7</td>\n",
       "      <td>50</td>\n",
       "      <td>1</td>\n",
       "      <td>0</td>\n",
       "      <td>1</td>\n",
       "      <td>0</td>\n",
       "      <td>0</td>\n",
       "      <td>0</td>\n",
       "    </tr>\n",
       "  </tbody>\n",
       "</table>\n",
       "</div>"
      ],
      "text/plain": [
       "   well_id block esp_sr_no  depth  bean  water_cut  daily_flow  \\\n",
       "0     SS-A    A1    ESP001   2370   4.5       0.38        2500   \n",
       "1     SS-B    B1    ESP002   1740   4.5       0.34        2800   \n",
       "2  SS-C101    C1    ESP003   1995  10.0       0.40        3100   \n",
       "3  SS-C102    A1    ESP004   1790   5.0       0.55        2100   \n",
       "4  SS-C103    B1    ESP005   2140  10.0       0.55        2400   \n",
       "\n",
       "   num_work_orders  avg_maintenance_cost_monthly   status  avg_uptime  \\\n",
       "0                5                        5000.0  Warning          87   \n",
       "1                3                        7000.0  Running          92   \n",
       "2                6                        4000.0  Warning          94   \n",
       "3                3                        6000.0  Running          78   \n",
       "4                5                        5500.0  Warning          84   \n",
       "\n",
       "   daily_production_variance region      time      Ti_C    Pi_Psia  \\\n",
       "0                          7     US  00:01:00  0.229064  22.226368   \n",
       "1                          2     US  00:01:00  0.229064  22.226368   \n",
       "2                          0     US  00:01:00  0.229064  22.226368   \n",
       "3                         16     US  00:01:00  0.229064  22.226368   \n",
       "4                         10     US  00:01:00  0.229064  22.226368   \n",
       "\n",
       "          Vx_g       Vy_g      Tm_C  MOR_Ohm  Lc_mA      Lv_V  esp_age  \\\n",
       "0  1533.026751  48.425831  0.845257   29.616    255  0.684238       18   \n",
       "1  1533.026751  48.425831  0.845257   29.616    255  0.684238       11   \n",
       "2  1533.026751  48.425831  0.845257   29.616    255  0.684238       13   \n",
       "3  1533.026751  48.425831  0.845257   29.616    255  0.684238       12   \n",
       "4  1533.026751  48.425831  0.845257   29.616    255  0.684238        7   \n",
       "\n",
       "   perf_diff  SIRHAN  WEST SAFAWI  Vendor 1  Vendor 2  Vendor 3  two_labels  \n",
       "0        102       1            0         1         0         0           0  \n",
       "1         38       1            0         0         1         0           1  \n",
       "2         52       1            0         1         0         0           0  \n",
       "3         56       1            0         0         0         1           1  \n",
       "4         50       1            0         1         0         0           0  "
      ]
     },
     "execution_count": 127,
     "metadata": {},
     "output_type": "execute_result"
    }
   ],
   "source": [
    "wells_df['two_labels'] =wells_df.status.map({'Down':0, 'Warning':0, 'Running':1})\n",
    "#wells_df.status_binary = wells_df.status_binary.astype('int64')\n",
    "wells_df.head()"
   ]
  },
  {
   "cell_type": "code",
   "execution_count": 128,
   "metadata": {
    "collapsed": false
   },
   "outputs": [
    {
     "data": {
      "text/html": [
       "<div>\n",
       "<table border=\"1\" class=\"dataframe\">\n",
       "  <thead>\n",
       "    <tr style=\"text-align: right;\">\n",
       "      <th></th>\n",
       "      <th>well_id</th>\n",
       "      <th>block</th>\n",
       "      <th>esp_sr_no</th>\n",
       "      <th>depth</th>\n",
       "      <th>bean</th>\n",
       "      <th>water_cut</th>\n",
       "      <th>daily_flow</th>\n",
       "      <th>num_work_orders</th>\n",
       "      <th>avg_maintenance_cost_monthly</th>\n",
       "      <th>status</th>\n",
       "      <th>avg_uptime</th>\n",
       "      <th>daily_production_variance</th>\n",
       "      <th>region</th>\n",
       "      <th>time</th>\n",
       "      <th>Ti_C</th>\n",
       "      <th>Pi_Psia</th>\n",
       "      <th>Vx_g</th>\n",
       "      <th>Vy_g</th>\n",
       "      <th>Tm_C</th>\n",
       "      <th>MOR_Ohm</th>\n",
       "      <th>Lc_mA</th>\n",
       "      <th>Lv_V</th>\n",
       "      <th>esp_age</th>\n",
       "      <th>perf_diff</th>\n",
       "      <th>SIRHAN</th>\n",
       "      <th>WEST SAFAWI</th>\n",
       "      <th>Vendor 1</th>\n",
       "      <th>Vendor 2</th>\n",
       "      <th>Vendor 3</th>\n",
       "      <th>two_labels</th>\n",
       "      <th>three_labels</th>\n",
       "    </tr>\n",
       "  </thead>\n",
       "  <tbody>\n",
       "    <tr>\n",
       "      <th>0</th>\n",
       "      <td>SS-A</td>\n",
       "      <td>A1</td>\n",
       "      <td>ESP001</td>\n",
       "      <td>2370</td>\n",
       "      <td>4.5</td>\n",
       "      <td>0.38</td>\n",
       "      <td>2500</td>\n",
       "      <td>5</td>\n",
       "      <td>5000.0</td>\n",
       "      <td>Warning</td>\n",
       "      <td>87</td>\n",
       "      <td>7</td>\n",
       "      <td>US</td>\n",
       "      <td>00:01:00</td>\n",
       "      <td>0.229064</td>\n",
       "      <td>22.226368</td>\n",
       "      <td>1533.026751</td>\n",
       "      <td>48.425831</td>\n",
       "      <td>0.845257</td>\n",
       "      <td>29.616</td>\n",
       "      <td>255</td>\n",
       "      <td>0.684238</td>\n",
       "      <td>18</td>\n",
       "      <td>102</td>\n",
       "      <td>1</td>\n",
       "      <td>0</td>\n",
       "      <td>1</td>\n",
       "      <td>0</td>\n",
       "      <td>0</td>\n",
       "      <td>0</td>\n",
       "      <td>1</td>\n",
       "    </tr>\n",
       "    <tr>\n",
       "      <th>1</th>\n",
       "      <td>SS-B</td>\n",
       "      <td>B1</td>\n",
       "      <td>ESP002</td>\n",
       "      <td>1740</td>\n",
       "      <td>4.5</td>\n",
       "      <td>0.34</td>\n",
       "      <td>2800</td>\n",
       "      <td>3</td>\n",
       "      <td>7000.0</td>\n",
       "      <td>Running</td>\n",
       "      <td>92</td>\n",
       "      <td>2</td>\n",
       "      <td>US</td>\n",
       "      <td>00:01:00</td>\n",
       "      <td>0.229064</td>\n",
       "      <td>22.226368</td>\n",
       "      <td>1533.026751</td>\n",
       "      <td>48.425831</td>\n",
       "      <td>0.845257</td>\n",
       "      <td>29.616</td>\n",
       "      <td>255</td>\n",
       "      <td>0.684238</td>\n",
       "      <td>11</td>\n",
       "      <td>38</td>\n",
       "      <td>1</td>\n",
       "      <td>0</td>\n",
       "      <td>0</td>\n",
       "      <td>1</td>\n",
       "      <td>0</td>\n",
       "      <td>1</td>\n",
       "      <td>2</td>\n",
       "    </tr>\n",
       "    <tr>\n",
       "      <th>2</th>\n",
       "      <td>SS-C101</td>\n",
       "      <td>C1</td>\n",
       "      <td>ESP003</td>\n",
       "      <td>1995</td>\n",
       "      <td>10.0</td>\n",
       "      <td>0.40</td>\n",
       "      <td>3100</td>\n",
       "      <td>6</td>\n",
       "      <td>4000.0</td>\n",
       "      <td>Warning</td>\n",
       "      <td>94</td>\n",
       "      <td>0</td>\n",
       "      <td>US</td>\n",
       "      <td>00:01:00</td>\n",
       "      <td>0.229064</td>\n",
       "      <td>22.226368</td>\n",
       "      <td>1533.026751</td>\n",
       "      <td>48.425831</td>\n",
       "      <td>0.845257</td>\n",
       "      <td>29.616</td>\n",
       "      <td>255</td>\n",
       "      <td>0.684238</td>\n",
       "      <td>13</td>\n",
       "      <td>52</td>\n",
       "      <td>1</td>\n",
       "      <td>0</td>\n",
       "      <td>1</td>\n",
       "      <td>0</td>\n",
       "      <td>0</td>\n",
       "      <td>0</td>\n",
       "      <td>1</td>\n",
       "    </tr>\n",
       "    <tr>\n",
       "      <th>3</th>\n",
       "      <td>SS-C102</td>\n",
       "      <td>A1</td>\n",
       "      <td>ESP004</td>\n",
       "      <td>1790</td>\n",
       "      <td>5.0</td>\n",
       "      <td>0.55</td>\n",
       "      <td>2100</td>\n",
       "      <td>3</td>\n",
       "      <td>6000.0</td>\n",
       "      <td>Running</td>\n",
       "      <td>78</td>\n",
       "      <td>16</td>\n",
       "      <td>US</td>\n",
       "      <td>00:01:00</td>\n",
       "      <td>0.229064</td>\n",
       "      <td>22.226368</td>\n",
       "      <td>1533.026751</td>\n",
       "      <td>48.425831</td>\n",
       "      <td>0.845257</td>\n",
       "      <td>29.616</td>\n",
       "      <td>255</td>\n",
       "      <td>0.684238</td>\n",
       "      <td>12</td>\n",
       "      <td>56</td>\n",
       "      <td>1</td>\n",
       "      <td>0</td>\n",
       "      <td>0</td>\n",
       "      <td>0</td>\n",
       "      <td>1</td>\n",
       "      <td>1</td>\n",
       "      <td>2</td>\n",
       "    </tr>\n",
       "    <tr>\n",
       "      <th>4</th>\n",
       "      <td>SS-C103</td>\n",
       "      <td>B1</td>\n",
       "      <td>ESP005</td>\n",
       "      <td>2140</td>\n",
       "      <td>10.0</td>\n",
       "      <td>0.55</td>\n",
       "      <td>2400</td>\n",
       "      <td>5</td>\n",
       "      <td>5500.0</td>\n",
       "      <td>Warning</td>\n",
       "      <td>84</td>\n",
       "      <td>10</td>\n",
       "      <td>US</td>\n",
       "      <td>00:01:00</td>\n",
       "      <td>0.229064</td>\n",
       "      <td>22.226368</td>\n",
       "      <td>1533.026751</td>\n",
       "      <td>48.425831</td>\n",
       "      <td>0.845257</td>\n",
       "      <td>29.616</td>\n",
       "      <td>255</td>\n",
       "      <td>0.684238</td>\n",
       "      <td>7</td>\n",
       "      <td>50</td>\n",
       "      <td>1</td>\n",
       "      <td>0</td>\n",
       "      <td>1</td>\n",
       "      <td>0</td>\n",
       "      <td>0</td>\n",
       "      <td>0</td>\n",
       "      <td>1</td>\n",
       "    </tr>\n",
       "  </tbody>\n",
       "</table>\n",
       "</div>"
      ],
      "text/plain": [
       "   well_id block esp_sr_no  depth  bean  water_cut  daily_flow  \\\n",
       "0     SS-A    A1    ESP001   2370   4.5       0.38        2500   \n",
       "1     SS-B    B1    ESP002   1740   4.5       0.34        2800   \n",
       "2  SS-C101    C1    ESP003   1995  10.0       0.40        3100   \n",
       "3  SS-C102    A1    ESP004   1790   5.0       0.55        2100   \n",
       "4  SS-C103    B1    ESP005   2140  10.0       0.55        2400   \n",
       "\n",
       "   num_work_orders  avg_maintenance_cost_monthly   status  avg_uptime  \\\n",
       "0                5                        5000.0  Warning          87   \n",
       "1                3                        7000.0  Running          92   \n",
       "2                6                        4000.0  Warning          94   \n",
       "3                3                        6000.0  Running          78   \n",
       "4                5                        5500.0  Warning          84   \n",
       "\n",
       "   daily_production_variance region      time      Ti_C    Pi_Psia  \\\n",
       "0                          7     US  00:01:00  0.229064  22.226368   \n",
       "1                          2     US  00:01:00  0.229064  22.226368   \n",
       "2                          0     US  00:01:00  0.229064  22.226368   \n",
       "3                         16     US  00:01:00  0.229064  22.226368   \n",
       "4                         10     US  00:01:00  0.229064  22.226368   \n",
       "\n",
       "          Vx_g       Vy_g      Tm_C  MOR_Ohm  Lc_mA      Lv_V  esp_age  \\\n",
       "0  1533.026751  48.425831  0.845257   29.616    255  0.684238       18   \n",
       "1  1533.026751  48.425831  0.845257   29.616    255  0.684238       11   \n",
       "2  1533.026751  48.425831  0.845257   29.616    255  0.684238       13   \n",
       "3  1533.026751  48.425831  0.845257   29.616    255  0.684238       12   \n",
       "4  1533.026751  48.425831  0.845257   29.616    255  0.684238        7   \n",
       "\n",
       "   perf_diff  SIRHAN  WEST SAFAWI  Vendor 1  Vendor 2  Vendor 3  two_labels  \\\n",
       "0        102       1            0         1         0         0           0   \n",
       "1         38       1            0         0         1         0           1   \n",
       "2         52       1            0         1         0         0           0   \n",
       "3         56       1            0         0         0         1           1   \n",
       "4         50       1            0         1         0         0           0   \n",
       "\n",
       "   three_labels  \n",
       "0             1  \n",
       "1             2  \n",
       "2             1  \n",
       "3             2  \n",
       "4             1  "
      ]
     },
     "execution_count": 128,
     "metadata": {},
     "output_type": "execute_result"
    }
   ],
   "source": [
    "wells_df['three_labels'] =wells_df.status.map({'Down':0, 'Warning':1, 'Running':2})\n",
    "#wells_df.status_binary = wells_df.status_binary.astype('int64')\n",
    "wells_df.head()"
   ]
  },
  {
   "cell_type": "code",
   "execution_count": 129,
   "metadata": {
    "collapsed": false
   },
   "outputs": [
    {
     "data": {
      "text/html": [
       "<div>\n",
       "<table border=\"1\" class=\"dataframe\">\n",
       "  <thead>\n",
       "    <tr style=\"text-align: right;\">\n",
       "      <th></th>\n",
       "      <th>well_id</th>\n",
       "      <th>SIRHAN</th>\n",
       "      <th>WEST SAFAWI</th>\n",
       "      <th>Vendor 1</th>\n",
       "      <th>Vendor 2</th>\n",
       "      <th>Vendor 3</th>\n",
       "      <th>block</th>\n",
       "      <th>esp_sr_no</th>\n",
       "      <th>perf_diff</th>\n",
       "      <th>depth</th>\n",
       "      <th>bean</th>\n",
       "      <th>esp_age</th>\n",
       "      <th>water_cut</th>\n",
       "      <th>daily_flow</th>\n",
       "      <th>num_work_orders</th>\n",
       "      <th>avg_maintenance_cost_monthly</th>\n",
       "      <th>status</th>\n",
       "      <th>two_labels</th>\n",
       "      <th>three_labels</th>\n",
       "      <th>avg_uptime</th>\n",
       "      <th>daily_production_variance</th>\n",
       "      <th>region</th>\n",
       "      <th>time</th>\n",
       "      <th>Ti_C</th>\n",
       "      <th>Pi_Psia</th>\n",
       "      <th>Vx_g</th>\n",
       "      <th>Vy_g</th>\n",
       "      <th>Tm_C</th>\n",
       "      <th>MOR_Ohm</th>\n",
       "      <th>Lc_mA</th>\n",
       "      <th>Lv_V</th>\n",
       "    </tr>\n",
       "  </thead>\n",
       "  <tbody>\n",
       "    <tr>\n",
       "      <th>0</th>\n",
       "      <td>SS-A</td>\n",
       "      <td>1</td>\n",
       "      <td>0</td>\n",
       "      <td>1</td>\n",
       "      <td>0</td>\n",
       "      <td>0</td>\n",
       "      <td>A1</td>\n",
       "      <td>ESP001</td>\n",
       "      <td>102</td>\n",
       "      <td>2370</td>\n",
       "      <td>4.5</td>\n",
       "      <td>18</td>\n",
       "      <td>0.38</td>\n",
       "      <td>2500</td>\n",
       "      <td>5</td>\n",
       "      <td>5000.0</td>\n",
       "      <td>Warning</td>\n",
       "      <td>0</td>\n",
       "      <td>1</td>\n",
       "      <td>87</td>\n",
       "      <td>7</td>\n",
       "      <td>US</td>\n",
       "      <td>00:01:00</td>\n",
       "      <td>0.229064</td>\n",
       "      <td>22.226368</td>\n",
       "      <td>1533.026751</td>\n",
       "      <td>48.425831</td>\n",
       "      <td>0.845257</td>\n",
       "      <td>29.616</td>\n",
       "      <td>255</td>\n",
       "      <td>0.684238</td>\n",
       "    </tr>\n",
       "    <tr>\n",
       "      <th>1</th>\n",
       "      <td>SS-B</td>\n",
       "      <td>1</td>\n",
       "      <td>0</td>\n",
       "      <td>0</td>\n",
       "      <td>1</td>\n",
       "      <td>0</td>\n",
       "      <td>B1</td>\n",
       "      <td>ESP002</td>\n",
       "      <td>38</td>\n",
       "      <td>1740</td>\n",
       "      <td>4.5</td>\n",
       "      <td>11</td>\n",
       "      <td>0.34</td>\n",
       "      <td>2800</td>\n",
       "      <td>3</td>\n",
       "      <td>7000.0</td>\n",
       "      <td>Running</td>\n",
       "      <td>1</td>\n",
       "      <td>2</td>\n",
       "      <td>92</td>\n",
       "      <td>2</td>\n",
       "      <td>US</td>\n",
       "      <td>00:01:00</td>\n",
       "      <td>0.229064</td>\n",
       "      <td>22.226368</td>\n",
       "      <td>1533.026751</td>\n",
       "      <td>48.425831</td>\n",
       "      <td>0.845257</td>\n",
       "      <td>29.616</td>\n",
       "      <td>255</td>\n",
       "      <td>0.684238</td>\n",
       "    </tr>\n",
       "    <tr>\n",
       "      <th>2</th>\n",
       "      <td>SS-C101</td>\n",
       "      <td>1</td>\n",
       "      <td>0</td>\n",
       "      <td>1</td>\n",
       "      <td>0</td>\n",
       "      <td>0</td>\n",
       "      <td>C1</td>\n",
       "      <td>ESP003</td>\n",
       "      <td>52</td>\n",
       "      <td>1995</td>\n",
       "      <td>10.0</td>\n",
       "      <td>13</td>\n",
       "      <td>0.40</td>\n",
       "      <td>3100</td>\n",
       "      <td>6</td>\n",
       "      <td>4000.0</td>\n",
       "      <td>Warning</td>\n",
       "      <td>0</td>\n",
       "      <td>1</td>\n",
       "      <td>94</td>\n",
       "      <td>0</td>\n",
       "      <td>US</td>\n",
       "      <td>00:01:00</td>\n",
       "      <td>0.229064</td>\n",
       "      <td>22.226368</td>\n",
       "      <td>1533.026751</td>\n",
       "      <td>48.425831</td>\n",
       "      <td>0.845257</td>\n",
       "      <td>29.616</td>\n",
       "      <td>255</td>\n",
       "      <td>0.684238</td>\n",
       "    </tr>\n",
       "    <tr>\n",
       "      <th>3</th>\n",
       "      <td>SS-C102</td>\n",
       "      <td>1</td>\n",
       "      <td>0</td>\n",
       "      <td>0</td>\n",
       "      <td>0</td>\n",
       "      <td>1</td>\n",
       "      <td>A1</td>\n",
       "      <td>ESP004</td>\n",
       "      <td>56</td>\n",
       "      <td>1790</td>\n",
       "      <td>5.0</td>\n",
       "      <td>12</td>\n",
       "      <td>0.55</td>\n",
       "      <td>2100</td>\n",
       "      <td>3</td>\n",
       "      <td>6000.0</td>\n",
       "      <td>Running</td>\n",
       "      <td>1</td>\n",
       "      <td>2</td>\n",
       "      <td>78</td>\n",
       "      <td>16</td>\n",
       "      <td>US</td>\n",
       "      <td>00:01:00</td>\n",
       "      <td>0.229064</td>\n",
       "      <td>22.226368</td>\n",
       "      <td>1533.026751</td>\n",
       "      <td>48.425831</td>\n",
       "      <td>0.845257</td>\n",
       "      <td>29.616</td>\n",
       "      <td>255</td>\n",
       "      <td>0.684238</td>\n",
       "    </tr>\n",
       "    <tr>\n",
       "      <th>4</th>\n",
       "      <td>SS-C103</td>\n",
       "      <td>1</td>\n",
       "      <td>0</td>\n",
       "      <td>1</td>\n",
       "      <td>0</td>\n",
       "      <td>0</td>\n",
       "      <td>B1</td>\n",
       "      <td>ESP005</td>\n",
       "      <td>50</td>\n",
       "      <td>2140</td>\n",
       "      <td>10.0</td>\n",
       "      <td>7</td>\n",
       "      <td>0.55</td>\n",
       "      <td>2400</td>\n",
       "      <td>5</td>\n",
       "      <td>5500.0</td>\n",
       "      <td>Warning</td>\n",
       "      <td>0</td>\n",
       "      <td>1</td>\n",
       "      <td>84</td>\n",
       "      <td>10</td>\n",
       "      <td>US</td>\n",
       "      <td>00:01:00</td>\n",
       "      <td>0.229064</td>\n",
       "      <td>22.226368</td>\n",
       "      <td>1533.026751</td>\n",
       "      <td>48.425831</td>\n",
       "      <td>0.845257</td>\n",
       "      <td>29.616</td>\n",
       "      <td>255</td>\n",
       "      <td>0.684238</td>\n",
       "    </tr>\n",
       "  </tbody>\n",
       "</table>\n",
       "</div>"
      ],
      "text/plain": [
       "   well_id  SIRHAN  WEST SAFAWI  Vendor 1  Vendor 2  Vendor 3 block esp_sr_no  \\\n",
       "0     SS-A       1            0         1         0         0    A1    ESP001   \n",
       "1     SS-B       1            0         0         1         0    B1    ESP002   \n",
       "2  SS-C101       1            0         1         0         0    C1    ESP003   \n",
       "3  SS-C102       1            0         0         0         1    A1    ESP004   \n",
       "4  SS-C103       1            0         1         0         0    B1    ESP005   \n",
       "\n",
       "   perf_diff  depth  bean  esp_age  water_cut  daily_flow  num_work_orders  \\\n",
       "0        102   2370   4.5       18       0.38        2500                5   \n",
       "1         38   1740   4.5       11       0.34        2800                3   \n",
       "2         52   1995  10.0       13       0.40        3100                6   \n",
       "3         56   1790   5.0       12       0.55        2100                3   \n",
       "4         50   2140  10.0        7       0.55        2400                5   \n",
       "\n",
       "   avg_maintenance_cost_monthly   status  two_labels  three_labels  \\\n",
       "0                        5000.0  Warning           0             1   \n",
       "1                        7000.0  Running           1             2   \n",
       "2                        4000.0  Warning           0             1   \n",
       "3                        6000.0  Running           1             2   \n",
       "4                        5500.0  Warning           0             1   \n",
       "\n",
       "   avg_uptime  daily_production_variance region      time      Ti_C  \\\n",
       "0          87                          7     US  00:01:00  0.229064   \n",
       "1          92                          2     US  00:01:00  0.229064   \n",
       "2          94                          0     US  00:01:00  0.229064   \n",
       "3          78                         16     US  00:01:00  0.229064   \n",
       "4          84                         10     US  00:01:00  0.229064   \n",
       "\n",
       "     Pi_Psia         Vx_g       Vy_g      Tm_C  MOR_Ohm  Lc_mA      Lv_V  \n",
       "0  22.226368  1533.026751  48.425831  0.845257   29.616    255  0.684238  \n",
       "1  22.226368  1533.026751  48.425831  0.845257   29.616    255  0.684238  \n",
       "2  22.226368  1533.026751  48.425831  0.845257   29.616    255  0.684238  \n",
       "3  22.226368  1533.026751  48.425831  0.845257   29.616    255  0.684238  \n",
       "4  22.226368  1533.026751  48.425831  0.845257   29.616    255  0.684238  "
      ]
     },
     "execution_count": 129,
     "metadata": {},
     "output_type": "execute_result"
    }
   ],
   "source": [
    "wells_df = wells_df[['well_id','SIRHAN','WEST SAFAWI','Vendor 1','Vendor 2', 'Vendor 3','block','esp_sr_no','perf_diff','depth','bean',\n",
    "                     'esp_age','water_cut','daily_flow','num_work_orders','avg_maintenance_cost_monthly','status','two_labels',\n",
    "                     'three_labels','avg_uptime','daily_production_variance','region','time','Ti_C','Pi_Psia','Vx_g',\n",
    "                     'Vy_g','Tm_C','MOR_Ohm','Lc_mA','Lv_V']]\n",
    "wells_df.head()"
   ]
  },
  {
   "cell_type": "markdown",
   "metadata": {},
   "source": [
    "## Savind the dataframe as a CSV for further analysis in R"
   ]
  },
  {
   "cell_type": "code",
   "execution_count": 58,
   "metadata": {
    "collapsed": true
   },
   "outputs": [],
   "source": [
    "#wells_df.to_csv('final_esp_v1.0.csv', sep=',' )"
   ]
  },
  {
   "cell_type": "markdown",
   "metadata": {
    "collapsed": true
   },
   "source": [
    "# LOGISTIC REGRESSION MODEL"
   ]
  },
  {
   "cell_type": "markdown",
   "metadata": {},
   "source": [
    "### Split Test and Train data "
   ]
  },
  {
   "cell_type": "code",
   "execution_count": 130,
   "metadata": {
    "collapsed": false
   },
   "outputs": [],
   "source": [
    "feature_cols = ['SIRHAN','WEST SAFAWI','perf_diff','depth','bean','esp_age','Vendor 1','Vendor 2', 'Vendor 3',\n",
    "                         'water_cut','daily_flow','num_work_orders','avg_maintenance_cost_monthly','avg_uptime',\n",
    "                        'daily_production_variance','Ti_C','Pi_Psia','Vx_g','Vy_g','Tm_C','MOR_Ohm','Lc_mA','Lv_V']\n",
    "X = wells_df[feature_cols]\n",
    "y = wells_df.two_labels #{Down:0, Warning:0, Running:1}"
   ]
  },
  {
   "cell_type": "code",
   "execution_count": 131,
   "metadata": {
    "collapsed": false
   },
   "outputs": [
    {
     "name": "stderr",
     "output_type": "stream",
     "text": [
      "/home/sprmario/Envs/testDSenv/local/lib/python2.7/site-packages/sklearn/cross_validation.py:44: DeprecationWarning: This module was deprecated in version 0.18 in favor of the model_selection module into which all the refactored classes and functions are moved. Also note that the interface of the new CV iterators are different from that of this module. This module will be removed in 0.20.\n",
      "  \"This module will be removed in 0.20.\", DeprecationWarning)\n"
     ]
    }
   ],
   "source": [
    "from sklearn.cross_validation import train_test_split\n",
    "X_train, X_test, y_train, y_test = train_test_split(X, y, random_state=1, test_size=.2)"
   ]
  },
  {
   "cell_type": "code",
   "execution_count": 132,
   "metadata": {
    "collapsed": false
   },
   "outputs": [
    {
     "name": "stdout",
     "output_type": "stream",
     "text": [
      "(61938, 31)\n",
      "(49550, 23)\n",
      "(12388, 23)\n",
      "(49550,)\n",
      "(12388,)\n"
     ]
    }
   ],
   "source": [
    "print wells_df.shape\n",
    "print X_train.shape\n",
    "print X_test.shape\n",
    "print y_train.shape\n",
    "print y_test.shape"
   ]
  },
  {
   "cell_type": "markdown",
   "metadata": {},
   "source": [
    "### Scaling data with outliers\n",
    "\n",
    "Making sure that each Feature has approximately the same scale can be a crucial preprocessing step.\n",
    "\n",
    "When there's outliers, it is best practice to use a scaler that is robust against outliers"
   ]
  },
  {
   "cell_type": "code",
   "execution_count": 133,
   "metadata": {
    "collapsed": true
   },
   "outputs": [],
   "source": [
    "from sklearn.preprocessing import RobustScaler\n",
    "robust_scaler = RobustScaler()"
   ]
  },
  {
   "cell_type": "code",
   "execution_count": 134,
   "metadata": {
    "collapsed": false
   },
   "outputs": [],
   "source": [
    "X_tr_r = robust_scaler.fit_transform(X_train)\n",
    "X_te_r = robust_scaler.transform(X_test)"
   ]
  },
  {
   "cell_type": "code",
   "execution_count": 135,
   "metadata": {
    "collapsed": false
   },
   "outputs": [
    {
     "data": {
      "text/plain": [
       "LogisticRegression(C=1.0, class_weight='balanced', dual=False,\n",
       "          fit_intercept=True, intercept_scaling=1, max_iter=100,\n",
       "          multi_class='ovr', n_jobs=5, penalty='l2', random_state=1,\n",
       "          solver='liblinear', tol=0.0001, verbose=0, warm_start=False)"
      ]
     },
     "execution_count": 135,
     "metadata": {},
     "output_type": "execute_result"
    }
   ],
   "source": [
    "from sklearn.linear_model import LogisticRegression\n",
    "logreg = LogisticRegression(class_weight='balanced', n_jobs=5 , random_state=1)\n",
    "logreg.fit(X_tr_r, y_train)#"
   ]
  },
  {
   "cell_type": "code",
   "execution_count": 136,
   "metadata": {
    "collapsed": false
   },
   "outputs": [
    {
     "data": {
      "text/plain": [
       "Vendor 2                        0.555076\n",
       "bean                            0.059822\n",
       "depth                           0.030097\n",
       "SIRHAN                          0.025931\n",
       "Tm_C                            0.013623\n",
       "Pi_Psia                         0.010799\n",
       "Vendor 1                        0.010714\n",
       "Ti_C                            0.007146\n",
       "water_cut                       0.005169\n",
       "daily_production_variance       0.001136\n",
       "Lc_mA                           0.000000\n",
       "avg_uptime                     -0.001136\n",
       "avg_maintenance_cost_monthly   -0.002744\n",
       "perf_diff                      -0.004090\n",
       "num_work_orders                -0.005141\n",
       "daily_flow                     -0.017645\n",
       "esp_age                        -0.019141\n",
       "Lv_V                           -0.019445\n",
       "MOR_Ohm                        -0.021171\n",
       "WEST SAFAWI                    -0.025931\n",
       "Vx_g                           -0.219219\n",
       "Vendor 3                       -0.346759\n",
       "Vy_g                           -0.859023\n",
       "dtype: float64"
      ]
     },
     "execution_count": 136,
     "metadata": {},
     "output_type": "execute_result"
    }
   ],
   "source": [
    "well_feat = pd.Series(index=X_train.columns, data=logreg.coef_.reshape(-1))\n",
    "well_feat.sort_values(ascending=False)"
   ]
  },
  {
   "cell_type": "markdown",
   "metadata": {},
   "source": [
    "#### How do we interpret the coefficients? \n",
    "Vx_g, Vy_g, Vendor 3 have a greater impact in predicting an ESP Down/Warning\n",
    "\n",
    "Vendor 2, bean, depth have a greater impact in predicting an ESP Running"
   ]
  },
  {
   "cell_type": "code",
   "execution_count": 137,
   "metadata": {
    "collapsed": false
   },
   "outputs": [
    {
     "name": "stdout",
     "output_type": "stream",
     "text": [
      "0.682434614143\n"
     ]
    }
   ],
   "source": [
    "y_pred_class = logreg.predict(X_te_r)\n",
    "from sklearn import metrics\n",
    "print metrics.accuracy_score(y_test, y_pred_class) "
   ]
  },
  {
   "cell_type": "markdown",
   "metadata": {},
   "source": [
    "Due to our classes being imbalanced, we couldn’t rely on the model with the best classification accuracy"
   ]
  },
  {
   "cell_type": "code",
   "execution_count": 138,
   "metadata": {
    "collapsed": false
   },
   "outputs": [
    {
     "data": {
      "text/plain": [
       "array([[1367,  789],\n",
       "       [3145, 7087]])"
      ]
     },
     "execution_count": 138,
     "metadata": {},
     "output_type": "execute_result"
    }
   ],
   "source": [
    "metrics.confusion_matrix(y_test, y_pred_class)"
   ]
  },
  {
   "cell_type": "code",
   "execution_count": 139,
   "metadata": {
    "collapsed": false
   },
   "outputs": [
    {
     "data": {
      "text/html": [
       "<div>\n",
       "<table border=\"1\" class=\"dataframe\">\n",
       "  <thead>\n",
       "    <tr style=\"text-align: right;\">\n",
       "      <th>Predicted</th>\n",
       "      <th>0</th>\n",
       "      <th>1</th>\n",
       "      <th>All</th>\n",
       "    </tr>\n",
       "    <tr>\n",
       "      <th>True</th>\n",
       "      <th></th>\n",
       "      <th></th>\n",
       "      <th></th>\n",
       "    </tr>\n",
       "  </thead>\n",
       "  <tbody>\n",
       "    <tr>\n",
       "      <th>0</th>\n",
       "      <td>1367</td>\n",
       "      <td>789</td>\n",
       "      <td>2156</td>\n",
       "    </tr>\n",
       "    <tr>\n",
       "      <th>1</th>\n",
       "      <td>3145</td>\n",
       "      <td>7087</td>\n",
       "      <td>10232</td>\n",
       "    </tr>\n",
       "    <tr>\n",
       "      <th>All</th>\n",
       "      <td>4512</td>\n",
       "      <td>7876</td>\n",
       "      <td>12388</td>\n",
       "    </tr>\n",
       "  </tbody>\n",
       "</table>\n",
       "</div>"
      ],
      "text/plain": [
       "Predicted     0     1    All\n",
       "True                        \n",
       "0          1367   789   2156\n",
       "1          3145  7087  10232\n",
       "All        4512  7876  12388"
      ]
     },
     "execution_count": 139,
     "metadata": {},
     "output_type": "execute_result"
    }
   ],
   "source": [
    "pd.crosstab(y_test, y_pred_class, rownames=['True'], colnames=['Predicted'], margins=True)"
   ]
  },
  {
   "cell_type": "markdown",
   "metadata": {},
   "source": [
    "#### Meauring the sensitivity and specifity\n",
    "\n",
    "Sensitivity is the measure used to report how effective a test is in identifying an ESP **running** status. The higher the sensitivity the better.\n",
    "\n",
    "Specificity is the measure used to report how effective a test is in identifying an ESP **warning/down** status. The higher the specificity the better."
   ]
  },
  {
   "cell_type": "code",
   "execution_count": 140,
   "metadata": {
    "collapsed": false
   },
   "outputs": [
    {
     "name": "stdout",
     "output_type": "stream",
     "text": [
      "69.2630961689\n",
      "63.4044526902\n"
     ]
    }
   ],
   "source": [
    "sensitivity = (7087/10232.) * 100 #TP/(TP + FN))\n",
    "print sensitivity\n",
    "specificity = (1367/2156.) *100\n",
    "print specificity"
   ]
  },
  {
   "cell_type": "code",
   "execution_count": 141,
   "metadata": {
    "collapsed": true
   },
   "outputs": [],
   "source": [
    "outcome = ['Down/Warning','Running']"
   ]
  },
  {
   "cell_type": "markdown",
   "metadata": {},
   "source": [
    "Looking at the confusion matrix, precision, recall, f1-score and ROC curve gave us more insight into the accuracy of the model\n"
   ]
  },
  {
   "cell_type": "code",
   "execution_count": 142,
   "metadata": {
    "collapsed": false
   },
   "outputs": [
    {
     "name": "stdout",
     "output_type": "stream",
     "text": [
      "              precision    recall  f1-score   support\n",
      "\n",
      "Down/Warning       0.30      0.63      0.41      2156\n",
      "     Running       0.90      0.69      0.78     10232\n",
      "\n",
      " avg / total       0.80      0.68      0.72     12388\n",
      "\n"
     ]
    }
   ],
   "source": [
    "from sklearn.metrics import classification_report\n",
    "print(classification_report(y_test, y_pred_class, target_names=outcome))"
   ]
  },
  {
   "cell_type": "markdown",
   "metadata": {},
   "source": [
    "The best models should have both high precision and recall values. However, there is often a tradeoff between the two. Determining which metric to optimize depends on the question being answered.\n",
    "\n",
    "In this case, the company wishes to find ESP's that may have a status of down/warning or running\n",
    "\n",
    "For this business case, recall should be more important. A missed down/warning status is much more harmful to the company which can cause downtime or a catestrophic event. In statistical terminology, this means that a false negative is more damaging than a false positive."
   ]
  },
  {
   "cell_type": "code",
   "execution_count": 143,
   "metadata": {
    "collapsed": false
   },
   "outputs": [
    {
     "data": {
      "text/plain": [
       "<matplotlib.text.Text at 0x7f45abdbc110>"
      ]
     },
     "execution_count": 143,
     "metadata": {},
     "output_type": "execute_result"
    },
    {
     "data": {
      "image/png": "[encoded data removed]",
      "text/plain": [
       "<matplotlib.figure.Figure at 0x7f45ae1c0490>"
      ]
     },
     "metadata": {},
     "output_type": "display_data"
    }
   ],
   "source": [
    "y_pred_prob = logreg.predict_proba(X_te_r)[:, 1]\n",
    "plt.hist(y_pred_prob)\n",
    "plt.xlabel('Predicted probability of ESP Running')\n",
    "plt.ylabel('Frequency')"
   ]
  },
  {
   "cell_type": "code",
   "execution_count": 144,
   "metadata": {
    "collapsed": false
   },
   "outputs": [
    {
     "data": {
      "text/plain": [
       "<matplotlib.text.Text at 0x7f45ae240b90>"
      ]
     },
     "execution_count": 144,
     "metadata": {},
     "output_type": "execute_result"
    },
    {
     "data": {
      "image/png": "[encoded data removed]",
      "text/plain": [
       "<matplotlib.figure.Figure at 0x7f45af401dd0>"
      ]
     },
     "metadata": {},
     "output_type": "display_data"
    }
   ],
   "source": [
    "fpr, tpr, thresholds = metrics.roc_curve(y_test, y_pred_prob)\n",
    "plt.plot(fpr, tpr)\n",
    "plt.xlim([0.0, 1.0])\n",
    "plt.ylim([0.0, 1.0])\n",
    "plt.xlabel('False Positive Rate (1 - Specificity)')\n",
    "plt.ylabel('True Positive Rate (Sensitivity)')"
   ]
  },
  {
   "cell_type": "markdown",
   "metadata": {},
   "source": [
    "Seeing the ROC curve can help you to choose a threshold that balances sensitivity and specificity in a way that makes sense for the particular context\n",
    "\n",
    "Chooosing the classification threshold is a business decision"
   ]
  },
  {
   "cell_type": "code",
   "execution_count": 145,
   "metadata": {
    "collapsed": false
   },
   "outputs": [
    {
     "data": {
      "text/plain": [
       "0.71052897001077775"
      ]
     },
     "execution_count": 145,
     "metadata": {},
     "output_type": "execute_result"
    }
   ],
   "source": [
    "metrics.auc(fpr, tpr) # Area under the curve"
   ]
  },
  {
   "cell_type": "markdown",
   "metadata": {},
   "source": [
    "## Changing the threshhold\n",
    "\n",
    "The following commands shows the impact of changing the threshold of your model"
   ]
  },
  {
   "cell_type": "code",
   "execution_count": 146,
   "metadata": {
    "collapsed": false
   },
   "outputs": [
    {
     "name": "stderr",
     "output_type": "stream",
     "text": [
      "/home/sprmario/Envs/testDSenv/local/lib/python2.7/site-packages/sklearn/utils/validation.py:395: DeprecationWarning: Passing 1d arrays as data is deprecated in 0.17 and will raise ValueError in 0.19. Reshape your data either using X.reshape(-1, 1) if your data has a single feature or X.reshape(1, -1) if it contains a single sample.\n",
      "  DeprecationWarning)\n"
     ]
    }
   ],
   "source": [
    "from sklearn.preprocessing import binarize\n",
    "y_pred_class = binarize(y_pred_prob, 0.54)# change the threshold to decrease sensitivity\n",
    "# moving the treshold from .50 to .54  ( > .54 give me 1 else its a 0)"
   ]
  },
  {
   "cell_type": "code",
   "execution_count": 147,
   "metadata": {
    "collapsed": false
   },
   "outputs": [
    {
     "name": "stdout",
     "output_type": "stream",
     "text": [
      "[[1495  661]\n",
      " [4018 6214]]\n"
     ]
    }
   ],
   "source": [
    "### Orginial Matrix\n",
    "##[[1367  789]\n",
    "## [3145 7087]]\n",
    "#\n",
    "# new confusion matrix. Columns=Predicted Down/Warning, Running; Row=Actual Down/Warning, Running. \n",
    "# sensitivity = True Positive / Actual YES\n",
    "# specificity = True Negative / Actual NO\n",
    "print metrics.confusion_matrix(y_test[0:], y_pred_class[0])"
   ]
  },
  {
   "cell_type": "code",
   "execution_count": 148,
   "metadata": {
    "collapsed": false
   },
   "outputs": [
    {
     "data": {
      "text/html": [
       "<div>\n",
       "<table border=\"1\" class=\"dataframe\">\n",
       "  <thead>\n",
       "    <tr style=\"text-align: right;\">\n",
       "      <th>Predicted</th>\n",
       "      <th>0.0</th>\n",
       "      <th>1.0</th>\n",
       "      <th>All</th>\n",
       "    </tr>\n",
       "    <tr>\n",
       "      <th>True</th>\n",
       "      <th></th>\n",
       "      <th></th>\n",
       "      <th></th>\n",
       "    </tr>\n",
       "  </thead>\n",
       "  <tbody>\n",
       "    <tr>\n",
       "      <th>0</th>\n",
       "      <td>1495</td>\n",
       "      <td>661</td>\n",
       "      <td>2156</td>\n",
       "    </tr>\n",
       "    <tr>\n",
       "      <th>1</th>\n",
       "      <td>4018</td>\n",
       "      <td>6214</td>\n",
       "      <td>10232</td>\n",
       "    </tr>\n",
       "    <tr>\n",
       "      <th>All</th>\n",
       "      <td>5513</td>\n",
       "      <td>6875</td>\n",
       "      <td>12388</td>\n",
       "    </tr>\n",
       "  </tbody>\n",
       "</table>\n",
       "</div>"
      ],
      "text/plain": [
       "Predicted   0.0   1.0    All\n",
       "True                        \n",
       "0          1495   661   2156\n",
       "1          4018  6214  10232\n",
       "All        5513  6875  12388"
      ]
     },
     "execution_count": 148,
     "metadata": {},
     "output_type": "execute_result"
    }
   ],
   "source": [
    "pd.crosstab(y_test[0:], y_pred_class[0], rownames=['True'], colnames=['Predicted'], margins=True)"
   ]
  },
  {
   "cell_type": "code",
   "execution_count": 149,
   "metadata": {
    "collapsed": false
   },
   "outputs": [
    {
     "name": "stdout",
     "output_type": "stream",
     "text": [
      "0.631059421423\n"
     ]
    }
   ],
   "source": [
    "# new sensitivity\n",
    "print 6457 / float(10232)"
   ]
  },
  {
   "cell_type": "code",
   "execution_count": 150,
   "metadata": {
    "collapsed": false
   },
   "outputs": [
    {
     "name": "stdout",
     "output_type": "stream",
     "text": [
      "0.679499072356\n"
     ]
    }
   ],
   "source": [
    "# new specificity\n",
    "print 1465 / float(2156)"
   ]
  },
  {
   "cell_type": "code",
   "execution_count": null,
   "metadata": {
    "collapsed": true
   },
   "outputs": [],
   "source": []
  },
  {
   "cell_type": "markdown",
   "metadata": {
    "collapsed": true
   },
   "source": [
    "# RANDOM FOREST MODEL"
   ]
  },
  {
   "cell_type": "code",
   "execution_count": 151,
   "metadata": {
    "collapsed": false
   },
   "outputs": [],
   "source": [
    "feature_cols = ['esp_age','depth','Vendor 1','Vendor 2', 'Vendor 3','Ti_C','Pi_Psia','Vx_g','Vy_g','Tm_C','MOR_Ohm','Lv_V']\n",
    "X = wells_df[feature_cols]\n",
    "y = wells_df.two_labels"
   ]
  },
  {
   "cell_type": "code",
   "execution_count": 152,
   "metadata": {
    "collapsed": false
   },
   "outputs": [],
   "source": [
    "feature_cols = ['SIRHAN','WEST SAFAWI','perf_diff','depth','bean','esp_age','Vendor 1','Vendor 2', 'Vendor 3',\n",
    "                         'water_cut','daily_flow','num_work_orders','avg_maintenance_cost_monthly','avg_uptime',\n",
    "                        'daily_production_variance','Ti_C','Pi_Psia','Vx_g','Vy_g','Tm_C','MOR_Ohm','Lc_mA','Lv_V']\n",
    "X = wells_df[feature_cols]\n",
    "y = wells_df.two_labels"
   ]
  },
  {
   "cell_type": "code",
   "execution_count": 153,
   "metadata": {
    "collapsed": true
   },
   "outputs": [],
   "source": [
    "from sklearn.cross_validation import train_test_split\n",
    "X_train, X_test, y_train, y_test = train_test_split(X, y, random_state=1, test_size=.20)"
   ]
  },
  {
   "cell_type": "code",
   "execution_count": 154,
   "metadata": {
    "collapsed": false
   },
   "outputs": [],
   "source": [
    "from sklearn.ensemble import RandomForestClassifier\n",
    "from sklearn.cross_validation import cross_val_score\n",
    "\n",
    "#clf = RandomForestClassifier(n_estimators=10, max_depth=None, random_state=0, class_weight='balanced_subsample') #, min_samples_split=2\n",
    "#scores = cross_val_score(clf, X_train, y_train)\n",
    "#scores.mean() "
   ]
  },
  {
   "cell_type": "code",
   "execution_count": 155,
   "metadata": {
    "collapsed": false
   },
   "outputs": [],
   "source": [
    "clf = RandomForestClassifier(max_depth=6, n_estimators=5,n_jobs=10, class_weight= 'balanced', random_state=1)\n",
    "clf.fit(X_train, y_train)\n",
    "y_pred = clf.predict(X_test)"
   ]
  },
  {
   "cell_type": "code",
   "execution_count": 156,
   "metadata": {
    "collapsed": false
   },
   "outputs": [
    {
     "name": "stdout",
     "output_type": "stream",
     "text": [
      "0.701485308363\n",
      "0.79487463945\n"
     ]
    }
   ],
   "source": [
    "print metrics.accuracy_score(y_pred, y_test)\n",
    "print metrics.f1_score(y_pred, y_test)"
   ]
  },
  {
   "cell_type": "code",
   "execution_count": 157,
   "metadata": {
    "collapsed": false
   },
   "outputs": [
    {
     "data": {
      "text/html": [
       "<div>\n",
       "<table border=\"1\" class=\"dataframe\">\n",
       "  <thead>\n",
       "    <tr style=\"text-align: right;\">\n",
       "      <th>Predicted</th>\n",
       "      <th>0</th>\n",
       "      <th>1</th>\n",
       "      <th>All</th>\n",
       "    </tr>\n",
       "    <tr>\n",
       "      <th>True</th>\n",
       "      <th></th>\n",
       "      <th></th>\n",
       "      <th></th>\n",
       "    </tr>\n",
       "  </thead>\n",
       "  <tbody>\n",
       "    <tr>\n",
       "      <th>0</th>\n",
       "      <td>1525</td>\n",
       "      <td>631</td>\n",
       "      <td>2156</td>\n",
       "    </tr>\n",
       "    <tr>\n",
       "      <th>1</th>\n",
       "      <td>3067</td>\n",
       "      <td>7165</td>\n",
       "      <td>10232</td>\n",
       "    </tr>\n",
       "    <tr>\n",
       "      <th>All</th>\n",
       "      <td>4592</td>\n",
       "      <td>7796</td>\n",
       "      <td>12388</td>\n",
       "    </tr>\n",
       "  </tbody>\n",
       "</table>\n",
       "</div>"
      ],
      "text/plain": [
       "Predicted     0     1    All\n",
       "True                        \n",
       "0          1525   631   2156\n",
       "1          3067  7165  10232\n",
       "All        4592  7796  12388"
      ]
     },
     "execution_count": 157,
     "metadata": {},
     "output_type": "execute_result"
    }
   ],
   "source": [
    "pd.crosstab(y_test, y_pred, rownames=['True'], colnames=['Predicted'], margins=True)"
   ]
  },
  {
   "cell_type": "code",
   "execution_count": 158,
   "metadata": {
    "collapsed": false
   },
   "outputs": [
    {
     "name": "stdout",
     "output_type": "stream",
     "text": [
      "70.0254104769\n",
      "70.73283859\n"
     ]
    }
   ],
   "source": [
    "sensitivity = (7165/10232.) * 100 #TP/(TP + FN))\n",
    "print sensitivity\n",
    "specificity = (1525/2156.) *100\n",
    "print specificity"
   ]
  },
  {
   "cell_type": "code",
   "execution_count": 159,
   "metadata": {
    "collapsed": false
   },
   "outputs": [
    {
     "name": "stdout",
     "output_type": "stream",
     "text": [
      "              precision    recall  f1-score   support\n",
      "\n",
      "Down/Warning       0.33      0.71      0.45      2156\n",
      "     Running       0.92      0.70      0.79     10232\n",
      "\n",
      " avg / total       0.82      0.70      0.74     12388\n",
      "\n"
     ]
    }
   ],
   "source": [
    "print(classification_report(y_test, y_pred, target_names=outcome))"
   ]
  },
  {
   "cell_type": "code",
   "execution_count": 160,
   "metadata": {
    "collapsed": false
   },
   "outputs": [
    {
     "data": {
      "text/plain": [
       "<matplotlib.text.Text at 0x7f45a921c250>"
      ]
     },
     "execution_count": 160,
     "metadata": {},
     "output_type": "execute_result"
    },
    {
     "data": {
      "image/png": "[encoded data removed]",
      "text/plain": [
       "<matplotlib.figure.Figure at 0x7f45aed35710>"
      ]
     },
     "metadata": {},
     "output_type": "display_data"
    }
   ],
   "source": [
    "y_pred_prob = clf.predict_proba(X_test)[:, 1]\n",
    "plt.hist(y_pred_prob)\n",
    "plt.xlabel('Predicted probability of ESP Running')\n",
    "plt.ylabel('Frequency')"
   ]
  },
  {
   "cell_type": "code",
   "execution_count": 161,
   "metadata": {
    "collapsed": false
   },
   "outputs": [
    {
     "data": {
      "text/plain": [
       "<matplotlib.text.Text at 0x7f45a81996d0>"
      ]
     },
     "execution_count": 161,
     "metadata": {},
     "output_type": "execute_result"
    },
    {
     "data": {
      "image/png": "[encoded data removed]",
      "text/plain": [
       "<matplotlib.figure.Figure at 0x7f45af32ee90>"
      ]
     },
     "metadata": {},
     "output_type": "display_data"
    }
   ],
   "source": [
    "fpr, tpr, thresholds = metrics.roc_curve(y_test, y_pred_prob)\n",
    "plt.plot(fpr, tpr)\n",
    "plt.xlim([0.0, 1.0])\n",
    "plt.ylim([0.0, 1.0])\n",
    "plt.xlabel('False Positive Rate (1 - Specificity)')\n",
    "plt.ylabel('True Positive Rate (Sensitivity)')"
   ]
  },
  {
   "cell_type": "code",
   "execution_count": 162,
   "metadata": {
    "collapsed": false
   },
   "outputs": [
    {
     "data": {
      "text/plain": [
       "0.76588442657253386"
      ]
     },
     "execution_count": 162,
     "metadata": {},
     "output_type": "execute_result"
    }
   ],
   "source": [
    "roc_auc = metrics.auc(fpr, tpr) # area under the curve\n",
    "roc_auc"
   ]
  },
  {
   "cell_type": "markdown",
   "metadata": {},
   "source": [
    "## Important features for your model"
   ]
  },
  {
   "cell_type": "code",
   "execution_count": 163,
   "metadata": {
    "collapsed": false
   },
   "outputs": [
    {
     "data": {
      "text/html": [
       "<div>\n",
       "<table border=\"1\" class=\"dataframe\">\n",
       "  <thead>\n",
       "    <tr style=\"text-align: right;\">\n",
       "      <th></th>\n",
       "      <th>feature</th>\n",
       "      <th>importance</th>\n",
       "    </tr>\n",
       "  </thead>\n",
       "  <tbody>\n",
       "    <tr>\n",
       "      <th>18</th>\n",
       "      <td>Vy_g</td>\n",
       "      <td>0.529580</td>\n",
       "    </tr>\n",
       "    <tr>\n",
       "      <th>6</th>\n",
       "      <td>Vendor 1</td>\n",
       "      <td>0.191987</td>\n",
       "    </tr>\n",
       "    <tr>\n",
       "      <th>8</th>\n",
       "      <td>Vendor 3</td>\n",
       "      <td>0.070899</td>\n",
       "    </tr>\n",
       "    <tr>\n",
       "      <th>17</th>\n",
       "      <td>Vx_g</td>\n",
       "      <td>0.042345</td>\n",
       "    </tr>\n",
       "    <tr>\n",
       "      <th>19</th>\n",
       "      <td>Tm_C</td>\n",
       "      <td>0.024575</td>\n",
       "    </tr>\n",
       "    <tr>\n",
       "      <th>20</th>\n",
       "      <td>MOR_Ohm</td>\n",
       "      <td>0.024308</td>\n",
       "    </tr>\n",
       "    <tr>\n",
       "      <th>7</th>\n",
       "      <td>Vendor 2</td>\n",
       "      <td>0.023811</td>\n",
       "    </tr>\n",
       "    <tr>\n",
       "      <th>5</th>\n",
       "      <td>esp_age</td>\n",
       "      <td>0.019423</td>\n",
       "    </tr>\n",
       "    <tr>\n",
       "      <th>15</th>\n",
       "      <td>Ti_C</td>\n",
       "      <td>0.019327</td>\n",
       "    </tr>\n",
       "    <tr>\n",
       "      <th>22</th>\n",
       "      <td>Lv_V</td>\n",
       "      <td>0.012278</td>\n",
       "    </tr>\n",
       "    <tr>\n",
       "      <th>16</th>\n",
       "      <td>Pi_Psia</td>\n",
       "      <td>0.010964</td>\n",
       "    </tr>\n",
       "    <tr>\n",
       "      <th>3</th>\n",
       "      <td>depth</td>\n",
       "      <td>0.010882</td>\n",
       "    </tr>\n",
       "    <tr>\n",
       "      <th>12</th>\n",
       "      <td>avg_maintenance_cost_monthly</td>\n",
       "      <td>0.007629</td>\n",
       "    </tr>\n",
       "    <tr>\n",
       "      <th>13</th>\n",
       "      <td>avg_uptime</td>\n",
       "      <td>0.004079</td>\n",
       "    </tr>\n",
       "    <tr>\n",
       "      <th>2</th>\n",
       "      <td>perf_diff</td>\n",
       "      <td>0.002483</td>\n",
       "    </tr>\n",
       "    <tr>\n",
       "      <th>11</th>\n",
       "      <td>num_work_orders</td>\n",
       "      <td>0.001609</td>\n",
       "    </tr>\n",
       "    <tr>\n",
       "      <th>14</th>\n",
       "      <td>daily_production_variance</td>\n",
       "      <td>0.001280</td>\n",
       "    </tr>\n",
       "    <tr>\n",
       "      <th>4</th>\n",
       "      <td>bean</td>\n",
       "      <td>0.001144</td>\n",
       "    </tr>\n",
       "    <tr>\n",
       "      <th>10</th>\n",
       "      <td>daily_flow</td>\n",
       "      <td>0.001112</td>\n",
       "    </tr>\n",
       "    <tr>\n",
       "      <th>0</th>\n",
       "      <td>SIRHAN</td>\n",
       "      <td>0.000139</td>\n",
       "    </tr>\n",
       "    <tr>\n",
       "      <th>1</th>\n",
       "      <td>WEST SAFAWI</td>\n",
       "      <td>0.000118</td>\n",
       "    </tr>\n",
       "    <tr>\n",
       "      <th>9</th>\n",
       "      <td>water_cut</td>\n",
       "      <td>0.000028</td>\n",
       "    </tr>\n",
       "    <tr>\n",
       "      <th>21</th>\n",
       "      <td>Lc_mA</td>\n",
       "      <td>0.000000</td>\n",
       "    </tr>\n",
       "  </tbody>\n",
       "</table>\n",
       "</div>"
      ],
      "text/plain": [
       "                         feature  importance\n",
       "18                          Vy_g    0.529580\n",
       "6                       Vendor 1    0.191987\n",
       "8                       Vendor 3    0.070899\n",
       "17                          Vx_g    0.042345\n",
       "19                          Tm_C    0.024575\n",
       "20                       MOR_Ohm    0.024308\n",
       "7                       Vendor 2    0.023811\n",
       "5                        esp_age    0.019423\n",
       "15                          Ti_C    0.019327\n",
       "22                          Lv_V    0.012278\n",
       "16                       Pi_Psia    0.010964\n",
       "3                          depth    0.010882\n",
       "12  avg_maintenance_cost_monthly    0.007629\n",
       "13                    avg_uptime    0.004079\n",
       "2                      perf_diff    0.002483\n",
       "11               num_work_orders    0.001609\n",
       "14     daily_production_variance    0.001280\n",
       "4                           bean    0.001144\n",
       "10                    daily_flow    0.001112\n",
       "0                         SIRHAN    0.000139\n",
       "1                    WEST SAFAWI    0.000118\n",
       "9                      water_cut    0.000028\n",
       "21                         Lc_mA    0.000000"
      ]
     },
     "execution_count": 163,
     "metadata": {},
     "output_type": "execute_result"
    }
   ],
   "source": [
    "pd.DataFrame({'feature':feature_cols, 'importance':clf.feature_importances_}).sort_values(by='importance',ascending=False)"
   ]
  },
  {
   "cell_type": "code",
   "execution_count": null,
   "metadata": {
    "collapsed": true
   },
   "outputs": [],
   "source": []
  },
  {
   "cell_type": "markdown",
   "metadata": {
    "collapsed": true
   },
   "source": [
    "## Next Steps\n",
    "\n",
    "Oversample minority class and run both models\n",
    "\n",
    "Use cross validation to get the best recall rate from the logistic regression and random forest models. \n",
    "\n",
    "For further analysis, I would use all 3 classes in a random forest model and compare it with a multiclass classification model. \n",
    "\n",
    "I would also try a survival analysis to analyze the time it would take for an ESP to go from ‘warning’ to ‘down’. Python offers an awesome package called lifelines.\n",
    "\n",
    "\n",
    "\n",
    "\n",
    "\n"
   ]
  }
 ],
 "metadata": {
  "kernelspec": {
   "display_name": "Python 2",
   "language": "python",
   "name": "python2"
  },
  "language_info": {
   "codemirror_mode": {
    "name": "ipython",
    "version": 2
   },
   "file_extension": ".py",
   "mimetype": "text/x-python",
   "name": "python",
   "nbconvert_exporter": "python",
   "pygments_lexer": "ipython2",
   "version": "2.7.12"
  }
 },
 "nbformat": 4,
 "nbformat_minor": 0
}
