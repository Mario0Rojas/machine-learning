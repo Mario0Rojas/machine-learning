{
 "cells": [
  {
   "cell_type": "code",
   "execution_count": 1,
   "metadata": {
    "collapsed": false
   },
   "outputs": [],
   "source": [
    "import matplotlib.pyplot as plt\n",
    "from math import sqrt\n",
    "from random import randrange,seed\n",
    "%matplotlib inline"
   ]
  },
  {
   "cell_type": "markdown",
   "metadata": {},
   "source": [
    "## Simple Linear Regression\n",
    "\n"
   ]
  },
  {
   "cell_type": "markdown",
   "metadata": {},
   "source": [
    "Simple Linear Regression Formula:\n",
    "\n",
    "$$ Y = B_0 + B_1X $$\n",
    "\n",
    "Y = Response\n",
    "\n",
    "X = Feature\n",
    "\n",
    "$ B_0 , B_1 $ = model coefficients\n",
    "\n",
    "We must 'learn' the values of the coefficients in order to create our model. Once we learn the coefficients, we can use the model to predict $Y$\n",
    "\n",
    "The formula for $B_0$ is :\n",
    "$$\\hat{B_0} = \\bar{y} - \\hat{B_1} \\bar{x}$$\n",
    "\n",
    "The formula for $B_1$ is :\n",
    "$$\\hat{B_1} = \\frac{\\sum_{i=1}^n (x_i-\\bar{x}) * (y_i - \\bar{y})}{\\sum_{i=1}^n(x_i-\\bar{x})^2}$$\n"
   ]
  },
  {
   "cell_type": "markdown",
   "metadata": {},
   "source": [
    "#### Mean and Variance"
   ]
  },
  {
   "cell_type": "markdown",
   "metadata": {},
   "source": [
    "First, I need to estimate the mean and the variance of the dependent and independent variables\n",
    "\n",
    "$$mean(x)= \\frac{\\sum_{i=1} x_i}{count(x)}$$"
   ]
  },
  {
   "cell_type": "code",
   "execution_count": 2,
   "metadata": {
    "collapsed": false
   },
   "outputs": [],
   "source": [
    "\"\"\"\n",
    "A function that calculates the mean of a list of numbers\n",
    "\"\"\"\n",
    "def mean(values):\n",
    "    x = sum(values)/float(len(values))\n",
    "    return x"
   ]
  },
  {
   "cell_type": "markdown",
   "metadata": {},
   "source": [
    "The variance is the sum square differences for each value from the mean value.\n",
    "\n",
    "$$variance = \\sum_{i=1}^{n} (x_i-mean(x))^2 $$"
   ]
  },
  {
   "cell_type": "code",
   "execution_count": 3,
   "metadata": {
    "collapsed": true
   },
   "outputs": [],
   "source": [
    "\"\"\"\n",
    "A function that calculates the variance of a list of numbers.\n",
    "\n",
    "Args:\n",
    "    values: list of numbers\n",
    "    mean: takes the mean calculation\n",
    "    \n",
    "Returns:\n",
    "    x: the variance which is the sum square differences for each value from the mean value\n",
    "\"\"\"\n",
    "def variance(values, mean):\n",
    "    x = sum([(x-mean)**2 for x in values])\n",
    "    return x"
   ]
  },
  {
   "cell_type": "markdown",
   "metadata": {},
   "source": [
    "Creating the data"
   ]
  },
  {
   "cell_type": "code",
   "execution_count": 4,
   "metadata": {
    "collapsed": false
   },
   "outputs": [
    {
     "name": "stdout",
     "output_type": "stream",
     "text": [
      "[(1, 1), (2, 2), (3, 4), (4, 6), (5, 5), (6, 8), (7, 7.9), (8, 8.6), (9, 9.5), (10, 9), (11, 11), (12, 12.5), (13, 13), (14, 13.5)]\n"
     ]
    }
   ],
   "source": [
    "x = list(range(1,15))\n",
    "y = [1,2,4,6,5,8,7.9,8.6,9.5,9,11,12.5,13,13.5]\n",
    "data = zip(x,y)\n",
    "print data # 14 datapoints"
   ]
  },
  {
   "cell_type": "code",
   "execution_count": 5,
   "metadata": {
    "collapsed": false
   },
   "outputs": [
    {
     "data": {
      "image/png": "[encoded data removed]",
      "text/plain": [
       "<matplotlib.figure.Figure at 0x7fed85c5a310>"
      ]
     },
     "metadata": {},
     "output_type": "display_data"
    }
   ],
   "source": [
    "plt.scatter(x,y);"
   ]
  },
  {
   "cell_type": "markdown",
   "metadata": {},
   "source": [
    "Print the mean and variance of x and y"
   ]
  },
  {
   "cell_type": "code",
   "execution_count": 6,
   "metadata": {
    "collapsed": false
   },
   "outputs": [
    {
     "name": "stdout",
     "output_type": "stream",
     "text": [
      "x stats: mean=7.500 variance=227.500 | y stats: mean=7.929 variance=202.049 \n"
     ]
    }
   ],
   "source": [
    "x = [row[0] for row in data]\n",
    "y = [row[1] for row in data]\n",
    "mean_x, mean_y = mean(x), mean(y)\n",
    "var_x, var_y = variance(x,mean_x), variance(y,mean_y)\n",
    "print 'x stats: mean={:.3f} variance={:.3f} | y stats: mean={:.3f} variance={:.3f} '.format(mean_x,var_x,mean_y,var_y)"
   ]
  },
  {
   "cell_type": "markdown",
   "metadata": {},
   "source": [
    "#### Covariance"
   ]
  },
  {
   "cell_type": "markdown",
   "metadata": {},
   "source": [
    "Covariance is a measure of how much 2 groups vary together. It is quite similar to variance, but where variance tells you how a single group varies, covariance tells you how 2 groups vary together.\n",
    "\n",
    "Covariance is a generalization of correlation. Correlation describes the relationship between two groups of numbers. Covariance can describe the relationship between 2 or more groups of numbers. Covariance can be normalized to produce the correlation value.\n",
    "\n",
    "$$covariance(x,y) = \\sum_{i=1}^{n} (x_i-mean(x)) * (y_i - mean(y)) $$"
   ]
  },
  {
   "cell_type": "code",
   "execution_count": 7,
   "metadata": {
    "collapsed": true
   },
   "outputs": [],
   "source": [
    "\"\"\"\n",
    "A function that calculates the variance of a list of numbers.\n",
    "\n",
    "Args:\n",
    "    values: list of numbers\n",
    "    mean: takes the mean calculation\n",
    "    \n",
    "Returns:\n",
    "    x: the sum square differences for each value from the mean value\n",
    "\"\"\"\n",
    "def covariance(x, mean_x, y, mean_y):\n",
    "    c = 0\n",
    "    for i in range (len(x)):\n",
    "        c += (x[i] - mean_x) * (y[i] - mean_y)\n",
    "    return c"
   ]
  },
  {
   "cell_type": "code",
   "execution_count": 8,
   "metadata": {
    "collapsed": false
   },
   "outputs": [
    {
     "name": "stdout",
     "output_type": "stream",
     "text": [
      "[1, 2, 3, 4, 5, 6, 7, 8, 9, 10, 11, 12, 13, 14] [1, 2, 4, 6, 5, 8, 7.9, 8.6, 9.5, 9, 11, 12.5, 13, 13.5]\n",
      "7.5 7.92857142857\n",
      "Covariance=210.100\n"
     ]
    }
   ],
   "source": [
    "print x,y\n",
    "print mean_x, mean_y\n",
    "cov = covariance (x, mean_x, y, mean_y)\n",
    "\n",
    "print 'Covariance={:.3f}'.format(cov)"
   ]
  },
  {
   "cell_type": "markdown",
   "metadata": {},
   "source": [
    "#### Estimating the Coefficients"
   ]
  },
  {
   "cell_type": "markdown",
   "metadata": {},
   "source": [
    "It's time to estimate the 2 coefficients (B0 and B1) in simple linear regression. \n",
    "\n",
    "The formula for B1 is:\n",
    "$$B1 = \\frac{\\sum_{i=1}^n (x_i-mean(x)) * (y_i - mean(y))}{\\sum_{i=1}^n(x_i-mean(x))^2}$$\n",
    "which is simply..\n",
    "$$B1 = \\frac{covariance(x,y)}{variance(x)}$$\n",
    "\n",
    "The formula for B0 is:\n",
    "$$B0 = mean(y) - B1 * mean(x)$$"
   ]
  },
  {
   "cell_type": "code",
   "execution_count": 9,
   "metadata": {
    "collapsed": false
   },
   "outputs": [],
   "source": [
    "\"\"\"\n",
    "A function that seperates the dataset into individual lists of x and y and uses the mean, variance and covariance\n",
    "functions to calculate the coefficients b0 and b1\n",
    "\"\"\"\n",
    "def coefficients(dataset):\n",
    "    x = [row[0] for row in dataset]\n",
    "    y = [row[1] for row in dataset]\n",
    "    x_mean, y_mean = mean(x), mean(y)\n",
    "    b1 = covariance(x, x_mean, y, y_mean)/ variance(x, x_mean)\n",
    "    bO = y_mean - b1 * x_mean\n",
    "    return bO, b1"
   ]
  },
  {
   "cell_type": "code",
   "execution_count": 10,
   "metadata": {
    "collapsed": false
   },
   "outputs": [
    {
     "name": "stdout",
     "output_type": "stream",
     "text": [
      "Coefficients - B0=1.002, B1=0.924\n"
     ]
    }
   ],
   "source": [
    "BO, B1 = coefficients(data)\n",
    "print 'Coefficients - B0={:.3f}, B1={:.3f}'.format(BO,B1)"
   ]
  },
  {
   "cell_type": "markdown",
   "metadata": {},
   "source": [
    "#### Train Test Split"
   ]
  },
  {
   "cell_type": "markdown",
   "metadata": {},
   "source": [
    "Before making the predictions, I need to create a train test split function\n",
    "\n",
    "The train and split is a resampling method used to seperate a dataset into 2 parts (train & test). The training set is used by the machine learning algorithm to train the model."
   ]
  },
  {
   "cell_type": "code",
   "execution_count": 11,
   "metadata": {
    "collapsed": true
   },
   "outputs": [],
   "source": [
    "\"\"\"\n",
    "A functions that splits the data into train and test lists\n",
    "\"\"\"\n",
    "\n",
    "def train_test_split(dataset, split ):  #\n",
    "    train = list()\n",
    "    train_size = split * len(dataset)\n",
    "    dataset_copy = list(dataset)\n",
    "    while len(train) < train_size:\n",
    "        index = randrange(len(dataset_copy)) # pull a random number from data_copy\n",
    "        train.append(dataset_copy.pop(index)) # pop removes the index from data_copy and appends the data to train\n",
    "    return train, dataset_copy"
   ]
  },
  {
   "cell_type": "code",
   "execution_count": 12,
   "metadata": {
    "collapsed": false
   },
   "outputs": [
    {
     "data": {
      "text/plain": [
       "([(2, 1), (2, 4), (3, 4)], [(3, 4), (2, 2), (4, 3)])"
      ]
     },
     "execution_count": 12,
     "metadata": {},
     "output_type": "execute_result"
    }
   ],
   "source": [
    "m = [2,3,2,4,3,2]\n",
    "l = [1,4,2,3,4,4]\n",
    "ml=zip(m,l)\n",
    "train_test_split(ml, split=.5)"
   ]
  },
  {
   "cell_type": "markdown",
   "metadata": {},
   "source": [
    "#### Make Predictions"
   ]
  },
  {
   "cell_type": "markdown",
   "metadata": {},
   "source": [
    "Now that I know the coefficients, I can use them to make predictions\n",
    "This is the formula to make predictions in a simple linear regression:\n",
    "\n",
    "$$ y = b_0 + b_1*x $$"
   ]
  },
  {
   "cell_type": "markdown",
   "metadata": {},
   "source": [
    "The following function implements the prediction equation to make predictions on a test dataset. It implement the coefficient function on the training data. The coefficients from the training data are used to make predictions on the test data."
   ]
  },
  {
   "cell_type": "code",
   "execution_count": 13,
   "metadata": {
    "collapsed": true
   },
   "outputs": [],
   "source": [
    "\"\"\"\n",
    "A function that implements the simple linear regression formula to predict the test dataset\n",
    "\"\"\"\n",
    "def simple_LR(train, test):\n",
    "    predictions = list()\n",
    "    bO, b1 = coefficients(train)\n",
    "    for row in test:\n",
    "        predict_y = bO + b1 * row[0]\n",
    "        predictions.append(predict_y)\n",
    "    return predictions"
   ]
  },
  {
   "cell_type": "markdown",
   "metadata": {},
   "source": [
    "#### Evaluation\n",
    "In order to evaluate the model, I'll use the root mean squared error.\n",
    "\n",
    "It is the square root of the mean of the square of all of the error.\n",
    "\n",
    "The use of RMSE is very common and it makes an excellent general purpose error metric for numerical predictions.\n",
    "\n",
    "Compared to the similar Mean Absolute Error, RMSE amplifies and severely punishes large errors.\n",
    "\n",
    "$$ RMSE = \\sqrt{\\frac{1}{n}\\sum_{i=1}^n (y_i - \\hat{y_i}})^2 $$\n",
    "\n",
    "                                                Low RMSE indicates a good fit"
   ]
  },
  {
   "cell_type": "code",
   "execution_count": 14,
   "metadata": {
    "collapsed": true
   },
   "outputs": [],
   "source": [
    "\"\"\"\n",
    "A function that calculates the square root of the mean of the squared differences between actual outcomes and predictions\n",
    "\"\"\"\n",
    "def rmse(actual, predicted):\n",
    "    sum_err = 0.0\n",
    "    actual_len = len(actual)\n",
    "    for i in range(actual_len):\n",
    "        prediction_err = actual[i] - predicted[i]\n",
    "        sum_err += (prediction_err ** 2)\n",
    "    mean_error = sum_err / float(actual_len)\n",
    "    return sqrt(mean_error)"
   ]
  },
  {
   "cell_type": "markdown",
   "metadata": {},
   "source": [
    "Now I'll tie everything together with the following function"
   ]
  },
  {
   "cell_type": "code",
   "execution_count": 15,
   "metadata": {
    "collapsed": true
   },
   "outputs": [],
   "source": [
    "\"\"\"\n",
    "A function that evaluates the dataset using the functions simple_LR and train_test_split and rmse\n",
    "\"\"\"\n",
    "def eval_alg(dataset, algorithm, split=.7,*args):  # split is set at .70 as default\n",
    "    train, test = train_test_split(dataset, split)\n",
    "    test_set = list()\n",
    "    for row in test:\n",
    "        row_copy = list(row)\n",
    "        row_copy[-1] = None  # for each row replace y with None\n",
    "        test_set.append(row_copy) # append each row to test_set\n",
    "    predicted = algorithm(train, test_set, *args) # run simple_LR function\n",
    "    actual = [row[-1] for row in test] # takes every Y from the list\n",
    "    rootrmse = rmse(actual, predicted) # run rmse function \n",
    "    return rootrmse"
   ]
  },
  {
   "cell_type": "markdown",
   "metadata": {},
   "source": [
    "The last piece of code prints the root mean square error metric"
   ]
  },
  {
   "cell_type": "code",
   "execution_count": 16,
   "metadata": {
    "collapsed": false
   },
   "outputs": [
    {
     "name": "stdout",
     "output_type": "stream",
     "text": [
      "Root Mean Square Error=0.417102890776\n"
     ]
    }
   ],
   "source": [
    "seed(3)\n",
    "rmse_metric = eval_alg(data, simple_LR, split=.60) # using .60 for training size\n",
    "print 'Root Mean Square Error={}'.format(rmse_metric)"
   ]
  },
  {
   "cell_type": "markdown",
   "metadata": {},
   "source": [
    "**For part 2 I'll use this code on a dataset from [UCI Machine Learning Repository](https://archive.ics.uci.edu/ml/index.html).**"
   ]
  },
  {
   "cell_type": "code",
   "execution_count": null,
   "metadata": {
    "collapsed": true
   },
   "outputs": [],
   "source": []
  }
 ],
 "metadata": {
  "kernelspec": {
   "display_name": "Python 2",
   "language": "python",
   "name": "python2"
  },
  "language_info": {
   "codemirror_mode": {
    "name": "ipython",
    "version": 2
   },
   "file_extension": ".py",
   "mimetype": "text/x-python",
   "name": "python",
   "nbconvert_exporter": "python",
   "pygments_lexer": "ipython2",
   "version": "2.7.12"
  }
 },
 "nbformat": 4,
 "nbformat_minor": 2
}
